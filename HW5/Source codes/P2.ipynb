{
 "cells": [
  {
   "cell_type": "code",
   "execution_count": 71,
   "metadata": {
    "collapsed": true,
    "pycharm": {
     "name": "#%%\n"
    }
   },
   "outputs": [],
   "source": [
    "import pandas as pd\n",
    "import numpy as np\n",
    "import random\n",
    "import math\n",
    "from sklearn.metrics import accuracy_score\n",
    "import statistics"
   ]
  },
  {
   "cell_type": "markdown",
   "source": [
    "# part A"
   ],
   "metadata": {
    "collapsed": false,
    "pycharm": {
     "name": "#%% md\n"
    }
   }
  },
  {
   "cell_type": "code",
   "execution_count": 2,
   "outputs": [
    {
     "data": {
      "text/plain": "     Unnamed: 0       Category  Age Sex   ALB    ALP    ALT    AST   BIL  \\\n0             1  0=Blood Donor   32   m  38.5   52.5    7.7   22.1   7.5   \n1             2  0=Blood Donor   32   m  38.5   70.3   18.0   24.7   3.9   \n2             3  0=Blood Donor   32   m  46.9   74.7   36.2   52.6   6.1   \n3             4  0=Blood Donor   32   m  43.2   52.0   30.6   22.6  18.9   \n4             5  0=Blood Donor   32   m  39.2   74.1   32.6   24.8   9.6   \n..          ...            ...  ...  ..   ...    ...    ...    ...   ...   \n610         611    3=Cirrhosis   62   f  32.0  416.6    5.9  110.3  50.0   \n611         612    3=Cirrhosis   64   f  24.0  102.8    2.9   44.4  20.0   \n612         613    3=Cirrhosis   64   f  29.0   87.3    3.5   99.0  48.0   \n613         614    3=Cirrhosis   46   f  33.0    NaN   39.0   62.0  20.0   \n614         615    3=Cirrhosis   59   f  36.0    NaN  100.0   80.0  12.0   \n\n       CHE  CHOL   CREA    GGT  PROT  \n0     6.93  3.23  106.0   12.1  69.0  \n1    11.17  4.80   74.0   15.6  76.5  \n2     8.84  5.20   86.0   33.2  79.3  \n3     7.33  4.74   80.0   33.8  75.7  \n4     9.15  4.32   76.0   29.9  68.7  \n..     ...   ...    ...    ...   ...  \n610   5.57  6.30   55.7  650.9  68.5  \n611   1.54  3.02   63.0   35.9  71.3  \n612   1.66  3.63   66.7   64.2  82.0  \n613   3.56  4.20   52.0   50.0  71.0  \n614   9.07  5.30   67.0   34.0  68.0  \n\n[615 rows x 14 columns]",
      "text/html": "<div>\n<style scoped>\n    .dataframe tbody tr th:only-of-type {\n        vertical-align: middle;\n    }\n\n    .dataframe tbody tr th {\n        vertical-align: top;\n    }\n\n    .dataframe thead th {\n        text-align: right;\n    }\n</style>\n<table border=\"1\" class=\"dataframe\">\n  <thead>\n    <tr style=\"text-align: right;\">\n      <th></th>\n      <th>Unnamed: 0</th>\n      <th>Category</th>\n      <th>Age</th>\n      <th>Sex</th>\n      <th>ALB</th>\n      <th>ALP</th>\n      <th>ALT</th>\n      <th>AST</th>\n      <th>BIL</th>\n      <th>CHE</th>\n      <th>CHOL</th>\n      <th>CREA</th>\n      <th>GGT</th>\n      <th>PROT</th>\n    </tr>\n  </thead>\n  <tbody>\n    <tr>\n      <th>0</th>\n      <td>1</td>\n      <td>0=Blood Donor</td>\n      <td>32</td>\n      <td>m</td>\n      <td>38.5</td>\n      <td>52.5</td>\n      <td>7.7</td>\n      <td>22.1</td>\n      <td>7.5</td>\n      <td>6.93</td>\n      <td>3.23</td>\n      <td>106.0</td>\n      <td>12.1</td>\n      <td>69.0</td>\n    </tr>\n    <tr>\n      <th>1</th>\n      <td>2</td>\n      <td>0=Blood Donor</td>\n      <td>32</td>\n      <td>m</td>\n      <td>38.5</td>\n      <td>70.3</td>\n      <td>18.0</td>\n      <td>24.7</td>\n      <td>3.9</td>\n      <td>11.17</td>\n      <td>4.80</td>\n      <td>74.0</td>\n      <td>15.6</td>\n      <td>76.5</td>\n    </tr>\n    <tr>\n      <th>2</th>\n      <td>3</td>\n      <td>0=Blood Donor</td>\n      <td>32</td>\n      <td>m</td>\n      <td>46.9</td>\n      <td>74.7</td>\n      <td>36.2</td>\n      <td>52.6</td>\n      <td>6.1</td>\n      <td>8.84</td>\n      <td>5.20</td>\n      <td>86.0</td>\n      <td>33.2</td>\n      <td>79.3</td>\n    </tr>\n    <tr>\n      <th>3</th>\n      <td>4</td>\n      <td>0=Blood Donor</td>\n      <td>32</td>\n      <td>m</td>\n      <td>43.2</td>\n      <td>52.0</td>\n      <td>30.6</td>\n      <td>22.6</td>\n      <td>18.9</td>\n      <td>7.33</td>\n      <td>4.74</td>\n      <td>80.0</td>\n      <td>33.8</td>\n      <td>75.7</td>\n    </tr>\n    <tr>\n      <th>4</th>\n      <td>5</td>\n      <td>0=Blood Donor</td>\n      <td>32</td>\n      <td>m</td>\n      <td>39.2</td>\n      <td>74.1</td>\n      <td>32.6</td>\n      <td>24.8</td>\n      <td>9.6</td>\n      <td>9.15</td>\n      <td>4.32</td>\n      <td>76.0</td>\n      <td>29.9</td>\n      <td>68.7</td>\n    </tr>\n    <tr>\n      <th>...</th>\n      <td>...</td>\n      <td>...</td>\n      <td>...</td>\n      <td>...</td>\n      <td>...</td>\n      <td>...</td>\n      <td>...</td>\n      <td>...</td>\n      <td>...</td>\n      <td>...</td>\n      <td>...</td>\n      <td>...</td>\n      <td>...</td>\n      <td>...</td>\n    </tr>\n    <tr>\n      <th>610</th>\n      <td>611</td>\n      <td>3=Cirrhosis</td>\n      <td>62</td>\n      <td>f</td>\n      <td>32.0</td>\n      <td>416.6</td>\n      <td>5.9</td>\n      <td>110.3</td>\n      <td>50.0</td>\n      <td>5.57</td>\n      <td>6.30</td>\n      <td>55.7</td>\n      <td>650.9</td>\n      <td>68.5</td>\n    </tr>\n    <tr>\n      <th>611</th>\n      <td>612</td>\n      <td>3=Cirrhosis</td>\n      <td>64</td>\n      <td>f</td>\n      <td>24.0</td>\n      <td>102.8</td>\n      <td>2.9</td>\n      <td>44.4</td>\n      <td>20.0</td>\n      <td>1.54</td>\n      <td>3.02</td>\n      <td>63.0</td>\n      <td>35.9</td>\n      <td>71.3</td>\n    </tr>\n    <tr>\n      <th>612</th>\n      <td>613</td>\n      <td>3=Cirrhosis</td>\n      <td>64</td>\n      <td>f</td>\n      <td>29.0</td>\n      <td>87.3</td>\n      <td>3.5</td>\n      <td>99.0</td>\n      <td>48.0</td>\n      <td>1.66</td>\n      <td>3.63</td>\n      <td>66.7</td>\n      <td>64.2</td>\n      <td>82.0</td>\n    </tr>\n    <tr>\n      <th>613</th>\n      <td>614</td>\n      <td>3=Cirrhosis</td>\n      <td>46</td>\n      <td>f</td>\n      <td>33.0</td>\n      <td>NaN</td>\n      <td>39.0</td>\n      <td>62.0</td>\n      <td>20.0</td>\n      <td>3.56</td>\n      <td>4.20</td>\n      <td>52.0</td>\n      <td>50.0</td>\n      <td>71.0</td>\n    </tr>\n    <tr>\n      <th>614</th>\n      <td>615</td>\n      <td>3=Cirrhosis</td>\n      <td>59</td>\n      <td>f</td>\n      <td>36.0</td>\n      <td>NaN</td>\n      <td>100.0</td>\n      <td>80.0</td>\n      <td>12.0</td>\n      <td>9.07</td>\n      <td>5.30</td>\n      <td>67.0</td>\n      <td>34.0</td>\n      <td>68.0</td>\n    </tr>\n  </tbody>\n</table>\n<p>615 rows × 14 columns</p>\n</div>"
     },
     "execution_count": 2,
     "metadata": {},
     "output_type": "execute_result"
    }
   ],
   "source": [
    "data = pd.read_csv(\"HCV.csv\")\n",
    "data"
   ],
   "metadata": {
    "collapsed": false,
    "pycharm": {
     "name": "#%%\n"
    }
   }
  },
  {
   "cell_type": "code",
   "execution_count": 3,
   "outputs": [
    {
     "data": {
      "text/plain": "     Unnamed: 0       Category  Age  Sex   ALB    ALP    ALT    AST   BIL  \\\n0             1  0=Blood Donor   32    0  38.5   52.5    7.7   22.1   7.5   \n1             2  0=Blood Donor   32    0  38.5   70.3   18.0   24.7   3.9   \n2             3  0=Blood Donor   32    0  46.9   74.7   36.2   52.6   6.1   \n3             4  0=Blood Donor   32    0  43.2   52.0   30.6   22.6  18.9   \n4             5  0=Blood Donor   32    0  39.2   74.1   32.6   24.8   9.6   \n..          ...            ...  ...  ...   ...    ...    ...    ...   ...   \n610         611    3=Cirrhosis   62    1  32.0  416.6    5.9  110.3  50.0   \n611         612    3=Cirrhosis   64    1  24.0  102.8    2.9   44.4  20.0   \n612         613    3=Cirrhosis   64    1  29.0   87.3    3.5   99.0  48.0   \n613         614    3=Cirrhosis   46    1  33.0    NaN   39.0   62.0  20.0   \n614         615    3=Cirrhosis   59    1  36.0    NaN  100.0   80.0  12.0   \n\n       CHE  CHOL   CREA    GGT  PROT  \n0     6.93  3.23  106.0   12.1  69.0  \n1    11.17  4.80   74.0   15.6  76.5  \n2     8.84  5.20   86.0   33.2  79.3  \n3     7.33  4.74   80.0   33.8  75.7  \n4     9.15  4.32   76.0   29.9  68.7  \n..     ...   ...    ...    ...   ...  \n610   5.57  6.30   55.7  650.9  68.5  \n611   1.54  3.02   63.0   35.9  71.3  \n612   1.66  3.63   66.7   64.2  82.0  \n613   3.56  4.20   52.0   50.0  71.0  \n614   9.07  5.30   67.0   34.0  68.0  \n\n[615 rows x 14 columns]",
      "text/html": "<div>\n<style scoped>\n    .dataframe tbody tr th:only-of-type {\n        vertical-align: middle;\n    }\n\n    .dataframe tbody tr th {\n        vertical-align: top;\n    }\n\n    .dataframe thead th {\n        text-align: right;\n    }\n</style>\n<table border=\"1\" class=\"dataframe\">\n  <thead>\n    <tr style=\"text-align: right;\">\n      <th></th>\n      <th>Unnamed: 0</th>\n      <th>Category</th>\n      <th>Age</th>\n      <th>Sex</th>\n      <th>ALB</th>\n      <th>ALP</th>\n      <th>ALT</th>\n      <th>AST</th>\n      <th>BIL</th>\n      <th>CHE</th>\n      <th>CHOL</th>\n      <th>CREA</th>\n      <th>GGT</th>\n      <th>PROT</th>\n    </tr>\n  </thead>\n  <tbody>\n    <tr>\n      <th>0</th>\n      <td>1</td>\n      <td>0=Blood Donor</td>\n      <td>32</td>\n      <td>0</td>\n      <td>38.5</td>\n      <td>52.5</td>\n      <td>7.7</td>\n      <td>22.1</td>\n      <td>7.5</td>\n      <td>6.93</td>\n      <td>3.23</td>\n      <td>106.0</td>\n      <td>12.1</td>\n      <td>69.0</td>\n    </tr>\n    <tr>\n      <th>1</th>\n      <td>2</td>\n      <td>0=Blood Donor</td>\n      <td>32</td>\n      <td>0</td>\n      <td>38.5</td>\n      <td>70.3</td>\n      <td>18.0</td>\n      <td>24.7</td>\n      <td>3.9</td>\n      <td>11.17</td>\n      <td>4.80</td>\n      <td>74.0</td>\n      <td>15.6</td>\n      <td>76.5</td>\n    </tr>\n    <tr>\n      <th>2</th>\n      <td>3</td>\n      <td>0=Blood Donor</td>\n      <td>32</td>\n      <td>0</td>\n      <td>46.9</td>\n      <td>74.7</td>\n      <td>36.2</td>\n      <td>52.6</td>\n      <td>6.1</td>\n      <td>8.84</td>\n      <td>5.20</td>\n      <td>86.0</td>\n      <td>33.2</td>\n      <td>79.3</td>\n    </tr>\n    <tr>\n      <th>3</th>\n      <td>4</td>\n      <td>0=Blood Donor</td>\n      <td>32</td>\n      <td>0</td>\n      <td>43.2</td>\n      <td>52.0</td>\n      <td>30.6</td>\n      <td>22.6</td>\n      <td>18.9</td>\n      <td>7.33</td>\n      <td>4.74</td>\n      <td>80.0</td>\n      <td>33.8</td>\n      <td>75.7</td>\n    </tr>\n    <tr>\n      <th>4</th>\n      <td>5</td>\n      <td>0=Blood Donor</td>\n      <td>32</td>\n      <td>0</td>\n      <td>39.2</td>\n      <td>74.1</td>\n      <td>32.6</td>\n      <td>24.8</td>\n      <td>9.6</td>\n      <td>9.15</td>\n      <td>4.32</td>\n      <td>76.0</td>\n      <td>29.9</td>\n      <td>68.7</td>\n    </tr>\n    <tr>\n      <th>...</th>\n      <td>...</td>\n      <td>...</td>\n      <td>...</td>\n      <td>...</td>\n      <td>...</td>\n      <td>...</td>\n      <td>...</td>\n      <td>...</td>\n      <td>...</td>\n      <td>...</td>\n      <td>...</td>\n      <td>...</td>\n      <td>...</td>\n      <td>...</td>\n    </tr>\n    <tr>\n      <th>610</th>\n      <td>611</td>\n      <td>3=Cirrhosis</td>\n      <td>62</td>\n      <td>1</td>\n      <td>32.0</td>\n      <td>416.6</td>\n      <td>5.9</td>\n      <td>110.3</td>\n      <td>50.0</td>\n      <td>5.57</td>\n      <td>6.30</td>\n      <td>55.7</td>\n      <td>650.9</td>\n      <td>68.5</td>\n    </tr>\n    <tr>\n      <th>611</th>\n      <td>612</td>\n      <td>3=Cirrhosis</td>\n      <td>64</td>\n      <td>1</td>\n      <td>24.0</td>\n      <td>102.8</td>\n      <td>2.9</td>\n      <td>44.4</td>\n      <td>20.0</td>\n      <td>1.54</td>\n      <td>3.02</td>\n      <td>63.0</td>\n      <td>35.9</td>\n      <td>71.3</td>\n    </tr>\n    <tr>\n      <th>612</th>\n      <td>613</td>\n      <td>3=Cirrhosis</td>\n      <td>64</td>\n      <td>1</td>\n      <td>29.0</td>\n      <td>87.3</td>\n      <td>3.5</td>\n      <td>99.0</td>\n      <td>48.0</td>\n      <td>1.66</td>\n      <td>3.63</td>\n      <td>66.7</td>\n      <td>64.2</td>\n      <td>82.0</td>\n    </tr>\n    <tr>\n      <th>613</th>\n      <td>614</td>\n      <td>3=Cirrhosis</td>\n      <td>46</td>\n      <td>1</td>\n      <td>33.0</td>\n      <td>NaN</td>\n      <td>39.0</td>\n      <td>62.0</td>\n      <td>20.0</td>\n      <td>3.56</td>\n      <td>4.20</td>\n      <td>52.0</td>\n      <td>50.0</td>\n      <td>71.0</td>\n    </tr>\n    <tr>\n      <th>614</th>\n      <td>615</td>\n      <td>3=Cirrhosis</td>\n      <td>59</td>\n      <td>1</td>\n      <td>36.0</td>\n      <td>NaN</td>\n      <td>100.0</td>\n      <td>80.0</td>\n      <td>12.0</td>\n      <td>9.07</td>\n      <td>5.30</td>\n      <td>67.0</td>\n      <td>34.0</td>\n      <td>68.0</td>\n    </tr>\n  </tbody>\n</table>\n<p>615 rows × 14 columns</p>\n</div>"
     },
     "execution_count": 3,
     "metadata": {},
     "output_type": "execute_result"
    }
   ],
   "source": [
    "data['Sex'].replace(['m', 'f'],\n",
    "                    [0, 1], inplace=True)\n",
    "data"
   ],
   "metadata": {
    "collapsed": false,
    "pycharm": {
     "name": "#%%\n"
    }
   }
  },
  {
   "cell_type": "code",
   "execution_count": 4,
   "outputs": [
    {
     "data": {
      "text/plain": "     Unnamed: 0  Category  Age  Sex   ALB    ALP    ALT    AST   BIL    CHE  \\\n0             1         0   32    0  38.5   52.5    7.7   22.1   7.5   6.93   \n1             2         0   32    0  38.5   70.3   18.0   24.7   3.9  11.17   \n2             3         0   32    0  46.9   74.7   36.2   52.6   6.1   8.84   \n3             4         0   32    0  43.2   52.0   30.6   22.6  18.9   7.33   \n4             5         0   32    0  39.2   74.1   32.6   24.8   9.6   9.15   \n..          ...       ...  ...  ...   ...    ...    ...    ...   ...    ...   \n610         611         3   62    1  32.0  416.6    5.9  110.3  50.0   5.57   \n611         612         3   64    1  24.0  102.8    2.9   44.4  20.0   1.54   \n612         613         3   64    1  29.0   87.3    3.5   99.0  48.0   1.66   \n613         614         3   46    1  33.0    NaN   39.0   62.0  20.0   3.56   \n614         615         3   59    1  36.0    NaN  100.0   80.0  12.0   9.07   \n\n     CHOL   CREA    GGT  PROT  \n0    3.23  106.0   12.1  69.0  \n1    4.80   74.0   15.6  76.5  \n2    5.20   86.0   33.2  79.3  \n3    4.74   80.0   33.8  75.7  \n4    4.32   76.0   29.9  68.7  \n..    ...    ...    ...   ...  \n610  6.30   55.7  650.9  68.5  \n611  3.02   63.0   35.9  71.3  \n612  3.63   66.7   64.2  82.0  \n613  4.20   52.0   50.0  71.0  \n614  5.30   67.0   34.0  68.0  \n\n[615 rows x 14 columns]",
      "text/html": "<div>\n<style scoped>\n    .dataframe tbody tr th:only-of-type {\n        vertical-align: middle;\n    }\n\n    .dataframe tbody tr th {\n        vertical-align: top;\n    }\n\n    .dataframe thead th {\n        text-align: right;\n    }\n</style>\n<table border=\"1\" class=\"dataframe\">\n  <thead>\n    <tr style=\"text-align: right;\">\n      <th></th>\n      <th>Unnamed: 0</th>\n      <th>Category</th>\n      <th>Age</th>\n      <th>Sex</th>\n      <th>ALB</th>\n      <th>ALP</th>\n      <th>ALT</th>\n      <th>AST</th>\n      <th>BIL</th>\n      <th>CHE</th>\n      <th>CHOL</th>\n      <th>CREA</th>\n      <th>GGT</th>\n      <th>PROT</th>\n    </tr>\n  </thead>\n  <tbody>\n    <tr>\n      <th>0</th>\n      <td>1</td>\n      <td>0</td>\n      <td>32</td>\n      <td>0</td>\n      <td>38.5</td>\n      <td>52.5</td>\n      <td>7.7</td>\n      <td>22.1</td>\n      <td>7.5</td>\n      <td>6.93</td>\n      <td>3.23</td>\n      <td>106.0</td>\n      <td>12.1</td>\n      <td>69.0</td>\n    </tr>\n    <tr>\n      <th>1</th>\n      <td>2</td>\n      <td>0</td>\n      <td>32</td>\n      <td>0</td>\n      <td>38.5</td>\n      <td>70.3</td>\n      <td>18.0</td>\n      <td>24.7</td>\n      <td>3.9</td>\n      <td>11.17</td>\n      <td>4.80</td>\n      <td>74.0</td>\n      <td>15.6</td>\n      <td>76.5</td>\n    </tr>\n    <tr>\n      <th>2</th>\n      <td>3</td>\n      <td>0</td>\n      <td>32</td>\n      <td>0</td>\n      <td>46.9</td>\n      <td>74.7</td>\n      <td>36.2</td>\n      <td>52.6</td>\n      <td>6.1</td>\n      <td>8.84</td>\n      <td>5.20</td>\n      <td>86.0</td>\n      <td>33.2</td>\n      <td>79.3</td>\n    </tr>\n    <tr>\n      <th>3</th>\n      <td>4</td>\n      <td>0</td>\n      <td>32</td>\n      <td>0</td>\n      <td>43.2</td>\n      <td>52.0</td>\n      <td>30.6</td>\n      <td>22.6</td>\n      <td>18.9</td>\n      <td>7.33</td>\n      <td>4.74</td>\n      <td>80.0</td>\n      <td>33.8</td>\n      <td>75.7</td>\n    </tr>\n    <tr>\n      <th>4</th>\n      <td>5</td>\n      <td>0</td>\n      <td>32</td>\n      <td>0</td>\n      <td>39.2</td>\n      <td>74.1</td>\n      <td>32.6</td>\n      <td>24.8</td>\n      <td>9.6</td>\n      <td>9.15</td>\n      <td>4.32</td>\n      <td>76.0</td>\n      <td>29.9</td>\n      <td>68.7</td>\n    </tr>\n    <tr>\n      <th>...</th>\n      <td>...</td>\n      <td>...</td>\n      <td>...</td>\n      <td>...</td>\n      <td>...</td>\n      <td>...</td>\n      <td>...</td>\n      <td>...</td>\n      <td>...</td>\n      <td>...</td>\n      <td>...</td>\n      <td>...</td>\n      <td>...</td>\n      <td>...</td>\n    </tr>\n    <tr>\n      <th>610</th>\n      <td>611</td>\n      <td>3</td>\n      <td>62</td>\n      <td>1</td>\n      <td>32.0</td>\n      <td>416.6</td>\n      <td>5.9</td>\n      <td>110.3</td>\n      <td>50.0</td>\n      <td>5.57</td>\n      <td>6.30</td>\n      <td>55.7</td>\n      <td>650.9</td>\n      <td>68.5</td>\n    </tr>\n    <tr>\n      <th>611</th>\n      <td>612</td>\n      <td>3</td>\n      <td>64</td>\n      <td>1</td>\n      <td>24.0</td>\n      <td>102.8</td>\n      <td>2.9</td>\n      <td>44.4</td>\n      <td>20.0</td>\n      <td>1.54</td>\n      <td>3.02</td>\n      <td>63.0</td>\n      <td>35.9</td>\n      <td>71.3</td>\n    </tr>\n    <tr>\n      <th>612</th>\n      <td>613</td>\n      <td>3</td>\n      <td>64</td>\n      <td>1</td>\n      <td>29.0</td>\n      <td>87.3</td>\n      <td>3.5</td>\n      <td>99.0</td>\n      <td>48.0</td>\n      <td>1.66</td>\n      <td>3.63</td>\n      <td>66.7</td>\n      <td>64.2</td>\n      <td>82.0</td>\n    </tr>\n    <tr>\n      <th>613</th>\n      <td>614</td>\n      <td>3</td>\n      <td>46</td>\n      <td>1</td>\n      <td>33.0</td>\n      <td>NaN</td>\n      <td>39.0</td>\n      <td>62.0</td>\n      <td>20.0</td>\n      <td>3.56</td>\n      <td>4.20</td>\n      <td>52.0</td>\n      <td>50.0</td>\n      <td>71.0</td>\n    </tr>\n    <tr>\n      <th>614</th>\n      <td>615</td>\n      <td>3</td>\n      <td>59</td>\n      <td>1</td>\n      <td>36.0</td>\n      <td>NaN</td>\n      <td>100.0</td>\n      <td>80.0</td>\n      <td>12.0</td>\n      <td>9.07</td>\n      <td>5.30</td>\n      <td>67.0</td>\n      <td>34.0</td>\n      <td>68.0</td>\n    </tr>\n  </tbody>\n</table>\n<p>615 rows × 14 columns</p>\n</div>"
     },
     "execution_count": 4,
     "metadata": {},
     "output_type": "execute_result"
    }
   ],
   "source": [
    "data['Category'].replace(['0=Blood Donor', '0s=suspect Blood Donor', '1=Hepatitis', '2=Fibrosis', '3=Cirrhosis'],\n",
    "                         [0, 0, 1, 2, 3], inplace=True)\n",
    "data"
   ],
   "metadata": {
    "collapsed": false,
    "pycharm": {
     "name": "#%%\n"
    }
   }
  },
  {
   "cell_type": "code",
   "execution_count": 5,
   "outputs": [
    {
     "data": {
      "text/plain": "(9.67, 1.43)"
     },
     "execution_count": 5,
     "metadata": {},
     "output_type": "execute_result"
    }
   ],
   "source": [
    "data['CHOL'].max(), data['CHOL'].min()"
   ],
   "metadata": {
    "collapsed": false,
    "pycharm": {
     "name": "#%%\n"
    }
   }
  },
  {
   "cell_type": "code",
   "execution_count": 6,
   "outputs": [
    {
     "data": {
      "text/plain": "(82.2, 14.9)"
     },
     "execution_count": 6,
     "metadata": {},
     "output_type": "execute_result"
    }
   ],
   "source": [
    "data['ALB'].max(), data['ALB'].min()"
   ],
   "metadata": {
    "collapsed": false,
    "pycharm": {
     "name": "#%%\n"
    }
   }
  },
  {
   "cell_type": "code",
   "execution_count": 7,
   "outputs": [
    {
     "data": {
      "text/plain": "Unnamed: 0     0\nCategory       0\nAge            0\nSex            0\nALB            1\nALP           18\nALT            1\nAST            0\nBIL            0\nCHE            0\nCHOL          10\nCREA           0\nGGT            0\nPROT           1\ndtype: int64"
     },
     "execution_count": 7,
     "metadata": {},
     "output_type": "execute_result"
    }
   ],
   "source": [
    "data.isna().sum()"
   ],
   "metadata": {
    "collapsed": false,
    "pycharm": {
     "name": "#%%\n"
    }
   }
  },
  {
   "cell_type": "code",
   "execution_count": 8,
   "outputs": [
    {
     "data": {
      "text/plain": "     Unnamed: 0  Category  Age  Sex   ALB        ALP    ALT    AST   BIL  \\\n0             1         0   32    0  38.5   52.50000    7.7   22.1   7.5   \n1             2         0   32    0  38.5   70.30000   18.0   24.7   3.9   \n2             3         0   32    0  46.9   74.70000   36.2   52.6   6.1   \n3             4         0   32    0  43.2   52.00000   30.6   22.6  18.9   \n4             5         0   32    0  39.2   74.10000   32.6   24.8   9.6   \n..          ...       ...  ...  ...   ...        ...    ...    ...   ...   \n610         611         3   62    1  32.0  416.60000    5.9  110.3  50.0   \n611         612         3   64    1  24.0  102.80000    2.9   44.4  20.0   \n612         613         3   64    1  29.0   87.30000    3.5   99.0  48.0   \n613         614         3   46    1  33.0   68.28392   39.0   62.0  20.0   \n614         615         3   59    1  36.0   68.28392  100.0   80.0  12.0   \n\n       CHE  CHOL   CREA    GGT  PROT  \n0     6.93  3.23  106.0   12.1  69.0  \n1    11.17  4.80   74.0   15.6  76.5  \n2     8.84  5.20   86.0   33.2  79.3  \n3     7.33  4.74   80.0   33.8  75.7  \n4     9.15  4.32   76.0   29.9  68.7  \n..     ...   ...    ...    ...   ...  \n610   5.57  6.30   55.7  650.9  68.5  \n611   1.54  3.02   63.0   35.9  71.3  \n612   1.66  3.63   66.7   64.2  82.0  \n613   3.56  4.20   52.0   50.0  71.0  \n614   9.07  5.30   67.0   34.0  68.0  \n\n[615 rows x 14 columns]",
      "text/html": "<div>\n<style scoped>\n    .dataframe tbody tr th:only-of-type {\n        vertical-align: middle;\n    }\n\n    .dataframe tbody tr th {\n        vertical-align: top;\n    }\n\n    .dataframe thead th {\n        text-align: right;\n    }\n</style>\n<table border=\"1\" class=\"dataframe\">\n  <thead>\n    <tr style=\"text-align: right;\">\n      <th></th>\n      <th>Unnamed: 0</th>\n      <th>Category</th>\n      <th>Age</th>\n      <th>Sex</th>\n      <th>ALB</th>\n      <th>ALP</th>\n      <th>ALT</th>\n      <th>AST</th>\n      <th>BIL</th>\n      <th>CHE</th>\n      <th>CHOL</th>\n      <th>CREA</th>\n      <th>GGT</th>\n      <th>PROT</th>\n    </tr>\n  </thead>\n  <tbody>\n    <tr>\n      <th>0</th>\n      <td>1</td>\n      <td>0</td>\n      <td>32</td>\n      <td>0</td>\n      <td>38.5</td>\n      <td>52.50000</td>\n      <td>7.7</td>\n      <td>22.1</td>\n      <td>7.5</td>\n      <td>6.93</td>\n      <td>3.23</td>\n      <td>106.0</td>\n      <td>12.1</td>\n      <td>69.0</td>\n    </tr>\n    <tr>\n      <th>1</th>\n      <td>2</td>\n      <td>0</td>\n      <td>32</td>\n      <td>0</td>\n      <td>38.5</td>\n      <td>70.30000</td>\n      <td>18.0</td>\n      <td>24.7</td>\n      <td>3.9</td>\n      <td>11.17</td>\n      <td>4.80</td>\n      <td>74.0</td>\n      <td>15.6</td>\n      <td>76.5</td>\n    </tr>\n    <tr>\n      <th>2</th>\n      <td>3</td>\n      <td>0</td>\n      <td>32</td>\n      <td>0</td>\n      <td>46.9</td>\n      <td>74.70000</td>\n      <td>36.2</td>\n      <td>52.6</td>\n      <td>6.1</td>\n      <td>8.84</td>\n      <td>5.20</td>\n      <td>86.0</td>\n      <td>33.2</td>\n      <td>79.3</td>\n    </tr>\n    <tr>\n      <th>3</th>\n      <td>4</td>\n      <td>0</td>\n      <td>32</td>\n      <td>0</td>\n      <td>43.2</td>\n      <td>52.00000</td>\n      <td>30.6</td>\n      <td>22.6</td>\n      <td>18.9</td>\n      <td>7.33</td>\n      <td>4.74</td>\n      <td>80.0</td>\n      <td>33.8</td>\n      <td>75.7</td>\n    </tr>\n    <tr>\n      <th>4</th>\n      <td>5</td>\n      <td>0</td>\n      <td>32</td>\n      <td>0</td>\n      <td>39.2</td>\n      <td>74.10000</td>\n      <td>32.6</td>\n      <td>24.8</td>\n      <td>9.6</td>\n      <td>9.15</td>\n      <td>4.32</td>\n      <td>76.0</td>\n      <td>29.9</td>\n      <td>68.7</td>\n    </tr>\n    <tr>\n      <th>...</th>\n      <td>...</td>\n      <td>...</td>\n      <td>...</td>\n      <td>...</td>\n      <td>...</td>\n      <td>...</td>\n      <td>...</td>\n      <td>...</td>\n      <td>...</td>\n      <td>...</td>\n      <td>...</td>\n      <td>...</td>\n      <td>...</td>\n      <td>...</td>\n    </tr>\n    <tr>\n      <th>610</th>\n      <td>611</td>\n      <td>3</td>\n      <td>62</td>\n      <td>1</td>\n      <td>32.0</td>\n      <td>416.60000</td>\n      <td>5.9</td>\n      <td>110.3</td>\n      <td>50.0</td>\n      <td>5.57</td>\n      <td>6.30</td>\n      <td>55.7</td>\n      <td>650.9</td>\n      <td>68.5</td>\n    </tr>\n    <tr>\n      <th>611</th>\n      <td>612</td>\n      <td>3</td>\n      <td>64</td>\n      <td>1</td>\n      <td>24.0</td>\n      <td>102.80000</td>\n      <td>2.9</td>\n      <td>44.4</td>\n      <td>20.0</td>\n      <td>1.54</td>\n      <td>3.02</td>\n      <td>63.0</td>\n      <td>35.9</td>\n      <td>71.3</td>\n    </tr>\n    <tr>\n      <th>612</th>\n      <td>613</td>\n      <td>3</td>\n      <td>64</td>\n      <td>1</td>\n      <td>29.0</td>\n      <td>87.30000</td>\n      <td>3.5</td>\n      <td>99.0</td>\n      <td>48.0</td>\n      <td>1.66</td>\n      <td>3.63</td>\n      <td>66.7</td>\n      <td>64.2</td>\n      <td>82.0</td>\n    </tr>\n    <tr>\n      <th>613</th>\n      <td>614</td>\n      <td>3</td>\n      <td>46</td>\n      <td>1</td>\n      <td>33.0</td>\n      <td>68.28392</td>\n      <td>39.0</td>\n      <td>62.0</td>\n      <td>20.0</td>\n      <td>3.56</td>\n      <td>4.20</td>\n      <td>52.0</td>\n      <td>50.0</td>\n      <td>71.0</td>\n    </tr>\n    <tr>\n      <th>614</th>\n      <td>615</td>\n      <td>3</td>\n      <td>59</td>\n      <td>1</td>\n      <td>36.0</td>\n      <td>68.28392</td>\n      <td>100.0</td>\n      <td>80.0</td>\n      <td>12.0</td>\n      <td>9.07</td>\n      <td>5.30</td>\n      <td>67.0</td>\n      <td>34.0</td>\n      <td>68.0</td>\n    </tr>\n  </tbody>\n</table>\n<p>615 rows × 14 columns</p>\n</div>"
     },
     "execution_count": 8,
     "metadata": {},
     "output_type": "execute_result"
    }
   ],
   "source": [
    "data['ALP'].fillna(data['ALP'].mean(), inplace=True)\n",
    "data['ALB'].fillna(data['ALB'].mean(), inplace=True)\n",
    "data['ALT'].fillna(data['ALT'].mean(), inplace=True)\n",
    "data['CHOL'].fillna(data['CHOL'].mean(), inplace=True)\n",
    "data['PROT'].fillna(data['PROT'].mean(), inplace=True)\n",
    "data"
   ],
   "metadata": {
    "collapsed": false,
    "pycharm": {
     "name": "#%%\n"
    }
   }
  },
  {
   "cell_type": "code",
   "execution_count": 9,
   "outputs": [
    {
     "data": {
      "text/plain": "     Category  Age  Sex   ALB        ALP    ALT    AST   BIL    CHE  CHOL  \\\n0           0   32    0  38.5   52.50000    7.7   22.1   7.5   6.93  3.23   \n1           0   32    0  38.5   70.30000   18.0   24.7   3.9  11.17  4.80   \n2           0   32    0  46.9   74.70000   36.2   52.6   6.1   8.84  5.20   \n3           0   32    0  43.2   52.00000   30.6   22.6  18.9   7.33  4.74   \n4           0   32    0  39.2   74.10000   32.6   24.8   9.6   9.15  4.32   \n..        ...  ...  ...   ...        ...    ...    ...   ...    ...   ...   \n610         3   62    1  32.0  416.60000    5.9  110.3  50.0   5.57  6.30   \n611         3   64    1  24.0  102.80000    2.9   44.4  20.0   1.54  3.02   \n612         3   64    1  29.0   87.30000    3.5   99.0  48.0   1.66  3.63   \n613         3   46    1  33.0   68.28392   39.0   62.0  20.0   3.56  4.20   \n614         3   59    1  36.0   68.28392  100.0   80.0  12.0   9.07  5.30   \n\n      CREA    GGT  PROT  \n0    106.0   12.1  69.0  \n1     74.0   15.6  76.5  \n2     86.0   33.2  79.3  \n3     80.0   33.8  75.7  \n4     76.0   29.9  68.7  \n..     ...    ...   ...  \n610   55.7  650.9  68.5  \n611   63.0   35.9  71.3  \n612   66.7   64.2  82.0  \n613   52.0   50.0  71.0  \n614   67.0   34.0  68.0  \n\n[615 rows x 13 columns]",
      "text/html": "<div>\n<style scoped>\n    .dataframe tbody tr th:only-of-type {\n        vertical-align: middle;\n    }\n\n    .dataframe tbody tr th {\n        vertical-align: top;\n    }\n\n    .dataframe thead th {\n        text-align: right;\n    }\n</style>\n<table border=\"1\" class=\"dataframe\">\n  <thead>\n    <tr style=\"text-align: right;\">\n      <th></th>\n      <th>Category</th>\n      <th>Age</th>\n      <th>Sex</th>\n      <th>ALB</th>\n      <th>ALP</th>\n      <th>ALT</th>\n      <th>AST</th>\n      <th>BIL</th>\n      <th>CHE</th>\n      <th>CHOL</th>\n      <th>CREA</th>\n      <th>GGT</th>\n      <th>PROT</th>\n    </tr>\n  </thead>\n  <tbody>\n    <tr>\n      <th>0</th>\n      <td>0</td>\n      <td>32</td>\n      <td>0</td>\n      <td>38.5</td>\n      <td>52.50000</td>\n      <td>7.7</td>\n      <td>22.1</td>\n      <td>7.5</td>\n      <td>6.93</td>\n      <td>3.23</td>\n      <td>106.0</td>\n      <td>12.1</td>\n      <td>69.0</td>\n    </tr>\n    <tr>\n      <th>1</th>\n      <td>0</td>\n      <td>32</td>\n      <td>0</td>\n      <td>38.5</td>\n      <td>70.30000</td>\n      <td>18.0</td>\n      <td>24.7</td>\n      <td>3.9</td>\n      <td>11.17</td>\n      <td>4.80</td>\n      <td>74.0</td>\n      <td>15.6</td>\n      <td>76.5</td>\n    </tr>\n    <tr>\n      <th>2</th>\n      <td>0</td>\n      <td>32</td>\n      <td>0</td>\n      <td>46.9</td>\n      <td>74.70000</td>\n      <td>36.2</td>\n      <td>52.6</td>\n      <td>6.1</td>\n      <td>8.84</td>\n      <td>5.20</td>\n      <td>86.0</td>\n      <td>33.2</td>\n      <td>79.3</td>\n    </tr>\n    <tr>\n      <th>3</th>\n      <td>0</td>\n      <td>32</td>\n      <td>0</td>\n      <td>43.2</td>\n      <td>52.00000</td>\n      <td>30.6</td>\n      <td>22.6</td>\n      <td>18.9</td>\n      <td>7.33</td>\n      <td>4.74</td>\n      <td>80.0</td>\n      <td>33.8</td>\n      <td>75.7</td>\n    </tr>\n    <tr>\n      <th>4</th>\n      <td>0</td>\n      <td>32</td>\n      <td>0</td>\n      <td>39.2</td>\n      <td>74.10000</td>\n      <td>32.6</td>\n      <td>24.8</td>\n      <td>9.6</td>\n      <td>9.15</td>\n      <td>4.32</td>\n      <td>76.0</td>\n      <td>29.9</td>\n      <td>68.7</td>\n    </tr>\n    <tr>\n      <th>...</th>\n      <td>...</td>\n      <td>...</td>\n      <td>...</td>\n      <td>...</td>\n      <td>...</td>\n      <td>...</td>\n      <td>...</td>\n      <td>...</td>\n      <td>...</td>\n      <td>...</td>\n      <td>...</td>\n      <td>...</td>\n      <td>...</td>\n    </tr>\n    <tr>\n      <th>610</th>\n      <td>3</td>\n      <td>62</td>\n      <td>1</td>\n      <td>32.0</td>\n      <td>416.60000</td>\n      <td>5.9</td>\n      <td>110.3</td>\n      <td>50.0</td>\n      <td>5.57</td>\n      <td>6.30</td>\n      <td>55.7</td>\n      <td>650.9</td>\n      <td>68.5</td>\n    </tr>\n    <tr>\n      <th>611</th>\n      <td>3</td>\n      <td>64</td>\n      <td>1</td>\n      <td>24.0</td>\n      <td>102.80000</td>\n      <td>2.9</td>\n      <td>44.4</td>\n      <td>20.0</td>\n      <td>1.54</td>\n      <td>3.02</td>\n      <td>63.0</td>\n      <td>35.9</td>\n      <td>71.3</td>\n    </tr>\n    <tr>\n      <th>612</th>\n      <td>3</td>\n      <td>64</td>\n      <td>1</td>\n      <td>29.0</td>\n      <td>87.30000</td>\n      <td>3.5</td>\n      <td>99.0</td>\n      <td>48.0</td>\n      <td>1.66</td>\n      <td>3.63</td>\n      <td>66.7</td>\n      <td>64.2</td>\n      <td>82.0</td>\n    </tr>\n    <tr>\n      <th>613</th>\n      <td>3</td>\n      <td>46</td>\n      <td>1</td>\n      <td>33.0</td>\n      <td>68.28392</td>\n      <td>39.0</td>\n      <td>62.0</td>\n      <td>20.0</td>\n      <td>3.56</td>\n      <td>4.20</td>\n      <td>52.0</td>\n      <td>50.0</td>\n      <td>71.0</td>\n    </tr>\n    <tr>\n      <th>614</th>\n      <td>3</td>\n      <td>59</td>\n      <td>1</td>\n      <td>36.0</td>\n      <td>68.28392</td>\n      <td>100.0</td>\n      <td>80.0</td>\n      <td>12.0</td>\n      <td>9.07</td>\n      <td>5.30</td>\n      <td>67.0</td>\n      <td>34.0</td>\n      <td>68.0</td>\n    </tr>\n  </tbody>\n</table>\n<p>615 rows × 13 columns</p>\n</div>"
     },
     "execution_count": 9,
     "metadata": {},
     "output_type": "execute_result"
    }
   ],
   "source": [
    "data.drop(columns=\"Unnamed: 0\", inplace=True)\n",
    "data"
   ],
   "metadata": {
    "collapsed": false,
    "pycharm": {
     "name": "#%%\n"
    }
   }
  },
  {
   "cell_type": "code",
   "execution_count": 10,
   "outputs": [
    {
     "data": {
      "text/plain": "0      0\n1      0\n2      0\n3      0\n4      0\n      ..\n610    3\n611    3\n612    3\n613    3\n614    3\nName: Category, Length: 615, dtype: int64"
     },
     "execution_count": 10,
     "metadata": {},
     "output_type": "execute_result"
    }
   ],
   "source": [
    "data_Y = data['Category']\n",
    "data_X = data.drop(columns='Category')\n",
    "data_Y"
   ],
   "metadata": {
    "collapsed": false,
    "pycharm": {
     "name": "#%%\n"
    }
   }
  },
  {
   "cell_type": "code",
   "execution_count": 11,
   "outputs": [
    {
     "data": {
      "text/plain": "          Age       Sex       ALB        ALP       ALT       AST       BIL  \\\n0   -1.532369 -0.793897 -0.540208  -0.615503 -0.815390 -0.383381 -0.198074   \n1   -1.532369 -0.793897 -0.540208   0.078618 -0.410658 -0.304809 -0.381065   \n2   -1.532369 -0.793897  0.914106   0.250199  0.304499  0.538328 -0.269237   \n3   -1.532369 -0.793897  0.273516  -0.635000  0.084451 -0.368271  0.381396   \n4   -1.532369 -0.793897 -0.419015   0.226801  0.163040 -0.301787 -0.091330   \n..        ...       ...       ...        ...       ...       ...       ...   \n610  1.451190  1.257560 -1.665569  13.582775 -0.886120  2.282021  1.962230   \n611  1.650094  1.257560 -3.050630   1.345973 -1.004003  0.290525  0.437309   \n612  1.650094  1.257560 -2.184967   0.741542 -0.980426  1.940535  1.860569   \n613 -0.140041  1.257560 -1.492437   0.000000  0.414524  0.822396  0.437309   \n614  1.152834  1.257560 -0.973039   0.000000  2.811480  1.366356  0.030664   \n\n          CHE      CHOL      CREA        GGT      PROT  \n0   -0.574266 -1.903127  0.496666  -0.501878 -0.563913  \n1    1.348063 -0.505666 -0.146470  -0.437847  0.825430  \n2    0.291689 -0.149625  0.094706  -0.115863  1.344118  \n3   -0.392914 -0.559073 -0.025882  -0.104886  0.677233  \n4    0.432237 -0.932915 -0.106274  -0.176235 -0.619487  \n..        ...       ...       ...        ...       ...  \n610 -1.190862  0.829487 -0.514264  11.184684 -0.656536  \n611 -3.017982 -2.090048 -0.367549  -0.066467 -0.137848  \n612 -2.963577 -1.547086 -0.293186   0.451269  1.844281  \n613 -2.102155 -1.039728 -0.588627   0.191486 -0.193422  \n614  0.395966 -0.060615 -0.287156  -0.101227 -0.749159  \n\n[615 rows x 12 columns]",
      "text/html": "<div>\n<style scoped>\n    .dataframe tbody tr th:only-of-type {\n        vertical-align: middle;\n    }\n\n    .dataframe tbody tr th {\n        vertical-align: top;\n    }\n\n    .dataframe thead th {\n        text-align: right;\n    }\n</style>\n<table border=\"1\" class=\"dataframe\">\n  <thead>\n    <tr style=\"text-align: right;\">\n      <th></th>\n      <th>Age</th>\n      <th>Sex</th>\n      <th>ALB</th>\n      <th>ALP</th>\n      <th>ALT</th>\n      <th>AST</th>\n      <th>BIL</th>\n      <th>CHE</th>\n      <th>CHOL</th>\n      <th>CREA</th>\n      <th>GGT</th>\n      <th>PROT</th>\n    </tr>\n  </thead>\n  <tbody>\n    <tr>\n      <th>0</th>\n      <td>-1.532369</td>\n      <td>-0.793897</td>\n      <td>-0.540208</td>\n      <td>-0.615503</td>\n      <td>-0.815390</td>\n      <td>-0.383381</td>\n      <td>-0.198074</td>\n      <td>-0.574266</td>\n      <td>-1.903127</td>\n      <td>0.496666</td>\n      <td>-0.501878</td>\n      <td>-0.563913</td>\n    </tr>\n    <tr>\n      <th>1</th>\n      <td>-1.532369</td>\n      <td>-0.793897</td>\n      <td>-0.540208</td>\n      <td>0.078618</td>\n      <td>-0.410658</td>\n      <td>-0.304809</td>\n      <td>-0.381065</td>\n      <td>1.348063</td>\n      <td>-0.505666</td>\n      <td>-0.146470</td>\n      <td>-0.437847</td>\n      <td>0.825430</td>\n    </tr>\n    <tr>\n      <th>2</th>\n      <td>-1.532369</td>\n      <td>-0.793897</td>\n      <td>0.914106</td>\n      <td>0.250199</td>\n      <td>0.304499</td>\n      <td>0.538328</td>\n      <td>-0.269237</td>\n      <td>0.291689</td>\n      <td>-0.149625</td>\n      <td>0.094706</td>\n      <td>-0.115863</td>\n      <td>1.344118</td>\n    </tr>\n    <tr>\n      <th>3</th>\n      <td>-1.532369</td>\n      <td>-0.793897</td>\n      <td>0.273516</td>\n      <td>-0.635000</td>\n      <td>0.084451</td>\n      <td>-0.368271</td>\n      <td>0.381396</td>\n      <td>-0.392914</td>\n      <td>-0.559073</td>\n      <td>-0.025882</td>\n      <td>-0.104886</td>\n      <td>0.677233</td>\n    </tr>\n    <tr>\n      <th>4</th>\n      <td>-1.532369</td>\n      <td>-0.793897</td>\n      <td>-0.419015</td>\n      <td>0.226801</td>\n      <td>0.163040</td>\n      <td>-0.301787</td>\n      <td>-0.091330</td>\n      <td>0.432237</td>\n      <td>-0.932915</td>\n      <td>-0.106274</td>\n      <td>-0.176235</td>\n      <td>-0.619487</td>\n    </tr>\n    <tr>\n      <th>...</th>\n      <td>...</td>\n      <td>...</td>\n      <td>...</td>\n      <td>...</td>\n      <td>...</td>\n      <td>...</td>\n      <td>...</td>\n      <td>...</td>\n      <td>...</td>\n      <td>...</td>\n      <td>...</td>\n      <td>...</td>\n    </tr>\n    <tr>\n      <th>610</th>\n      <td>1.451190</td>\n      <td>1.257560</td>\n      <td>-1.665569</td>\n      <td>13.582775</td>\n      <td>-0.886120</td>\n      <td>2.282021</td>\n      <td>1.962230</td>\n      <td>-1.190862</td>\n      <td>0.829487</td>\n      <td>-0.514264</td>\n      <td>11.184684</td>\n      <td>-0.656536</td>\n    </tr>\n    <tr>\n      <th>611</th>\n      <td>1.650094</td>\n      <td>1.257560</td>\n      <td>-3.050630</td>\n      <td>1.345973</td>\n      <td>-1.004003</td>\n      <td>0.290525</td>\n      <td>0.437309</td>\n      <td>-3.017982</td>\n      <td>-2.090048</td>\n      <td>-0.367549</td>\n      <td>-0.066467</td>\n      <td>-0.137848</td>\n    </tr>\n    <tr>\n      <th>612</th>\n      <td>1.650094</td>\n      <td>1.257560</td>\n      <td>-2.184967</td>\n      <td>0.741542</td>\n      <td>-0.980426</td>\n      <td>1.940535</td>\n      <td>1.860569</td>\n      <td>-2.963577</td>\n      <td>-1.547086</td>\n      <td>-0.293186</td>\n      <td>0.451269</td>\n      <td>1.844281</td>\n    </tr>\n    <tr>\n      <th>613</th>\n      <td>-0.140041</td>\n      <td>1.257560</td>\n      <td>-1.492437</td>\n      <td>0.000000</td>\n      <td>0.414524</td>\n      <td>0.822396</td>\n      <td>0.437309</td>\n      <td>-2.102155</td>\n      <td>-1.039728</td>\n      <td>-0.588627</td>\n      <td>0.191486</td>\n      <td>-0.193422</td>\n    </tr>\n    <tr>\n      <th>614</th>\n      <td>1.152834</td>\n      <td>1.257560</td>\n      <td>-0.973039</td>\n      <td>0.000000</td>\n      <td>2.811480</td>\n      <td>1.366356</td>\n      <td>0.030664</td>\n      <td>0.395966</td>\n      <td>-0.060615</td>\n      <td>-0.287156</td>\n      <td>-0.101227</td>\n      <td>-0.749159</td>\n    </tr>\n  </tbody>\n</table>\n<p>615 rows × 12 columns</p>\n</div>"
     },
     "execution_count": 11,
     "metadata": {},
     "output_type": "execute_result"
    }
   ],
   "source": [
    "normalized_dataX = (data_X - data_X.mean()) / data_X.std()\n",
    "normalized_dataX"
   ],
   "metadata": {
    "collapsed": false,
    "pycharm": {
     "name": "#%%\n"
    }
   }
  },
  {
   "cell_type": "markdown",
   "source": [
    "# Part B"
   ],
   "metadata": {
    "collapsed": false,
    "pycharm": {
     "name": "#%% md\n"
    }
   }
  },
  {
   "cell_type": "code",
   "execution_count": 12,
   "outputs": [
    {
     "data": {
      "text/plain": "(615, 12)"
     },
     "execution_count": 12,
     "metadata": {},
     "output_type": "execute_result"
    }
   ],
   "source": [
    "X_train = normalized_dataX.to_numpy()\n",
    "m, n = X_train.shape\n",
    "m, n"
   ],
   "metadata": {
    "collapsed": false,
    "pycharm": {
     "name": "#%%\n"
    }
   }
  },
  {
   "cell_type": "code",
   "execution_count": 13,
   "outputs": [],
   "source": [
    "def KMeans(X_train: pd.DataFrame, ClusterCount=2, iteration=30, ConvergenceRatio=0.01,\n",
    "           DistanceMetric=\"Euclidean\") -> list:\n",
    "    if X_train.__class__ is not np.ndarray:\n",
    "        X_train = X_train.to_numpy()\n",
    "\n",
    "    m, n = X_train.shape\n",
    "    centers = np.zeros((ClusterCount, n))\n",
    "\n",
    "    distance_function = norm2\n",
    "    if DistanceMetric == \"CityBlock\":\n",
    "        distance_function = norm1\n",
    "\n",
    "    for i in range(ClusterCount):\n",
    "        centers[i, :] = X_train[random.randint(0, m - 1), :]\n",
    "\n",
    "    iterations_counts = 0\n",
    "    while True:\n",
    "        iterations_counts += 1\n",
    "        clusters = []\n",
    "        for i in range(ClusterCount):\n",
    "            clusters.append(set())\n",
    "\n",
    "        # m is number of rows\n",
    "        # assign each row to one cluster\n",
    "        for i in range(m):\n",
    "            dists = []\n",
    "            for center_index in range(ClusterCount):\n",
    "                dists.append(distance_function(X_train[i, :] - centers[center_index, :]))\n",
    "\n",
    "            dists = np.array(dists)\n",
    "            min_cluster_index = np.where(dists == dists.min())[0][0]\n",
    "            clusters[min_cluster_index].add(i)\n",
    "\n",
    "        # update centroids\n",
    "        new_centers = np.zeros((ClusterCount, n), dtype=float)\n",
    "        for i in range(ClusterCount):\n",
    "            sum_vectors = np.zeros(n)\n",
    "            for row_number in clusters[i]:\n",
    "                sum_vectors += X_train[row_number, :]\n",
    "            if len(clusters[i]) != 0:\n",
    "                new_centers[i, :] = sum_vectors / len(clusters[i])\n",
    "            else:\n",
    "                # two way to handle empty clusters\n",
    "                # new_centers[i, :] = centers[i,:] # if there is no membership in cluster dont move\n",
    "                new_centers[i, :] = X_train[random.randint(0, m - 1), :]  # make new random centroid\n",
    "\n",
    "        # check convergence with distance\n",
    "        if check_convergence(centers, new_centers, distance_function, convergence_ratio=ConvergenceRatio):\n",
    "            centers = new_centers\n",
    "            break\n",
    "        centers = new_centers\n",
    "        # check convergence with iterations\n",
    "        if iterations_counts >= iteration:\n",
    "            break\n",
    "\n",
    "    return centers"
   ],
   "metadata": {
    "collapsed": false,
    "pycharm": {
     "name": "#%%\n"
    }
   }
  },
  {
   "cell_type": "code",
   "execution_count": 14,
   "outputs": [],
   "source": [
    "def norm1(input: np.ndarray):\n",
    "    return np.sum(np.abs(input))"
   ],
   "metadata": {
    "collapsed": false,
    "pycharm": {
     "name": "#%%\n"
    }
   }
  },
  {
   "cell_type": "code",
   "execution_count": 15,
   "outputs": [],
   "source": [
    "def norm2(input: np.ndarray):\n",
    "    return math.sqrt(np.sum(np.power(input, 2)))"
   ],
   "metadata": {
    "collapsed": false,
    "pycharm": {
     "name": "#%%\n"
    }
   }
  },
  {
   "cell_type": "code",
   "execution_count": 16,
   "outputs": [],
   "source": [
    "def check_convergence(first: np.ndarray, second: np.ndarray, distance_function, convergence_ratio=0.01) -> bool:\n",
    "    if convergence_ratio > distance_function(first - second):\n",
    "        return True\n",
    "    else:\n",
    "        return False"
   ],
   "metadata": {
    "collapsed": false,
    "pycharm": {
     "name": "#%%\n"
    }
   }
  },
  {
   "cell_type": "code",
   "execution_count": 17,
   "outputs": [
    {
     "data": {
      "text/plain": "array([[-0.07969011, -0.78220828,  0.30006275, -0.05411967,  0.17302004,\n        -0.02440034, -0.06534982,  0.29524107,  0.07854554,  0.05744713,\n        -0.01736382,  0.18514441],\n       [-0.01713778,  1.23964365, -0.14245618, -0.07810995, -0.26435955,\n        -0.29115066, -0.21556552, -0.16729355,  0.06721976, -0.23439261,\n        -0.28982859, -0.0610804 ],\n       [ 0.91130805, -0.26637977, -2.07713023,  1.0538052 , -0.00547708,\n         2.14965774,  2.06577977, -1.86626839, -1.22750885,  0.95748468,\n         2.07044138, -1.45709362]])"
     },
     "execution_count": 17,
     "metadata": {},
     "output_type": "execute_result"
    }
   ],
   "source": [
    "KMeans(normalized_dataX, 3, 30)"
   ],
   "metadata": {
    "collapsed": false,
    "pycharm": {
     "name": "#%%\n"
    }
   }
  },
  {
   "cell_type": "markdown",
   "source": [
    "# part C"
   ],
   "metadata": {
    "collapsed": false,
    "pycharm": {
     "name": "#%% md\n"
    }
   }
  },
  {
   "cell_type": "code",
   "execution_count": 18,
   "outputs": [],
   "source": [
    "def find_my_cluster_and_distance(input: np.ndarray, centers: np.ndarray, distance_function):\n",
    "    number_of_centers = centers.shape[0]\n",
    "\n",
    "    dists = []\n",
    "    for center_index in range(number_of_centers):\n",
    "        dists.append(distance_function(input - centers[center_index, :]))\n",
    "\n",
    "    dists = np.array(dists)\n",
    "    min_dists = dists.min()\n",
    "    min_cluster_index = np.where(dists == min_dists)[0][0]\n",
    "\n",
    "    return min_dists, min_cluster_index"
   ],
   "metadata": {
    "collapsed": false,
    "pycharm": {
     "name": "#%%\n"
    }
   }
  },
  {
   "cell_type": "code",
   "execution_count": 19,
   "outputs": [],
   "source": [
    "def inertia_calculator(distance_list: list):\n",
    "    distance_list = np.array(distance_list)\n",
    "    return np.sum(np.power(distance_list, 2))"
   ],
   "metadata": {
    "collapsed": false,
    "pycharm": {
     "name": "#%%\n"
    }
   }
  },
  {
   "cell_type": "markdown",
   "source": [
    "find best K"
   ],
   "metadata": {
    "collapsed": false,
    "pycharm": {
     "name": "#%% md\n"
    }
   }
  },
  {
   "cell_type": "code",
   "execution_count": 20,
   "outputs": [],
   "source": [
    "import matplotlib.pyplot as plt"
   ],
   "metadata": {
    "collapsed": false,
    "pycharm": {
     "name": "#%%\n"
    }
   }
  },
  {
   "cell_type": "code",
   "execution_count": 21,
   "outputs": [
    {
     "data": {
      "text/plain": "<Figure size 640x480 with 1 Axes>",
      "image/png": "[encoded data removed]"
     },
     "metadata": {},
     "output_type": "display_data"
    }
   ],
   "source": [
    "K = [3, 4, 5, 6, 7, 8, 10, 12, 15, 18, 20]\n",
    "\n",
    "clusters_inertia = []\n",
    "numpy_data_X = normalized_dataX.to_numpy()\n",
    "m, n = numpy_data_X.shape\n",
    "for k in K:\n",
    "    centers = KMeans(numpy_data_X, k, 30)\n",
    "    distances = []\n",
    "    for i in range(m):\n",
    "        min_dist, _ = find_my_cluster_and_distance(numpy_data_X[i, :], centers, norm2)\n",
    "        distances.append(min_dist)\n",
    "\n",
    "    clusters_inertia.append(inertia_calculator(distances))\n",
    "\n",
    "plt.plot(K, clusters_inertia, 'bx-')\n",
    "plt.xlabel('Values of K')\n",
    "plt.ylabel('inertia')\n",
    "plt.title('The Elbow Method using inertia')\n",
    "plt.show()"
   ],
   "metadata": {
    "collapsed": false,
    "pycharm": {
     "name": "#%%\n"
    }
   }
  },
  {
   "cell_type": "code",
   "execution_count": 22,
   "outputs": [],
   "source": [
    "centers = KMeans(numpy_data_X, 12, 30)"
   ],
   "metadata": {
    "collapsed": false,
    "pycharm": {
     "name": "#%%\n"
    }
   }
  },
  {
   "cell_type": "code",
   "execution_count": 23,
   "outputs": [],
   "source": [
    "distances = []\n",
    "m = numpy_data_X.shape[0]\n",
    "for i in range(m):\n",
    "    min_dist, _ = find_my_cluster_and_distance(numpy_data_X[i, :], centers, norm2)\n",
    "    distances.append(min_dist)\n",
    "distances = sorted(distances)\n",
    "\n",
    "X = np.arange(1, m + 1)"
   ],
   "metadata": {
    "collapsed": false,
    "pycharm": {
     "name": "#%%\n"
    }
   }
  },
  {
   "cell_type": "code",
   "execution_count": 24,
   "outputs": [
    {
     "data": {
      "text/plain": "<Figure size 640x480 with 1 Axes>",
      "image/png": "[encoded data removed]"
     },
     "metadata": {},
     "output_type": "display_data"
    }
   ],
   "source": [
    "plt.plot(X, distances, 'bx-')\n",
    "plt.xlabel('ith element ')\n",
    "plt.ylabel('distance')\n",
    "plt.title('Distribution of distances')\n",
    "plt.show()"
   ],
   "metadata": {
    "collapsed": false,
    "pycharm": {
     "name": "#%%\n"
    }
   }
  },
  {
   "cell_type": "markdown",
   "source": [
    "above 4 must be deleted"
   ],
   "metadata": {
    "collapsed": false,
    "pycharm": {
     "name": "#%% md\n"
    }
   }
  },
  {
   "cell_type": "code",
   "execution_count": 25,
   "outputs": [],
   "source": [
    "number_of_remove = 0\n",
    "threshold = 4\n",
    "for i in range(m):\n",
    "    min_dist, _ = find_my_cluster_and_distance(numpy_data_X[i, :], centers, norm2)\n",
    "    if min_dist > threshold:\n",
    "        number_of_remove += 1\n",
    "        normalized_dataX.drop(i, axis=0, inplace=True)\n",
    "        data_Y.drop(i, axis=0, inplace=True)"
   ],
   "metadata": {
    "collapsed": false,
    "pycharm": {
     "name": "#%%\n"
    }
   }
  },
  {
   "cell_type": "code",
   "execution_count": 26,
   "outputs": [
    {
     "name": "stdout",
     "output_type": "stream",
     "text": [
      "4.5528455284552845% detected as outlier\n"
     ]
    }
   ],
   "source": [
    "print(f'{number_of_remove / m * 100}% detected as outlier')"
   ],
   "metadata": {
    "collapsed": false,
    "pycharm": {
     "name": "#%%\n"
    }
   }
  },
  {
   "cell_type": "code",
   "execution_count": 27,
   "outputs": [
    {
     "data": {
      "text/plain": "(587, 12)"
     },
     "execution_count": 27,
     "metadata": {},
     "output_type": "execute_result"
    }
   ],
   "source": [
    "normalized_dataX.shape"
   ],
   "metadata": {
    "collapsed": false,
    "pycharm": {
     "name": "#%%\n"
    }
   }
  },
  {
   "cell_type": "markdown",
   "source": [
    "# Part D"
   ],
   "metadata": {
    "collapsed": false,
    "pycharm": {
     "name": "#%% md\n"
    }
   }
  },
  {
   "cell_type": "code",
   "execution_count": 28,
   "outputs": [],
   "source": [
    "from sklearn.model_selection import train_test_split\n"
   ],
   "metadata": {
    "collapsed": false,
    "pycharm": {
     "name": "#%%\n"
    }
   }
  },
  {
   "cell_type": "code",
   "execution_count": 29,
   "outputs": [
    {
     "data": {
      "text/plain": "((469, 12), (118, 12), (469,), (118,))"
     },
     "execution_count": 29,
     "metadata": {},
     "output_type": "execute_result"
    }
   ],
   "source": [
    "X_train, X_test, y_train, y_test = train_test_split(normalized_dataX, data_Y, test_size=0.2, random_state=55)\n",
    "X_train.shape, X_test.shape, y_train.shape, y_test.shape"
   ],
   "metadata": {
    "collapsed": false,
    "pycharm": {
     "name": "#%%\n"
    }
   }
  },
  {
   "cell_type": "code",
   "execution_count": 30,
   "outputs": [],
   "source": [
    "X_train = X_train.to_numpy()\n",
    "X_test = X_test.to_numpy()\n",
    "y_train = y_train.to_numpy()\n",
    "y_test = y_test.to_numpy()\n"
   ],
   "metadata": {
    "collapsed": false,
    "pycharm": {
     "name": "#%%\n"
    }
   }
  },
  {
   "cell_type": "markdown",
   "source": [
    "# Part E"
   ],
   "metadata": {
    "collapsed": false,
    "pycharm": {
     "name": "#%% md\n"
    }
   }
  },
  {
   "cell_type": "markdown",
   "source": [
    "this box convert 1 ,2 ,3 labels to 1"
   ],
   "metadata": {
    "collapsed": false,
    "pycharm": {
     "name": "#%% md\n"
    }
   }
  },
  {
   "cell_type": "code",
   "execution_count": 62,
   "outputs": [],
   "source": [
    "# this box convert 1 ,2 ,3 labels to 1\n",
    "def convert_labels(x):\n",
    "    if x == 0:\n",
    "        return 0\n",
    "    else:\n",
    "        return 1\n",
    "\n",
    "\n",
    "convertor = np.vectorize(convert_labels)\n",
    "y_test_2_label = convertor(y_test)\n",
    "y_train_2_label = convertor(y_train)"
   ],
   "metadata": {
    "collapsed": false,
    "pycharm": {
     "name": "#%%\n"
    }
   }
  },
  {
   "cell_type": "markdown",
   "source": [
    "clustering"
   ],
   "metadata": {
    "collapsed": false,
    "pycharm": {
     "name": "#%% md\n"
    }
   }
  },
  {
   "cell_type": "code",
   "execution_count": 32,
   "outputs": [],
   "source": [
    "number_of_clusters = 2\n",
    "centers = KMeans(X_train, number_of_clusters, 30)"
   ],
   "metadata": {
    "collapsed": false,
    "pycharm": {
     "name": "#%%\n"
    }
   }
  },
  {
   "cell_type": "code",
   "execution_count": 33,
   "outputs": [],
   "source": [
    "clusters = []  # each item in list is a cluster (list) and each element inside cluster is label of one member\n",
    "for i in range(number_of_clusters):\n",
    "    clusters.append([])\n",
    "\n",
    "# find each row data in which cluster and what is the correct label\n",
    "for i in range(X_train.shape[0]):\n",
    "    _, cluster_id = find_my_cluster_and_distance(X_train[i, :], centers, norm2)\n",
    "    clusters[cluster_id].append(y_train_2_label[i])"
   ],
   "metadata": {
    "collapsed": false,
    "pycharm": {
     "name": "#%%\n"
    }
   }
  },
  {
   "cell_type": "markdown",
   "source": [
    "way 1 to define cluster label (maximum frequency)"
   ],
   "metadata": {
    "collapsed": false,
    "pycharm": {
     "name": "#%% md\n"
    }
   }
  },
  {
   "cell_type": "code",
   "execution_count": 35,
   "outputs": [
    {
     "data": {
      "text/plain": "[0, 0]"
     },
     "execution_count": 35,
     "metadata": {},
     "output_type": "execute_result"
    }
   ],
   "source": [
    "center_labels1 = []  # each cluster must have label\n",
    "for cluster_index in range(number_of_clusters):\n",
    "    cluster_label = statistics.mode(clusters[cluster_index])\n",
    "    center_labels1.append(cluster_label)\n",
    "center_labels1"
   ],
   "metadata": {
    "collapsed": false,
    "pycharm": {
     "name": "#%%\n"
    }
   }
  },
  {
   "cell_type": "markdown",
   "source": [
    "way 2 to find label of the clusters\n"
   ],
   "metadata": {
    "collapsed": false,
    "pycharm": {
     "name": "#%% md\n"
    }
   }
  },
  {
   "cell_type": "code",
   "execution_count": 36,
   "outputs": [
    {
     "data": {
      "text/plain": "array([[  0, 427],\n       [  1,  42]], dtype=int64)"
     },
     "execution_count": 36,
     "metadata": {},
     "output_type": "execute_result"
    }
   ],
   "source": [
    "labels_count = np.array(np.unique(y_train_2_label, return_counts=True)).T\n",
    "labels_count"
   ],
   "metadata": {
    "collapsed": false,
    "pycharm": {
     "name": "#%%\n"
    }
   }
  },
  {
   "cell_type": "code",
   "execution_count": 37,
   "outputs": [],
   "source": [
    "def count_number_of_freq(ls, item):\n",
    "    counter = 0\n",
    "    for label in ls:\n",
    "        if label == item:\n",
    "            counter += 1\n",
    "    return counter"
   ],
   "metadata": {
    "collapsed": false,
    "pycharm": {
     "name": "#%%\n"
    }
   }
  },
  {
   "cell_type": "code",
   "execution_count": 38,
   "outputs": [
    {
     "data": {
      "text/plain": "array([0, 1])"
     },
     "execution_count": 38,
     "metadata": {},
     "output_type": "execute_result"
    }
   ],
   "source": [
    "\n",
    "center_labels2 = np.zeros(number_of_clusters, dtype=int)\n",
    "for label in range(labels_count.shape[0]):\n",
    "    max = 0\n",
    "    max_id = 0\n",
    "    for cluster_index in range(len(clusters)):\n",
    "        count = count_number_of_freq(clusters[cluster_index], label)\n",
    "        if count > max:\n",
    "            max = count\n",
    "            max_id = cluster_index\n",
    "\n",
    "    center_labels2[max_id] = label\n",
    "center_labels2"
   ],
   "metadata": {
    "collapsed": false,
    "pycharm": {
     "name": "#%%\n"
    }
   }
  },
  {
   "cell_type": "markdown",
   "source": [
    "now define predication"
   ],
   "metadata": {
    "collapsed": false,
    "pycharm": {
     "name": "#%% md\n"
    }
   }
  },
  {
   "cell_type": "code",
   "execution_count": 39,
   "outputs": [],
   "source": [
    "def pred_by_centers(vectors, centers: np.ndarray, center_labels, distance_function=norm2):\n",
    "    preds = []\n",
    "\n",
    "    for vector in vectors:\n",
    "        ClusterCount, _ = centers.shape\n",
    "        dists = []\n",
    "        for center_index in range(ClusterCount):\n",
    "            dists.append(distance_function(vector - centers[center_index, :]))\n",
    "\n",
    "        dists = np.array(dists)\n",
    "        min_cluster_index = np.where(dists == dists.min())[0][0]\n",
    "        # print(min_cluster_index)\n",
    "        # print(center_labels[int(min_cluster_index)])\n",
    "        preds.append(center_labels[min_cluster_index])\n",
    "\n",
    "    return preds"
   ],
   "metadata": {
    "collapsed": false,
    "pycharm": {
     "name": "#%%\n"
    }
   }
  },
  {
   "cell_type": "code",
   "execution_count": 40,
   "outputs": [
    {
     "data": {
      "text/plain": "[0, 0]"
     },
     "execution_count": 40,
     "metadata": {},
     "output_type": "execute_result"
    }
   ],
   "source": [
    "center_labels1"
   ],
   "metadata": {
    "collapsed": false,
    "pycharm": {
     "name": "#%%\n"
    }
   }
  },
  {
   "cell_type": "code",
   "execution_count": 47,
   "outputs": [],
   "source": [
    "preds1 = pred_by_centers(X_test, centers, center_labels1, distance_function=norm2)\n",
    "preds2 = pred_by_centers(X_test, centers, center_labels2, distance_function=norm2)"
   ],
   "metadata": {
    "collapsed": false,
    "pycharm": {
     "name": "#%%\n"
    }
   }
  },
  {
   "cell_type": "markdown",
   "source": [
    "# metrics"
   ],
   "metadata": {
    "collapsed": false,
    "pycharm": {
     "name": "#%% md\n"
    }
   }
  },
  {
   "cell_type": "code",
   "execution_count": 54,
   "outputs": [],
   "source": [
    "def purity_of_one_cluster_calculator(cluster: list, label):\n",
    "    count = 0\n",
    "    for item in cluster:\n",
    "        if item == label:\n",
    "            count += 1\n",
    "    return count / len(cluster)"
   ],
   "metadata": {
    "collapsed": false,
    "pycharm": {
     "name": "#%%\n"
    }
   }
  },
  {
   "cell_type": "code",
   "execution_count": 60,
   "outputs": [],
   "source": [
    "def purity_calculator(clusters: list , labels):\n",
    "    sum_size = 0\n",
    "    sum_value = 0\n",
    "    for cluster_index in  range(len(clusters)):\n",
    "        sum_value += purity_of_one_cluster_calculator(clusters[cluster_index] , labels[cluster_index]) * len(clusters[cluster_index])\n",
    "        sum_size += len(clusters[cluster_index])\n",
    "\n",
    "    return sum_value / sum_size\n"
   ],
   "metadata": {
    "collapsed": false,
    "pycharm": {
     "name": "#%%\n"
    }
   }
  },
  {
   "cell_type": "code",
   "execution_count": 46,
   "outputs": [],
   "source": [
    "import collections\n",
    "import math\n",
    "\n",
    "\n",
    "def entropy_calculator(clusters: list):\n",
    "    sum_of_lengths = 0\n",
    "    result = 0\n",
    "    for cluster in clusters:\n",
    "        frequency = collections.Counter(cluster)\n",
    "        length = len(cluster)\n",
    "        sum_of_lengths += length\n",
    "        sum = 0\n",
    "        for key in frequency.keys():\n",
    "            p = frequency[key] / length\n",
    "            sum += -p * math.log2(p)\n",
    "        result += sum * length\n",
    "\n",
    "    result /= sum_of_lengths\n",
    "    return result"
   ],
   "metadata": {
    "collapsed": false,
    "pycharm": {
     "name": "#%%\n"
    }
   }
  },
  {
   "cell_type": "markdown",
   "source": [
    "evaluate"
   ],
   "metadata": {
    "collapsed": false,
    "pycharm": {
     "name": "#%% md\n"
    }
   }
  },
  {
   "cell_type": "code",
   "execution_count": 50,
   "outputs": [
    {
     "name": "stdout",
     "output_type": "stream",
     "text": [
      "way1 accuracy : 0.8983050847457628\n",
      "way2 accuracy : 0.4576271186440678\n"
     ]
    }
   ],
   "source": [
    "print(f'way1 accuracy : {accuracy_score(y_test_2_label,preds1)}')\n",
    "print(f'way2 accuracy : {accuracy_score(y_test_2_label,preds2)}')"
   ],
   "metadata": {
    "collapsed": false,
    "pycharm": {
     "name": "#%%\n"
    }
   }
  },
  {
   "cell_type": "code",
   "execution_count": 52,
   "outputs": [
    {
     "name": "stdout",
     "output_type": "stream",
     "text": [
      "way1 entropy : 0.4320447046064277\n",
      "way2 entropy : 0.4320447046064277\n"
     ]
    }
   ],
   "source": [
    "entropy = entropy_calculator(clusters)\n",
    "print(f'way1 entropy : {entropy}')\n",
    "print(f'way2 entropy : {entropy}')"
   ],
   "metadata": {
    "collapsed": false,
    "pycharm": {
     "name": "#%%\n"
    }
   }
  },
  {
   "cell_type": "code",
   "execution_count": 61,
   "outputs": [
    {
     "name": "stdout",
     "output_type": "stream",
     "text": [
      "way1 purity : 0.9104477611940298\n",
      "way2 purity : 0.4626865671641791\n"
     ]
    }
   ],
   "source": [
    "way1_purity = purity_calculator(clusters , center_labels1)\n",
    "way2_purity =purity_calculator(clusters , center_labels2)\n",
    "print(f'way1 purity : {way1_purity}')\n",
    "print(f'way2 purity : {way2_purity}')"
   ],
   "metadata": {
    "collapsed": false,
    "pycharm": {
     "name": "#%%\n"
    }
   }
  },
  {
   "cell_type": "markdown",
   "source": [],
   "metadata": {
    "collapsed": false,
    "pycharm": {
     "name": "#%% md\n"
    }
   }
  },
  {
   "cell_type": "markdown",
   "source": [
    "# part F"
   ],
   "metadata": {
    "collapsed": false,
    "pycharm": {
     "name": "#%% md\n"
    }
   }
  },
  {
   "cell_type": "code",
   "execution_count": 73,
   "outputs": [],
   "source": [
    "number_of_clusters = 4\n",
    "centers = KMeans(X_train, number_of_clusters, 30)"
   ],
   "metadata": {
    "collapsed": false,
    "pycharm": {
     "name": "#%%\n"
    }
   }
  },
  {
   "cell_type": "code",
   "execution_count": 74,
   "outputs": [],
   "source": [
    "clusters = []  # each item in list is a cluster (list) and each element inside cluster is label of one member\n",
    "for i in range(number_of_clusters):\n",
    "    clusters.append([])\n",
    "\n",
    "# find each row data in which cluster and what is the correct label\n",
    "for i in range(X_train.shape[0]):\n",
    "    _, cluster_id = find_my_cluster_and_distance(X_train[i, :], centers, norm2)\n",
    "    clusters[cluster_id].append(y_train[i])"
   ],
   "metadata": {
    "collapsed": false,
    "pycharm": {
     "name": "#%%\n"
    }
   }
  },
  {
   "cell_type": "markdown",
   "source": [
    "way 1"
   ],
   "metadata": {
    "collapsed": false,
    "pycharm": {
     "name": "#%% md\n"
    }
   }
  },
  {
   "cell_type": "code",
   "execution_count": 75,
   "outputs": [
    {
     "data": {
      "text/plain": "[0, 0, 0, 0]"
     },
     "execution_count": 75,
     "metadata": {},
     "output_type": "execute_result"
    }
   ],
   "source": [
    "import statistics\n",
    "center_labels1 = []  # each cluster must have label\n",
    "for cluster_index in range(number_of_clusters):\n",
    "    votes = clusters[cluster_index]\n",
    "    cluster_label = statistics.mode(votes)\n",
    "    center_labels1.append(cluster_label)\n",
    "center_labels1"
   ],
   "metadata": {
    "collapsed": false,
    "pycharm": {
     "name": "#%%\n"
    }
   }
  },
  {
   "cell_type": "markdown",
   "source": [
    "way 2"
   ],
   "metadata": {
    "collapsed": false,
    "pycharm": {
     "name": "#%% md\n"
    }
   }
  },
  {
   "cell_type": "code",
   "execution_count": 78,
   "outputs": [
    {
     "data": {
      "text/plain": "array([[  0, 427],\n       [  1,  17],\n       [  2,  15],\n       [  3,  10]], dtype=int64)"
     },
     "execution_count": 78,
     "metadata": {},
     "output_type": "execute_result"
    }
   ],
   "source": [
    "labels_count = np.array(np.unique(y_train, return_counts=True)).T\n",
    "labels_count"
   ],
   "metadata": {
    "collapsed": false,
    "pycharm": {
     "name": "#%%\n"
    }
   }
  },
  {
   "cell_type": "code",
   "execution_count": 79,
   "outputs": [
    {
     "data": {
      "text/plain": "array([0, 3, 0, 2])"
     },
     "execution_count": 79,
     "metadata": {},
     "output_type": "execute_result"
    }
   ],
   "source": [
    "center_labels2 = np.zeros(number_of_clusters, dtype=int)\n",
    "for label in range(labels_count.shape[0]):\n",
    "    max = 0\n",
    "    max_id = 0\n",
    "    for cluster_index in range(len(clusters)):\n",
    "        count = count_number_of_freq(clusters[cluster_index], label)\n",
    "        if count > max:\n",
    "            max = count\n",
    "            max_id = cluster_index\n",
    "\n",
    "    center_labels2[max_id] = label\n",
    "center_labels2"
   ],
   "metadata": {
    "collapsed": false,
    "pycharm": {
     "name": "#%%\n"
    }
   }
  },
  {
   "cell_type": "code",
   "execution_count": 80,
   "outputs": [],
   "source": [
    "preds1 = pred_by_centers(X_test, centers, center_labels1, distance_function=norm2)\n",
    "preds2 = pred_by_centers(X_test, centers, center_labels2, distance_function=norm2)"
   ],
   "metadata": {
    "collapsed": false,
    "pycharm": {
     "name": "#%%\n"
    }
   }
  },
  {
   "cell_type": "markdown",
   "source": [
    "evaluation"
   ],
   "metadata": {
    "collapsed": false,
    "pycharm": {
     "name": "#%% md\n"
    }
   }
  },
  {
   "cell_type": "code",
   "execution_count": 81,
   "outputs": [
    {
     "name": "stdout",
     "output_type": "stream",
     "text": [
      "way1 accuracy : 0.8983050847457628\n",
      "way2 accuracy : 0.5932203389830508\n"
     ]
    }
   ],
   "source": [
    "print(f'way1 accuracy : {accuracy_score(y_test,preds1)}')\n",
    "print(f'way2 accuracy : {accuracy_score(y_test,preds2)}')"
   ],
   "metadata": {
    "collapsed": false,
    "pycharm": {
     "name": "#%%\n"
    }
   }
  },
  {
   "cell_type": "code",
   "execution_count": 82,
   "outputs": [
    {
     "name": "stdout",
     "output_type": "stream",
     "text": [
      "way1 entropy : 0.503423806390791\n",
      "way2 entropy : 0.503423806390791\n"
     ]
    }
   ],
   "source": [
    "entropy = entropy_calculator(clusters)\n",
    "print(f'way1 entropy : {entropy}')\n",
    "print(f'way2 entropy : {entropy}')"
   ],
   "metadata": {
    "collapsed": false,
    "pycharm": {
     "name": "#%%\n"
    }
   }
  },
  {
   "cell_type": "code",
   "execution_count": 83,
   "outputs": [
    {
     "name": "stdout",
     "output_type": "stream",
     "text": [
      "way1 purity : 0.9104477611940298\n",
      "way2 purity : 0.5991471215351812\n"
     ]
    }
   ],
   "source": [
    "way1_purity = purity_calculator(clusters, center_labels1)\n",
    "way2_purity = purity_calculator(clusters, center_labels2)\n",
    "print(f'way1 purity : {way1_purity}')\n",
    "print(f'way2 purity : {way2_purity}')"
   ],
   "metadata": {
    "collapsed": false,
    "pycharm": {
     "name": "#%%\n"
    }
   }
  }
 ],
 "metadata": {
  "kernelspec": {
   "display_name": "Python 3",
   "language": "python",
   "name": "python3"
  },
  "language_info": {
   "codemirror_mode": {
    "name": "ipython",
    "version": 2
   },
   "file_extension": ".py",
   "mimetype": "text/x-python",
   "name": "python",
   "nbconvert_exporter": "python",
   "pygments_lexer": "ipython2",
   "version": "2.7.6"
  }
 },
 "nbformat": 4,
 "nbformat_minor": 0
}