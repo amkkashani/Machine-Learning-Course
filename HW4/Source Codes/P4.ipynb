{
 "cells": [
  {
   "cell_type": "markdown",
   "source": [
    "# imports"
   ],
   "metadata": {
    "collapsed": false,
    "pycharm": {
     "name": "#%% md\n"
    }
   }
  },
  {
   "cell_type": "code",
   "execution_count": 2,
   "outputs": [],
   "source": [
    "import numpy as np\n",
    "import pandas as pd\n",
    "from sklearn.model_selection import train_test_split\n",
    "from sklearn.datasets import make_classification\n",
    "from sklearn.ensemble import BaggingClassifier, AdaBoostClassifier\n",
    "from sklearn.neighbors import KNeighborsClassifier\n",
    "from sklearn.metrics import roc_curve, classification_report, accuracy_score, precision_score\n",
    "from sklearn.tree import DecisionTreeClassifier\n",
    "from sklearn.svm import SVC\n",
    "from sklearn.naive_bayes import MultinomialNB\n",
    "from sklearn.linear_model import LogisticRegression\n",
    "\n",
    "import seaborn as sns\n",
    "import matplotlib.pyplot as plt\n",
    "from sklearn.metrics import confusion_matrix\n"
   ],
   "metadata": {
    "collapsed": false,
    "pycharm": {
     "name": "#%%\n"
    }
   }
  },
  {
   "cell_type": "markdown",
   "source": [
    "# b"
   ],
   "metadata": {
    "collapsed": false,
    "pycharm": {
     "name": "#%% md\n"
    }
   }
  },
  {
   "cell_type": "code",
   "execution_count": 3,
   "outputs": [
    {
     "data": {
      "text/plain": "       NtDuplicateObject  NtOpenSection  CoUninitialize  RegCloseKey  \\\n0                      0              0               0            0   \n1                      2              2               0           10   \n2                      5              2               2           96   \n3                      9             13               5          662   \n4                      3              2               2           94   \n...                  ...            ...             ...          ...   \n11256                204             41             109         2680   \n11257                197             39             107         2525   \n11258                198             39             109         2534   \n11259                 13              0               3          481   \n11260                197             41             108         2526   \n\n       LdrUnloadDll  DrawTextExW  GetSystemInfo  RegQueryValueExA  \\\n0                 0            2              0                 0   \n1                 0            4              1                 0   \n2                 2           15              3               116   \n3                37            0              0               405   \n4                 3           17              4               116   \n...             ...          ...            ...               ...   \n11256            77          102             24               148   \n11257            73          135             24               148   \n11258            72          162             22               188   \n11259            29            0            101               171   \n11260            73          119             22               188   \n\n       getaddrinfo  WSAStartup  ...  CreateRemoteThreadEx  \\\n0                0           0  ...                     0   \n1                0           1  ...                     0   \n2                2           1  ...                     0   \n3                0           1  ...                     0   \n4                2           1  ...                     0   \n...            ...         ...  ...                   ...   \n11256            0          12  ...                     0   \n11257            0          12  ...                     0   \n11258            0          11  ...                     0   \n11259           10           5  ...                     0   \n11260            0          11  ...                     0   \n\n       NtCreateDirectoryObject  EnumServicesStatusA  NtShutdownSystem  \\\n0                            0                    0                 0   \n1                            0                    0                 0   \n2                            0                    0                 0   \n3                            0                    0                 0   \n4                            0                    0                 0   \n...                        ...                  ...               ...   \n11256                        0                    0                 0   \n11257                        0                    0                 0   \n11258                        0                    0                 0   \n11259                        0                    0                 0   \n11260                        0                    0                 0   \n\n       NtCreateProcessEx  NotifyBootConfigStatus  NtSaveKey  system  \\\n0                      0                       0          0       0   \n1                      0                       0          0       0   \n2                      0                       0          0       0   \n3                      0                       0          0       0   \n4                      0                       0          0       0   \n...                  ...                     ...        ...     ...   \n11256                  0                       0          0       0   \n11257                  0                       0          0       0   \n11258                  0                       0          0       0   \n11259                  0                       0          0       0   \n11260                  0                       0          0       0   \n\n       WNetGetProviderNameW  OUTPUT  \n0                         0       1  \n1                         0       1  \n2                         0       1  \n3                         0       1  \n4                         0       1  \n...                     ...     ...  \n11256                     0       1  \n11257                     0       1  \n11258                     0       1  \n11259                     0       1  \n11260                     0       1  \n\n[11261 rows x 312 columns]",
      "text/html": "<div>\n<style scoped>\n    .dataframe tbody tr th:only-of-type {\n        vertical-align: middle;\n    }\n\n    .dataframe tbody tr th {\n        vertical-align: top;\n    }\n\n    .dataframe thead th {\n        text-align: right;\n    }\n</style>\n<table border=\"1\" class=\"dataframe\">\n  <thead>\n    <tr style=\"text-align: right;\">\n      <th></th>\n      <th>NtDuplicateObject</th>\n      <th>NtOpenSection</th>\n      <th>CoUninitialize</th>\n      <th>RegCloseKey</th>\n      <th>LdrUnloadDll</th>\n      <th>DrawTextExW</th>\n      <th>GetSystemInfo</th>\n      <th>RegQueryValueExA</th>\n      <th>getaddrinfo</th>\n      <th>WSAStartup</th>\n      <th>...</th>\n      <th>CreateRemoteThreadEx</th>\n      <th>NtCreateDirectoryObject</th>\n      <th>EnumServicesStatusA</th>\n      <th>NtShutdownSystem</th>\n      <th>NtCreateProcessEx</th>\n      <th>NotifyBootConfigStatus</th>\n      <th>NtSaveKey</th>\n      <th>system</th>\n      <th>WNetGetProviderNameW</th>\n      <th>OUTPUT</th>\n    </tr>\n  </thead>\n  <tbody>\n    <tr>\n      <th>0</th>\n      <td>0</td>\n      <td>0</td>\n      <td>0</td>\n      <td>0</td>\n      <td>0</td>\n      <td>2</td>\n      <td>0</td>\n      <td>0</td>\n      <td>0</td>\n      <td>0</td>\n      <td>...</td>\n      <td>0</td>\n      <td>0</td>\n      <td>0</td>\n      <td>0</td>\n      <td>0</td>\n      <td>0</td>\n      <td>0</td>\n      <td>0</td>\n      <td>0</td>\n      <td>1</td>\n    </tr>\n    <tr>\n      <th>1</th>\n      <td>2</td>\n      <td>2</td>\n      <td>0</td>\n      <td>10</td>\n      <td>0</td>\n      <td>4</td>\n      <td>1</td>\n      <td>0</td>\n      <td>0</td>\n      <td>1</td>\n      <td>...</td>\n      <td>0</td>\n      <td>0</td>\n      <td>0</td>\n      <td>0</td>\n      <td>0</td>\n      <td>0</td>\n      <td>0</td>\n      <td>0</td>\n      <td>0</td>\n      <td>1</td>\n    </tr>\n    <tr>\n      <th>2</th>\n      <td>5</td>\n      <td>2</td>\n      <td>2</td>\n      <td>96</td>\n      <td>2</td>\n      <td>15</td>\n      <td>3</td>\n      <td>116</td>\n      <td>2</td>\n      <td>1</td>\n      <td>...</td>\n      <td>0</td>\n      <td>0</td>\n      <td>0</td>\n      <td>0</td>\n      <td>0</td>\n      <td>0</td>\n      <td>0</td>\n      <td>0</td>\n      <td>0</td>\n      <td>1</td>\n    </tr>\n    <tr>\n      <th>3</th>\n      <td>9</td>\n      <td>13</td>\n      <td>5</td>\n      <td>662</td>\n      <td>37</td>\n      <td>0</td>\n      <td>0</td>\n      <td>405</td>\n      <td>0</td>\n      <td>1</td>\n      <td>...</td>\n      <td>0</td>\n      <td>0</td>\n      <td>0</td>\n      <td>0</td>\n      <td>0</td>\n      <td>0</td>\n      <td>0</td>\n      <td>0</td>\n      <td>0</td>\n      <td>1</td>\n    </tr>\n    <tr>\n      <th>4</th>\n      <td>3</td>\n      <td>2</td>\n      <td>2</td>\n      <td>94</td>\n      <td>3</td>\n      <td>17</td>\n      <td>4</td>\n      <td>116</td>\n      <td>2</td>\n      <td>1</td>\n      <td>...</td>\n      <td>0</td>\n      <td>0</td>\n      <td>0</td>\n      <td>0</td>\n      <td>0</td>\n      <td>0</td>\n      <td>0</td>\n      <td>0</td>\n      <td>0</td>\n      <td>1</td>\n    </tr>\n    <tr>\n      <th>...</th>\n      <td>...</td>\n      <td>...</td>\n      <td>...</td>\n      <td>...</td>\n      <td>...</td>\n      <td>...</td>\n      <td>...</td>\n      <td>...</td>\n      <td>...</td>\n      <td>...</td>\n      <td>...</td>\n      <td>...</td>\n      <td>...</td>\n      <td>...</td>\n      <td>...</td>\n      <td>...</td>\n      <td>...</td>\n      <td>...</td>\n      <td>...</td>\n      <td>...</td>\n      <td>...</td>\n    </tr>\n    <tr>\n      <th>11256</th>\n      <td>204</td>\n      <td>41</td>\n      <td>109</td>\n      <td>2680</td>\n      <td>77</td>\n      <td>102</td>\n      <td>24</td>\n      <td>148</td>\n      <td>0</td>\n      <td>12</td>\n      <td>...</td>\n      <td>0</td>\n      <td>0</td>\n      <td>0</td>\n      <td>0</td>\n      <td>0</td>\n      <td>0</td>\n      <td>0</td>\n      <td>0</td>\n      <td>0</td>\n      <td>1</td>\n    </tr>\n    <tr>\n      <th>11257</th>\n      <td>197</td>\n      <td>39</td>\n      <td>107</td>\n      <td>2525</td>\n      <td>73</td>\n      <td>135</td>\n      <td>24</td>\n      <td>148</td>\n      <td>0</td>\n      <td>12</td>\n      <td>...</td>\n      <td>0</td>\n      <td>0</td>\n      <td>0</td>\n      <td>0</td>\n      <td>0</td>\n      <td>0</td>\n      <td>0</td>\n      <td>0</td>\n      <td>0</td>\n      <td>1</td>\n    </tr>\n    <tr>\n      <th>11258</th>\n      <td>198</td>\n      <td>39</td>\n      <td>109</td>\n      <td>2534</td>\n      <td>72</td>\n      <td>162</td>\n      <td>22</td>\n      <td>188</td>\n      <td>0</td>\n      <td>11</td>\n      <td>...</td>\n      <td>0</td>\n      <td>0</td>\n      <td>0</td>\n      <td>0</td>\n      <td>0</td>\n      <td>0</td>\n      <td>0</td>\n      <td>0</td>\n      <td>0</td>\n      <td>1</td>\n    </tr>\n    <tr>\n      <th>11259</th>\n      <td>13</td>\n      <td>0</td>\n      <td>3</td>\n      <td>481</td>\n      <td>29</td>\n      <td>0</td>\n      <td>101</td>\n      <td>171</td>\n      <td>10</td>\n      <td>5</td>\n      <td>...</td>\n      <td>0</td>\n      <td>0</td>\n      <td>0</td>\n      <td>0</td>\n      <td>0</td>\n      <td>0</td>\n      <td>0</td>\n      <td>0</td>\n      <td>0</td>\n      <td>1</td>\n    </tr>\n    <tr>\n      <th>11260</th>\n      <td>197</td>\n      <td>41</td>\n      <td>108</td>\n      <td>2526</td>\n      <td>73</td>\n      <td>119</td>\n      <td>22</td>\n      <td>188</td>\n      <td>0</td>\n      <td>11</td>\n      <td>...</td>\n      <td>0</td>\n      <td>0</td>\n      <td>0</td>\n      <td>0</td>\n      <td>0</td>\n      <td>0</td>\n      <td>0</td>\n      <td>0</td>\n      <td>0</td>\n      <td>1</td>\n    </tr>\n  </tbody>\n</table>\n<p>11261 rows × 312 columns</p>\n</div>"
     },
     "execution_count": 3,
     "metadata": {},
     "output_type": "execute_result"
    }
   ],
   "source": [
    "df = pd.read_csv('anti-malware .csv')\n",
    "df"
   ],
   "metadata": {
    "collapsed": false,
    "pycharm": {
     "name": "#%%\n"
    }
   }
  },
  {
   "cell_type": "code",
   "execution_count": 4,
   "outputs": [
    {
     "data": {
      "text/plain": "       NtDuplicateObject  NtOpenSection  CoUninitialize  RegCloseKey  \\\n0                      0              0               0            0   \n1                      2              2               0           10   \n2                      5              2               2           96   \n3                      9             13               5          662   \n4                      3              2               2           94   \n...                  ...            ...             ...          ...   \n11256                204             41             109         2680   \n11257                197             39             107         2525   \n11258                198             39             109         2534   \n11259                 13              0               3          481   \n11260                197             41             108         2526   \n\n       LdrUnloadDll  DrawTextExW  GetSystemInfo  RegQueryValueExA  \\\n0                 0            2              0                 0   \n1                 0            4              1                 0   \n2                 2           15              3               116   \n3                37            0              0               405   \n4                 3           17              4               116   \n...             ...          ...            ...               ...   \n11256            77          102             24               148   \n11257            73          135             24               148   \n11258            72          162             22               188   \n11259            29            0            101               171   \n11260            73          119             22               188   \n\n       getaddrinfo  WSAStartup  ...  DnsQuery_UTF8  CreateRemoteThreadEx  \\\n0                0           0  ...              0                     0   \n1                0           1  ...              0                     0   \n2                2           1  ...              0                     0   \n3                0           1  ...              0                     0   \n4                2           1  ...              0                     0   \n...            ...         ...  ...            ...                   ...   \n11256            0          12  ...              0                     0   \n11257            0          12  ...              0                     0   \n11258            0          11  ...              0                     0   \n11259           10           5  ...              0                     0   \n11260            0          11  ...              0                     0   \n\n       NtCreateDirectoryObject  EnumServicesStatusA  NtShutdownSystem  \\\n0                            0                    0                 0   \n1                            0                    0                 0   \n2                            0                    0                 0   \n3                            0                    0                 0   \n4                            0                    0                 0   \n...                        ...                  ...               ...   \n11256                        0                    0                 0   \n11257                        0                    0                 0   \n11258                        0                    0                 0   \n11259                        0                    0                 0   \n11260                        0                    0                 0   \n\n       NtCreateProcessEx  NotifyBootConfigStatus  NtSaveKey  system  \\\n0                      0                       0          0       0   \n1                      0                       0          0       0   \n2                      0                       0          0       0   \n3                      0                       0          0       0   \n4                      0                       0          0       0   \n...                  ...                     ...        ...     ...   \n11256                  0                       0          0       0   \n11257                  0                       0          0       0   \n11258                  0                       0          0       0   \n11259                  0                       0          0       0   \n11260                  0                       0          0       0   \n\n       WNetGetProviderNameW  \n0                         0  \n1                         0  \n2                         0  \n3                         0  \n4                         0  \n...                     ...  \n11256                     0  \n11257                     0  \n11258                     0  \n11259                     0  \n11260                     0  \n\n[11261 rows x 311 columns]",
      "text/html": "<div>\n<style scoped>\n    .dataframe tbody tr th:only-of-type {\n        vertical-align: middle;\n    }\n\n    .dataframe tbody tr th {\n        vertical-align: top;\n    }\n\n    .dataframe thead th {\n        text-align: right;\n    }\n</style>\n<table border=\"1\" class=\"dataframe\">\n  <thead>\n    <tr style=\"text-align: right;\">\n      <th></th>\n      <th>NtDuplicateObject</th>\n      <th>NtOpenSection</th>\n      <th>CoUninitialize</th>\n      <th>RegCloseKey</th>\n      <th>LdrUnloadDll</th>\n      <th>DrawTextExW</th>\n      <th>GetSystemInfo</th>\n      <th>RegQueryValueExA</th>\n      <th>getaddrinfo</th>\n      <th>WSAStartup</th>\n      <th>...</th>\n      <th>DnsQuery_UTF8</th>\n      <th>CreateRemoteThreadEx</th>\n      <th>NtCreateDirectoryObject</th>\n      <th>EnumServicesStatusA</th>\n      <th>NtShutdownSystem</th>\n      <th>NtCreateProcessEx</th>\n      <th>NotifyBootConfigStatus</th>\n      <th>NtSaveKey</th>\n      <th>system</th>\n      <th>WNetGetProviderNameW</th>\n    </tr>\n  </thead>\n  <tbody>\n    <tr>\n      <th>0</th>\n      <td>0</td>\n      <td>0</td>\n      <td>0</td>\n      <td>0</td>\n      <td>0</td>\n      <td>2</td>\n      <td>0</td>\n      <td>0</td>\n      <td>0</td>\n      <td>0</td>\n      <td>...</td>\n      <td>0</td>\n      <td>0</td>\n      <td>0</td>\n      <td>0</td>\n      <td>0</td>\n      <td>0</td>\n      <td>0</td>\n      <td>0</td>\n      <td>0</td>\n      <td>0</td>\n    </tr>\n    <tr>\n      <th>1</th>\n      <td>2</td>\n      <td>2</td>\n      <td>0</td>\n      <td>10</td>\n      <td>0</td>\n      <td>4</td>\n      <td>1</td>\n      <td>0</td>\n      <td>0</td>\n      <td>1</td>\n      <td>...</td>\n      <td>0</td>\n      <td>0</td>\n      <td>0</td>\n      <td>0</td>\n      <td>0</td>\n      <td>0</td>\n      <td>0</td>\n      <td>0</td>\n      <td>0</td>\n      <td>0</td>\n    </tr>\n    <tr>\n      <th>2</th>\n      <td>5</td>\n      <td>2</td>\n      <td>2</td>\n      <td>96</td>\n      <td>2</td>\n      <td>15</td>\n      <td>3</td>\n      <td>116</td>\n      <td>2</td>\n      <td>1</td>\n      <td>...</td>\n      <td>0</td>\n      <td>0</td>\n      <td>0</td>\n      <td>0</td>\n      <td>0</td>\n      <td>0</td>\n      <td>0</td>\n      <td>0</td>\n      <td>0</td>\n      <td>0</td>\n    </tr>\n    <tr>\n      <th>3</th>\n      <td>9</td>\n      <td>13</td>\n      <td>5</td>\n      <td>662</td>\n      <td>37</td>\n      <td>0</td>\n      <td>0</td>\n      <td>405</td>\n      <td>0</td>\n      <td>1</td>\n      <td>...</td>\n      <td>0</td>\n      <td>0</td>\n      <td>0</td>\n      <td>0</td>\n      <td>0</td>\n      <td>0</td>\n      <td>0</td>\n      <td>0</td>\n      <td>0</td>\n      <td>0</td>\n    </tr>\n    <tr>\n      <th>4</th>\n      <td>3</td>\n      <td>2</td>\n      <td>2</td>\n      <td>94</td>\n      <td>3</td>\n      <td>17</td>\n      <td>4</td>\n      <td>116</td>\n      <td>2</td>\n      <td>1</td>\n      <td>...</td>\n      <td>0</td>\n      <td>0</td>\n      <td>0</td>\n      <td>0</td>\n      <td>0</td>\n      <td>0</td>\n      <td>0</td>\n      <td>0</td>\n      <td>0</td>\n      <td>0</td>\n    </tr>\n    <tr>\n      <th>...</th>\n      <td>...</td>\n      <td>...</td>\n      <td>...</td>\n      <td>...</td>\n      <td>...</td>\n      <td>...</td>\n      <td>...</td>\n      <td>...</td>\n      <td>...</td>\n      <td>...</td>\n      <td>...</td>\n      <td>...</td>\n      <td>...</td>\n      <td>...</td>\n      <td>...</td>\n      <td>...</td>\n      <td>...</td>\n      <td>...</td>\n      <td>...</td>\n      <td>...</td>\n      <td>...</td>\n    </tr>\n    <tr>\n      <th>11256</th>\n      <td>204</td>\n      <td>41</td>\n      <td>109</td>\n      <td>2680</td>\n      <td>77</td>\n      <td>102</td>\n      <td>24</td>\n      <td>148</td>\n      <td>0</td>\n      <td>12</td>\n      <td>...</td>\n      <td>0</td>\n      <td>0</td>\n      <td>0</td>\n      <td>0</td>\n      <td>0</td>\n      <td>0</td>\n      <td>0</td>\n      <td>0</td>\n      <td>0</td>\n      <td>0</td>\n    </tr>\n    <tr>\n      <th>11257</th>\n      <td>197</td>\n      <td>39</td>\n      <td>107</td>\n      <td>2525</td>\n      <td>73</td>\n      <td>135</td>\n      <td>24</td>\n      <td>148</td>\n      <td>0</td>\n      <td>12</td>\n      <td>...</td>\n      <td>0</td>\n      <td>0</td>\n      <td>0</td>\n      <td>0</td>\n      <td>0</td>\n      <td>0</td>\n      <td>0</td>\n      <td>0</td>\n      <td>0</td>\n      <td>0</td>\n    </tr>\n    <tr>\n      <th>11258</th>\n      <td>198</td>\n      <td>39</td>\n      <td>109</td>\n      <td>2534</td>\n      <td>72</td>\n      <td>162</td>\n      <td>22</td>\n      <td>188</td>\n      <td>0</td>\n      <td>11</td>\n      <td>...</td>\n      <td>0</td>\n      <td>0</td>\n      <td>0</td>\n      <td>0</td>\n      <td>0</td>\n      <td>0</td>\n      <td>0</td>\n      <td>0</td>\n      <td>0</td>\n      <td>0</td>\n    </tr>\n    <tr>\n      <th>11259</th>\n      <td>13</td>\n      <td>0</td>\n      <td>3</td>\n      <td>481</td>\n      <td>29</td>\n      <td>0</td>\n      <td>101</td>\n      <td>171</td>\n      <td>10</td>\n      <td>5</td>\n      <td>...</td>\n      <td>0</td>\n      <td>0</td>\n      <td>0</td>\n      <td>0</td>\n      <td>0</td>\n      <td>0</td>\n      <td>0</td>\n      <td>0</td>\n      <td>0</td>\n      <td>0</td>\n    </tr>\n    <tr>\n      <th>11260</th>\n      <td>197</td>\n      <td>41</td>\n      <td>108</td>\n      <td>2526</td>\n      <td>73</td>\n      <td>119</td>\n      <td>22</td>\n      <td>188</td>\n      <td>0</td>\n      <td>11</td>\n      <td>...</td>\n      <td>0</td>\n      <td>0</td>\n      <td>0</td>\n      <td>0</td>\n      <td>0</td>\n      <td>0</td>\n      <td>0</td>\n      <td>0</td>\n      <td>0</td>\n      <td>0</td>\n    </tr>\n  </tbody>\n</table>\n<p>11261 rows × 311 columns</p>\n</div>"
     },
     "execution_count": 4,
     "metadata": {},
     "output_type": "execute_result"
    }
   ],
   "source": [
    "X_df = df.iloc[:, :-1]\n",
    "y_df = df.iloc[:, -1]\n",
    "X_df"
   ],
   "metadata": {
    "collapsed": false,
    "pycharm": {
     "name": "#%%\n"
    }
   }
  },
  {
   "cell_type": "code",
   "execution_count": 5,
   "outputs": [
    {
     "data": {
      "text/plain": "((5630, 311), (5630,))"
     },
     "execution_count": 5,
     "metadata": {},
     "output_type": "execute_result"
    }
   ],
   "source": [
    "X_train, _, y_train, _ = train_test_split(X_df, y_df, test_size=0.5, stratify=y_df, random_state=42)\n",
    "X_train.shape, y_train.shape"
   ],
   "metadata": {
    "collapsed": false,
    "pycharm": {
     "name": "#%%\n"
    }
   }
  },
  {
   "cell_type": "code",
   "execution_count": 6,
   "outputs": [
    {
     "data": {
      "text/plain": "((4504, 311), (1126, 311), (4504,), (1126,))"
     },
     "execution_count": 6,
     "metadata": {},
     "output_type": "execute_result"
    }
   ],
   "source": [
    "X_train, X_test, y_train, y_test = train_test_split(X_train, y_train, stratify=y_train, test_size=0.2, random_state=42)\n",
    "X_train.shape, X_test.shape, y_train.shape, y_test.shape"
   ],
   "metadata": {
    "collapsed": false,
    "pycharm": {
     "name": "#%%\n"
    }
   }
  },
  {
   "cell_type": "markdown",
   "source": [
    "# c"
   ],
   "metadata": {
    "collapsed": false,
    "pycharm": {
     "name": "#%% md\n"
    }
   }
  },
  {
   "cell_type": "code",
   "execution_count": 7,
   "outputs": [],
   "source": [
    "def show_report_model(y_true, pred):\n",
    "    print(classification_report(y_test, pred))\n",
    "    print(\"******\")\n",
    "    cm = confusion_matrix(y_true, pred)\n",
    "    cmn = cm.astype('float') / cm.sum(axis=1)[:, np.newaxis]\n",
    "    sns.heatmap(cmn, annot=True, fmt='.2f', xticklabels=[0, 1], yticklabels=[0, 1])\n",
    "    plt.ylabel('Actual')\n",
    "    plt.xlabel('Predicted')\n",
    "    print(f'confusion_matrix \\n')\n",
    "    plt.show(block=False)"
   ],
   "metadata": {
    "collapsed": false,
    "pycharm": {
     "name": "#%%\n"
    }
   }
  },
  {
   "cell_type": "code",
   "execution_count": 8,
   "outputs": [],
   "source": [
    "def plot_roc_curve(y_true, y_prob):\n",
    "    fpr, tpr, _ = roc_curve(y_true, y_prob)\n",
    "    #create ROC curve\n",
    "    plt.plot(fpr, tpr)\n",
    "    plt.ylabel('True Positive Rate')\n",
    "    plt.xlabel('False Positive Rate')\n",
    "    plt.show()"
   ],
   "metadata": {
    "collapsed": false,
    "pycharm": {
     "name": "#%%\n"
    }
   }
  },
  {
   "cell_type": "markdown",
   "source": [
    "Bagging with KNN"
   ],
   "metadata": {
    "collapsed": false,
    "pycharm": {
     "name": "#%% md\n"
    }
   }
  },
  {
   "cell_type": "code",
   "execution_count": 14,
   "outputs": [],
   "source": [
    "clf = BaggingClassifier(base_estimator=KNeighborsClassifier(n_neighbors=10), n_estimators=10, random_state=0).fit(\n",
    "    X_train, y_train)"
   ],
   "metadata": {
    "collapsed": false,
    "pycharm": {
     "name": "#%%\n"
    }
   }
  },
  {
   "cell_type": "code",
   "execution_count": 15,
   "outputs": [
    {
     "data": {
      "text/plain": "((1126,), (1126,))"
     },
     "execution_count": 15,
     "metadata": {},
     "output_type": "execute_result"
    }
   ],
   "source": [
    "pred = clf.predict(X_test)\n",
    "pred.shape, y_test.shape"
   ],
   "metadata": {
    "collapsed": false,
    "pycharm": {
     "name": "#%%\n"
    }
   }
  },
  {
   "cell_type": "code",
   "execution_count": 16,
   "outputs": [
    {
     "name": "stdout",
     "output_type": "stream",
     "text": [
      "              precision    recall  f1-score   support\n",
      "\n",
      "           0       0.90      0.88      0.89       240\n",
      "           1       0.97      0.97      0.97       886\n",
      "\n",
      "    accuracy                           0.95      1126\n",
      "   macro avg       0.93      0.92      0.93      1126\n",
      "weighted avg       0.95      0.95      0.95      1126\n",
      "\n",
      "******\n",
      "confusion_matrix \n",
      "\n"
     ]
    },
    {
     "data": {
      "text/plain": "<Figure size 432x288 with 2 Axes>",
      "image/png": "[encoded data removed]"
     },
     "metadata": {},
     "output_type": "display_data"
    }
   ],
   "source": [
    "show_report_model(y_test, pred)"
   ],
   "metadata": {
    "collapsed": false,
    "pycharm": {
     "name": "#%%\n"
    }
   }
  },
  {
   "cell_type": "code",
   "execution_count": 17,
   "outputs": [
    {
     "data": {
      "text/plain": "<Figure size 432x288 with 1 Axes>",
      "image/png": "[encoded data removed]"
     },
     "metadata": {},
     "output_type": "display_data"
    }
   ],
   "source": [
    "pred_prob = clf.predict_proba(X_test)\n",
    "plot_roc_curve(y_test, pred_prob[:, 1])"
   ],
   "metadata": {
    "collapsed": false,
    "pycharm": {
     "name": "#%%\n"
    }
   }
  },
  {
   "cell_type": "markdown",
   "source": [
    "Bagging with tree"
   ],
   "metadata": {
    "collapsed": false,
    "pycharm": {
     "name": "#%% md\n"
    }
   }
  },
  {
   "cell_type": "code",
   "execution_count": 9,
   "outputs": [],
   "source": [
    "clf = BaggingClassifier(base_estimator=DecisionTreeClassifier(max_depth=25, random_state=0), n_estimators=10, random_state=0).fit(\n",
    "    X_train, y_train)"
   ],
   "metadata": {
    "collapsed": false,
    "pycharm": {
     "name": "#%%\n"
    }
   }
  },
  {
   "cell_type": "code",
   "execution_count": 10,
   "outputs": [],
   "source": [
    "# clf = DecisionTreeClassifier(max_depth=25, random_state=0)\n",
    "# clf.fit(X_train, y_train)\n",
    "pred = clf.predict(X_test)"
   ],
   "metadata": {
    "collapsed": false,
    "pycharm": {
     "name": "#%%\n"
    }
   }
  },
  {
   "cell_type": "code",
   "execution_count": 11,
   "outputs": [
    {
     "name": "stdout",
     "output_type": "stream",
     "text": [
      "              precision    recall  f1-score   support\n",
      "\n",
      "           0       0.91      0.94      0.92       240\n",
      "           1       0.98      0.97      0.98       886\n",
      "\n",
      "    accuracy                           0.97      1126\n",
      "   macro avg       0.95      0.96      0.95      1126\n",
      "weighted avg       0.97      0.97      0.97      1126\n",
      "\n",
      "******\n",
      "confusion_matrix \n",
      "\n"
     ]
    },
    {
     "data": {
      "text/plain": "<Figure size 432x288 with 2 Axes>",
      "image/png": "[encoded data removed]"
     },
     "metadata": {},
     "output_type": "display_data"
    }
   ],
   "source": [
    "show_report_model(y_test, pred)"
   ],
   "metadata": {
    "collapsed": false,
    "pycharm": {
     "name": "#%%\n"
    }
   }
  },
  {
   "cell_type": "code",
   "execution_count": 12,
   "outputs": [
    {
     "data": {
      "text/plain": "<Figure size 432x288 with 1 Axes>",
      "image/png": "[encoded data removed]"
     },
     "metadata": {},
     "output_type": "display_data"
    }
   ],
   "source": [
    "pred_prob = clf.predict_proba(X_test)\n",
    "plot_roc_curve(y_test, pred_prob[:, 1])"
   ],
   "metadata": {
    "collapsed": false,
    "pycharm": {
     "name": "#%%\n"
    }
   }
  },
  {
   "cell_type": "markdown",
   "source": [
    "# d"
   ],
   "metadata": {
    "collapsed": false,
    "pycharm": {
     "name": "#%% md\n"
    }
   }
  },
  {
   "cell_type": "code",
   "execution_count": 21,
   "outputs": [
    {
     "data": {
      "text/plain": "((1126,), (1126,))"
     },
     "execution_count": 21,
     "metadata": {},
     "output_type": "execute_result"
    }
   ],
   "source": [
    "clf = AdaBoostClassifier(base_estimator=SVC(), n_estimators=20, algorithm='SAMME').fit(\n",
    "    X_train, y_train)\n",
    "pred = clf.predict(X_test)\n",
    "pred.shape, y_test.shape"
   ],
   "metadata": {
    "collapsed": false,
    "pycharm": {
     "name": "#%%\n"
    }
   }
  },
  {
   "cell_type": "code",
   "execution_count": 22,
   "outputs": [
    {
     "name": "stdout",
     "output_type": "stream",
     "text": [
      "              precision    recall  f1-score   support\n",
      "\n",
      "           0       0.00      0.00      0.00       240\n",
      "           1       0.79      1.00      0.88       886\n",
      "\n",
      "    accuracy                           0.79      1126\n",
      "   macro avg       0.39      0.50      0.44      1126\n",
      "weighted avg       0.62      0.79      0.69      1126\n",
      "\n",
      "******\n",
      "confusion_matrix \n",
      "\n"
     ]
    },
    {
     "name": "stderr",
     "output_type": "stream",
     "text": [
      "C:\\Anaconda\\lib\\site-packages\\sklearn\\metrics\\_classification.py:1318: UndefinedMetricWarning: Precision and F-score are ill-defined and being set to 0.0 in labels with no predicted samples. Use `zero_division` parameter to control this behavior.\n",
      "  _warn_prf(average, modifier, msg_start, len(result))\n",
      "C:\\Anaconda\\lib\\site-packages\\sklearn\\metrics\\_classification.py:1318: UndefinedMetricWarning: Precision and F-score are ill-defined and being set to 0.0 in labels with no predicted samples. Use `zero_division` parameter to control this behavior.\n",
      "  _warn_prf(average, modifier, msg_start, len(result))\n",
      "C:\\Anaconda\\lib\\site-packages\\sklearn\\metrics\\_classification.py:1318: UndefinedMetricWarning: Precision and F-score are ill-defined and being set to 0.0 in labels with no predicted samples. Use `zero_division` parameter to control this behavior.\n",
      "  _warn_prf(average, modifier, msg_start, len(result))\n"
     ]
    },
    {
     "data": {
      "text/plain": "<Figure size 432x288 with 2 Axes>",
      "image/png": "[encoded data removed]"
     },
     "metadata": {},
     "output_type": "display_data"
    }
   ],
   "source": [
    "show_report_model(y_test, pred)"
   ],
   "metadata": {
    "collapsed": false,
    "pycharm": {
     "name": "#%%\n"
    }
   }
  },
  {
   "cell_type": "code",
   "execution_count": 23,
   "outputs": [
    {
     "data": {
      "text/plain": "<Figure size 432x288 with 1 Axes>",
      "image/png": "[encoded data removed]"
     },
     "metadata": {},
     "output_type": "display_data"
    }
   ],
   "source": [
    "pred_prob = clf.predict_proba(X_test)\n",
    "plot_roc_curve(y_test, pred_prob[:, 1])"
   ],
   "metadata": {
    "collapsed": false,
    "pycharm": {
     "name": "#%%\n"
    }
   }
  },
  {
   "cell_type": "code",
   "execution_count": 24,
   "outputs": [
    {
     "data": {
      "text/plain": "((1126,), (1126,))"
     },
     "execution_count": 24,
     "metadata": {},
     "output_type": "execute_result"
    }
   ],
   "source": [
    "clf = AdaBoostClassifier(base_estimator=DecisionTreeClassifier(max_depth=25), n_estimators=20).fit(\n",
    "    X_train, y_train)\n",
    "pred = clf.predict(X_test)\n",
    "pred.shape, y_test.shape"
   ],
   "metadata": {
    "collapsed": false,
    "pycharm": {
     "name": "#%%\n"
    }
   }
  },
  {
   "cell_type": "code",
   "execution_count": 25,
   "outputs": [
    {
     "name": "stdout",
     "output_type": "stream",
     "text": [
      "              precision    recall  f1-score   support\n",
      "\n",
      "           0       0.93      0.93      0.93       240\n",
      "           1       0.98      0.98      0.98       886\n",
      "\n",
      "    accuracy                           0.97      1126\n",
      "   macro avg       0.96      0.95      0.95      1126\n",
      "weighted avg       0.97      0.97      0.97      1126\n",
      "\n",
      "******\n",
      "confusion_matrix \n",
      "\n"
     ]
    },
    {
     "data": {
      "text/plain": "<Figure size 432x288 with 2 Axes>",
      "image/png": "[encoded data removed]"
     },
     "metadata": {},
     "output_type": "display_data"
    }
   ],
   "source": [
    "show_report_model(y_test, pred)\n",
    "pred_prob = clf.predict_proba(X_test)"
   ],
   "metadata": {
    "collapsed": false,
    "pycharm": {
     "name": "#%%\n"
    }
   }
  },
  {
   "cell_type": "code",
   "execution_count": 26,
   "outputs": [
    {
     "data": {
      "text/plain": "<Figure size 432x288 with 1 Axes>",
      "image/png": "[encoded data removed]"
     },
     "metadata": {},
     "output_type": "display_data"
    }
   ],
   "source": [
    "plot_roc_curve(y_test, pred_prob[:, 1])"
   ],
   "metadata": {
    "collapsed": false,
    "pycharm": {
     "name": "#%%\n"
    }
   }
  },
  {
   "cell_type": "markdown",
   "source": [
    "# e"
   ],
   "metadata": {
    "collapsed": false,
    "pycharm": {
     "name": "#%% md\n"
    }
   }
  },
  {
   "cell_type": "code",
   "execution_count": 27,
   "outputs": [
    {
     "data": {
      "text/plain": "      NtDuplicateObject  NtOpenSection  CoUninitialize  RegCloseKey  \\\n613                   5              3               1           40   \n4330                 42             32             117         1692   \n982                 272             75              76          612   \n165                   0              0               0            0   \n7242                  0              0               0            0   \n...                 ...            ...             ...          ...   \n9817                  0              0               0            1   \n6345                 19              9              11          671   \n2568                 12              0               0           28   \n6929                  0              0               0            0   \n6052                557              2               2           98   \n\n      LdrUnloadDll  DrawTextExW  GetSystemInfo  RegQueryValueExA  getaddrinfo  \\\n613              9            0             57                 0            0   \n4330           120            2              4                 6            1   \n982           2058          160             46                72            0   \n165              3            0              0                 0            0   \n7242             2            0              0                 0            0   \n...            ...          ...            ...               ...          ...   \n9817             1            0              0                 0            0   \n6345            22           51             12               231            0   \n2568             5            0             19                 0            0   \n6929             2            0              0                 0            0   \n6052             4           18              7               116            2   \n\n      WSAStartup  ...  DnsQuery_UTF8  CreateRemoteThreadEx  \\\n613            0  ...              0                     0   \n4330           1  ...              0                     0   \n982            0  ...              0                     0   \n165            0  ...              0                     0   \n7242           0  ...              0                     0   \n...          ...  ...            ...                   ...   \n9817           0  ...              0                     0   \n6345           5  ...              0                     0   \n2568           0  ...              0                     0   \n6929           0  ...              0                     0   \n6052           4  ...              0                     0   \n\n      NtCreateDirectoryObject  EnumServicesStatusA  NtShutdownSystem  \\\n613                         0                    0                 0   \n4330                        0                    0                 0   \n982                         0                    0                 0   \n165                         0                    0                 0   \n7242                        0                    0                 0   \n...                       ...                  ...               ...   \n9817                        0                    0                 0   \n6345                        0                    0                 0   \n2568                        0                    0                 0   \n6929                        0                    0                 0   \n6052                        0                    0                 0   \n\n      NtCreateProcessEx  NotifyBootConfigStatus  NtSaveKey  system  \\\n613                   0                       0          0       0   \n4330                  0                       0          0       0   \n982                   0                       0          0       0   \n165                   0                       0          0       0   \n7242                  0                       0          0       0   \n...                 ...                     ...        ...     ...   \n9817                  0                       0          0       0   \n6345                  0                       0          0       0   \n2568                  0                       0          0       0   \n6929                  0                       0          0       0   \n6052                  0                       0          0       0   \n\n      WNetGetProviderNameW  \n613                      0  \n4330                     0  \n982                      0  \n165                      0  \n7242                     0  \n...                    ...  \n9817                     0  \n6345                     0  \n2568                     0  \n6929                     0  \n6052                     0  \n\n[4504 rows x 311 columns]",
      "text/html": "<div>\n<style scoped>\n    .dataframe tbody tr th:only-of-type {\n        vertical-align: middle;\n    }\n\n    .dataframe tbody tr th {\n        vertical-align: top;\n    }\n\n    .dataframe thead th {\n        text-align: right;\n    }\n</style>\n<table border=\"1\" class=\"dataframe\">\n  <thead>\n    <tr style=\"text-align: right;\">\n      <th></th>\n      <th>NtDuplicateObject</th>\n      <th>NtOpenSection</th>\n      <th>CoUninitialize</th>\n      <th>RegCloseKey</th>\n      <th>LdrUnloadDll</th>\n      <th>DrawTextExW</th>\n      <th>GetSystemInfo</th>\n      <th>RegQueryValueExA</th>\n      <th>getaddrinfo</th>\n      <th>WSAStartup</th>\n      <th>...</th>\n      <th>DnsQuery_UTF8</th>\n      <th>CreateRemoteThreadEx</th>\n      <th>NtCreateDirectoryObject</th>\n      <th>EnumServicesStatusA</th>\n      <th>NtShutdownSystem</th>\n      <th>NtCreateProcessEx</th>\n      <th>NotifyBootConfigStatus</th>\n      <th>NtSaveKey</th>\n      <th>system</th>\n      <th>WNetGetProviderNameW</th>\n    </tr>\n  </thead>\n  <tbody>\n    <tr>\n      <th>613</th>\n      <td>5</td>\n      <td>3</td>\n      <td>1</td>\n      <td>40</td>\n      <td>9</td>\n      <td>0</td>\n      <td>57</td>\n      <td>0</td>\n      <td>0</td>\n      <td>0</td>\n      <td>...</td>\n      <td>0</td>\n      <td>0</td>\n      <td>0</td>\n      <td>0</td>\n      <td>0</td>\n      <td>0</td>\n      <td>0</td>\n      <td>0</td>\n      <td>0</td>\n      <td>0</td>\n    </tr>\n    <tr>\n      <th>4330</th>\n      <td>42</td>\n      <td>32</td>\n      <td>117</td>\n      <td>1692</td>\n      <td>120</td>\n      <td>2</td>\n      <td>4</td>\n      <td>6</td>\n      <td>1</td>\n      <td>1</td>\n      <td>...</td>\n      <td>0</td>\n      <td>0</td>\n      <td>0</td>\n      <td>0</td>\n      <td>0</td>\n      <td>0</td>\n      <td>0</td>\n      <td>0</td>\n      <td>0</td>\n      <td>0</td>\n    </tr>\n    <tr>\n      <th>982</th>\n      <td>272</td>\n      <td>75</td>\n      <td>76</td>\n      <td>612</td>\n      <td>2058</td>\n      <td>160</td>\n      <td>46</td>\n      <td>72</td>\n      <td>0</td>\n      <td>0</td>\n      <td>...</td>\n      <td>0</td>\n      <td>0</td>\n      <td>0</td>\n      <td>0</td>\n      <td>0</td>\n      <td>0</td>\n      <td>0</td>\n      <td>0</td>\n      <td>0</td>\n      <td>0</td>\n    </tr>\n    <tr>\n      <th>165</th>\n      <td>0</td>\n      <td>0</td>\n      <td>0</td>\n      <td>0</td>\n      <td>3</td>\n      <td>0</td>\n      <td>0</td>\n      <td>0</td>\n      <td>0</td>\n      <td>0</td>\n      <td>...</td>\n      <td>0</td>\n      <td>0</td>\n      <td>0</td>\n      <td>0</td>\n      <td>0</td>\n      <td>0</td>\n      <td>0</td>\n      <td>0</td>\n      <td>0</td>\n      <td>0</td>\n    </tr>\n    <tr>\n      <th>7242</th>\n      <td>0</td>\n      <td>0</td>\n      <td>0</td>\n      <td>0</td>\n      <td>2</td>\n      <td>0</td>\n      <td>0</td>\n      <td>0</td>\n      <td>0</td>\n      <td>0</td>\n      <td>...</td>\n      <td>0</td>\n      <td>0</td>\n      <td>0</td>\n      <td>0</td>\n      <td>0</td>\n      <td>0</td>\n      <td>0</td>\n      <td>0</td>\n      <td>0</td>\n      <td>0</td>\n    </tr>\n    <tr>\n      <th>...</th>\n      <td>...</td>\n      <td>...</td>\n      <td>...</td>\n      <td>...</td>\n      <td>...</td>\n      <td>...</td>\n      <td>...</td>\n      <td>...</td>\n      <td>...</td>\n      <td>...</td>\n      <td>...</td>\n      <td>...</td>\n      <td>...</td>\n      <td>...</td>\n      <td>...</td>\n      <td>...</td>\n      <td>...</td>\n      <td>...</td>\n      <td>...</td>\n      <td>...</td>\n      <td>...</td>\n    </tr>\n    <tr>\n      <th>9817</th>\n      <td>0</td>\n      <td>0</td>\n      <td>0</td>\n      <td>1</td>\n      <td>1</td>\n      <td>0</td>\n      <td>0</td>\n      <td>0</td>\n      <td>0</td>\n      <td>0</td>\n      <td>...</td>\n      <td>0</td>\n      <td>0</td>\n      <td>0</td>\n      <td>0</td>\n      <td>0</td>\n      <td>0</td>\n      <td>0</td>\n      <td>0</td>\n      <td>0</td>\n      <td>0</td>\n    </tr>\n    <tr>\n      <th>6345</th>\n      <td>19</td>\n      <td>9</td>\n      <td>11</td>\n      <td>671</td>\n      <td>22</td>\n      <td>51</td>\n      <td>12</td>\n      <td>231</td>\n      <td>0</td>\n      <td>5</td>\n      <td>...</td>\n      <td>0</td>\n      <td>0</td>\n      <td>0</td>\n      <td>0</td>\n      <td>0</td>\n      <td>0</td>\n      <td>0</td>\n      <td>0</td>\n      <td>0</td>\n      <td>0</td>\n    </tr>\n    <tr>\n      <th>2568</th>\n      <td>12</td>\n      <td>0</td>\n      <td>0</td>\n      <td>28</td>\n      <td>5</td>\n      <td>0</td>\n      <td>19</td>\n      <td>0</td>\n      <td>0</td>\n      <td>0</td>\n      <td>...</td>\n      <td>0</td>\n      <td>0</td>\n      <td>0</td>\n      <td>0</td>\n      <td>0</td>\n      <td>0</td>\n      <td>0</td>\n      <td>0</td>\n      <td>0</td>\n      <td>0</td>\n    </tr>\n    <tr>\n      <th>6929</th>\n      <td>0</td>\n      <td>0</td>\n      <td>0</td>\n      <td>0</td>\n      <td>2</td>\n      <td>0</td>\n      <td>0</td>\n      <td>0</td>\n      <td>0</td>\n      <td>0</td>\n      <td>...</td>\n      <td>0</td>\n      <td>0</td>\n      <td>0</td>\n      <td>0</td>\n      <td>0</td>\n      <td>0</td>\n      <td>0</td>\n      <td>0</td>\n      <td>0</td>\n      <td>0</td>\n    </tr>\n    <tr>\n      <th>6052</th>\n      <td>557</td>\n      <td>2</td>\n      <td>2</td>\n      <td>98</td>\n      <td>4</td>\n      <td>18</td>\n      <td>7</td>\n      <td>116</td>\n      <td>2</td>\n      <td>4</td>\n      <td>...</td>\n      <td>0</td>\n      <td>0</td>\n      <td>0</td>\n      <td>0</td>\n      <td>0</td>\n      <td>0</td>\n      <td>0</td>\n      <td>0</td>\n      <td>0</td>\n      <td>0</td>\n    </tr>\n  </tbody>\n</table>\n<p>4504 rows × 311 columns</p>\n</div>"
     },
     "execution_count": 27,
     "metadata": {},
     "output_type": "execute_result"
    }
   ],
   "source": [
    "X_train"
   ],
   "metadata": {
    "collapsed": false,
    "pycharm": {
     "name": "#%%\n"
    }
   }
  },
  {
   "cell_type": "code",
   "execution_count": 28,
   "outputs": [],
   "source": [
    "from sklearn.model_selection import StratifiedShuffleSplit\n",
    "\n",
    "dataset = []\n",
    "sss = StratifiedShuffleSplit(n_splits=100, test_size=0.05, random_state=0)\n",
    "\n",
    "for i, (_, sample) in enumerate(sss.split(X_train, y_train)):\n",
    "    dataset.append(sample)"
   ],
   "metadata": {
    "collapsed": false,
    "pycharm": {
     "name": "#%%\n"
    }
   }
  },
  {
   "cell_type": "markdown",
   "source": [
    "# F"
   ],
   "metadata": {
    "collapsed": false,
    "pycharm": {
     "name": "#%% md\n"
    }
   }
  },
  {
   "cell_type": "markdown",
   "source": [
    "make trees"
   ],
   "metadata": {
    "collapsed": false,
    "pycharm": {
     "name": "#%% md\n"
    }
   }
  },
  {
   "cell_type": "code",
   "execution_count": 30,
   "outputs": [
    {
     "data": {
      "text/plain": "55"
     },
     "execution_count": 30,
     "metadata": {},
     "output_type": "execute_result"
    }
   ],
   "source": [
    "models = []\n",
    "dataset_counter = 0\n",
    "while dataset_counter < 55:\n",
    "    X_train_sample = X_train.iloc[dataset[dataset_counter], :]\n",
    "    y_train_sample = y_train.iloc[dataset[dataset_counter]]\n",
    "    clf = DecisionTreeClassifier(max_depth=25, random_state=0)\n",
    "    clf.fit(X_train_sample, y_train_sample)\n",
    "    models.append(clf)\n",
    "    dataset_counter += 1\n",
    "\n",
    "len(models)"
   ],
   "metadata": {
    "collapsed": false,
    "pycharm": {
     "name": "#%%\n"
    }
   }
  },
  {
   "cell_type": "markdown",
   "source": [
    "Add SVC"
   ],
   "metadata": {
    "collapsed": false,
    "pycharm": {
     "name": "#%% md\n"
    }
   }
  },
  {
   "cell_type": "code",
   "execution_count": 31,
   "outputs": [
    {
     "data": {
      "text/plain": "75"
     },
     "execution_count": 31,
     "metadata": {},
     "output_type": "execute_result"
    }
   ],
   "source": [
    "while dataset_counter < 75:\n",
    "    X_train_sample = X_train.iloc[dataset[dataset_counter], :]\n",
    "    y_train_sample = y_train.iloc[dataset[dataset_counter]]\n",
    "    clf = SVC()\n",
    "    clf.fit(X_train_sample, y_train_sample)\n",
    "    models.append(clf)\n",
    "    dataset_counter += 1\n",
    "\n",
    "len(models)"
   ],
   "metadata": {
    "collapsed": false,
    "pycharm": {
     "name": "#%%\n"
    }
   }
  },
  {
   "cell_type": "markdown",
   "source": [
    "add multi nomial"
   ],
   "metadata": {
    "collapsed": false,
    "pycharm": {
     "name": "#%% md\n"
    }
   }
  },
  {
   "cell_type": "code",
   "execution_count": 32,
   "outputs": [
    {
     "data": {
      "text/plain": "90"
     },
     "execution_count": 32,
     "metadata": {},
     "output_type": "execute_result"
    }
   ],
   "source": [
    "while dataset_counter < 90:\n",
    "    X_train_sample = X_train.iloc[dataset[dataset_counter], :]\n",
    "    y_train_sample = y_train.iloc[dataset[dataset_counter]]\n",
    "    clf = MultinomialNB()\n",
    "    clf.fit(X_train_sample, y_train_sample)\n",
    "    models.append(clf)\n",
    "    dataset_counter += 1\n",
    "\n",
    "len(models)"
   ],
   "metadata": {
    "collapsed": false,
    "pycharm": {
     "name": "#%%\n"
    }
   }
  },
  {
   "cell_type": "code",
   "execution_count": 33,
   "outputs": [
    {
     "data": {
      "text/plain": "95"
     },
     "execution_count": 33,
     "metadata": {},
     "output_type": "execute_result"
    }
   ],
   "source": [
    "while dataset_counter < 95:\n",
    "    X_train_sample = X_train.iloc[dataset[dataset_counter], :]\n",
    "    y_train_sample = y_train.iloc[dataset[dataset_counter]]\n",
    "    clf = KNeighborsClassifier(n_neighbors=10)\n",
    "    clf.fit(X_train_sample, y_train_sample)\n",
    "    models.append(clf)\n",
    "    dataset_counter += 1\n",
    "\n",
    "len(models)"
   ],
   "metadata": {
    "collapsed": false,
    "pycharm": {
     "name": "#%%\n"
    }
   }
  },
  {
   "cell_type": "code",
   "execution_count": 34,
   "outputs": [
    {
     "name": "stderr",
     "output_type": "stream",
     "text": [
      "C:\\Anaconda\\lib\\site-packages\\sklearn\\linear_model\\_logistic.py:814: ConvergenceWarning: lbfgs failed to converge (status=2):\n",
      "ABNORMAL_TERMINATION_IN_LNSRCH.\n",
      "\n",
      "Increase the number of iterations (max_iter) or scale the data as shown in:\n",
      "    https://scikit-learn.org/stable/modules/preprocessing.html\n",
      "Please also refer to the documentation for alternative solver options:\n",
      "    https://scikit-learn.org/stable/modules/linear_model.html#logistic-regression\n",
      "  n_iter_i = _check_optimize_result(\n"
     ]
    },
    {
     "data": {
      "text/plain": "100"
     },
     "execution_count": 34,
     "metadata": {},
     "output_type": "execute_result"
    }
   ],
   "source": [
    "while dataset_counter < 100:\n",
    "    X_train_sample = X_train.iloc[dataset[dataset_counter], :]\n",
    "    y_train_sample = y_train.iloc[dataset[dataset_counter]]\n",
    "    clf = LogisticRegression(max_iter=10000)\n",
    "    clf.fit(X_train_sample, y_train_sample)\n",
    "    models.append(clf)\n",
    "    dataset_counter += 1\n",
    "\n",
    "len(models)"
   ],
   "metadata": {
    "collapsed": false,
    "pycharm": {
     "name": "#%%\n"
    }
   }
  },
  {
   "cell_type": "code",
   "execution_count": 36,
   "outputs": [
    {
     "data": {
      "text/plain": "array([[1, 1, 1, ..., 0, 1, 1],\n       [1, 1, 1, ..., 1, 1, 1],\n       [1, 1, 1, ..., 0, 1, 1],\n       ...,\n       [1, 1, 1, ..., 1, 1, 1],\n       [1, 1, 1, ..., 1, 1, 1],\n       [1, 1, 1, ..., 0, 1, 1]], dtype=int64)"
     },
     "execution_count": 36,
     "metadata": {},
     "output_type": "execute_result"
    }
   ],
   "source": [
    "matrix_100_D = []\n",
    "for model in models:\n",
    "    matrix_100_D.append(model.predict(X_test))\n",
    "\n",
    "matrix_100_D = np.array(matrix_100_D)\n",
    "matrix_100_D"
   ],
   "metadata": {
    "collapsed": false,
    "pycharm": {
     "name": "#%%\n"
    }
   }
  },
  {
   "cell_type": "code",
   "execution_count": 37,
   "outputs": [
    {
     "data": {
      "text/plain": "array([[1, 1, 1, ..., 1, 1, 1],\n       [1, 1, 1, ..., 1, 1, 1],\n       [1, 1, 1, ..., 1, 1, 1],\n       ...,\n       [0, 1, 0, ..., 1, 1, 0],\n       [1, 1, 1, ..., 1, 1, 1],\n       [1, 1, 1, ..., 1, 1, 1]], dtype=int64)"
     },
     "execution_count": 37,
     "metadata": {},
     "output_type": "execute_result"
    }
   ],
   "source": [
    "matrix_100_D = matrix_100_D.transpose()\n",
    "matrix_100_D"
   ],
   "metadata": {
    "collapsed": false,
    "pycharm": {
     "name": "#%%\n"
    }
   }
  },
  {
   "cell_type": "code",
   "execution_count": 38,
   "outputs": [
    {
     "data": {
      "text/plain": "(1126, 100)"
     },
     "execution_count": 38,
     "metadata": {},
     "output_type": "execute_result"
    }
   ],
   "source": [
    "matrix_100_D.shape"
   ],
   "metadata": {
    "collapsed": false,
    "pycharm": {
     "name": "#%%\n"
    }
   }
  },
  {
   "cell_type": "code",
   "execution_count": 39,
   "outputs": [],
   "source": [
    "pred_100 = []\n",
    "for i in range(0, matrix_100_D.shape[0]):\n",
    "    sum = 0\n",
    "    for j in range(0, matrix_100_D.shape[1]):\n",
    "        sum += matrix_100_D[i, j]\n",
    "\n",
    "    if sum > len(models) / 2:\n",
    "        pred_100.append(1)\n",
    "    else:\n",
    "        pred_100.append(0)\n",
    "\n",
    "pred_100 = np.array(pred_100)\n",
    "# matrix_101_101.append(last_D)"
   ],
   "metadata": {
    "collapsed": false,
    "pycharm": {
     "name": "#%%\n"
    }
   }
  },
  {
   "cell_type": "code",
   "execution_count": 40,
   "outputs": [
    {
     "name": "stdout",
     "output_type": "stream",
     "text": [
      "              precision    recall  f1-score   support\n",
      "\n",
      "           0       0.95      0.81      0.87       240\n",
      "           1       0.95      0.99      0.97       886\n",
      "\n",
      "    accuracy                           0.95      1126\n",
      "   macro avg       0.95      0.90      0.92      1126\n",
      "weighted avg       0.95      0.95      0.95      1126\n",
      "\n",
      "******\n",
      "confusion_matrix \n",
      "\n"
     ]
    },
    {
     "data": {
      "text/plain": "<Figure size 432x288 with 2 Axes>",
      "image/png": "[encoded data removed]"
     },
     "metadata": {},
     "output_type": "display_data"
    }
   ],
   "source": [
    "show_report_model(y_test, pred_100)"
   ],
   "metadata": {
    "collapsed": false,
    "pycharm": {
     "name": "#%%\n"
    }
   }
  },
  {
   "cell_type": "markdown",
   "source": [
    "# G"
   ],
   "metadata": {
    "collapsed": false,
    "pycharm": {
     "name": "#%% md\n"
    }
   }
  },
  {
   "cell_type": "code",
   "execution_count": 65,
   "outputs": [],
   "source": [
    "def make_101_D_prediction(data_x, data_label) -> np.ndarray:\n",
    "    res_100_D = []\n",
    "    for model in models:\n",
    "        res_100_D.append(model.predict(data_x))\n",
    "\n",
    "    res_100_D = np.array(res_100_D)\n",
    "    res_100_D = res_100_D.transpose()\n",
    "\n",
    "    data_label = np.array(data_label).reshape((-1, 1))\n",
    "    res_101_D = np.concatenate((res_100_D, data_label), axis=1)\n",
    "    return res_101_D"
   ],
   "metadata": {
    "collapsed": false,
    "pycharm": {
     "name": "#%%\n"
    }
   }
  },
  {
   "cell_type": "code",
   "execution_count": 66,
   "outputs": [
    {
     "data": {
      "text/plain": "array([[1, 1, 1, ..., 1, 1, 1],\n       [1, 1, 1, ..., 1, 1, 1],\n       [1, 1, 1, ..., 1, 1, 1],\n       ...,\n       [0, 1, 0, ..., 1, 0, 0],\n       [1, 1, 1, ..., 1, 1, 1],\n       [1, 1, 1, ..., 1, 1, 1]], dtype=int64)"
     },
     "execution_count": 66,
     "metadata": {},
     "output_type": "execute_result"
    }
   ],
   "source": [
    "make_101_D_prediction(X_test, y_test)"
   ],
   "metadata": {
    "collapsed": false,
    "pycharm": {
     "name": "#%%\n"
    }
   }
  },
  {
   "cell_type": "markdown",
   "source": [
    "# h"
   ],
   "metadata": {
    "collapsed": false,
    "pycharm": {
     "name": "#%% md\n"
    }
   }
  },
  {
   "cell_type": "markdown",
   "source": [
    "svc"
   ],
   "metadata": {
    "collapsed": false,
    "pycharm": {
     "name": "#%% md\n"
    }
   }
  },
  {
   "cell_type": "code",
   "execution_count": 70,
   "outputs": [
    {
     "data": {
      "text/plain": "(1126, 101)"
     },
     "execution_count": 70,
     "metadata": {},
     "output_type": "execute_result"
    }
   ],
   "source": [
    "test_101D = make_101_D_prediction(X_test, y_test)\n",
    "test_101D.shape"
   ],
   "metadata": {
    "collapsed": false,
    "pycharm": {
     "name": "#%%\n"
    }
   }
  },
  {
   "cell_type": "code",
   "execution_count": 67,
   "outputs": [
    {
     "data": {
      "text/plain": "(4504, 101)"
     },
     "execution_count": 67,
     "metadata": {},
     "output_type": "execute_result"
    }
   ],
   "source": [
    "train_101D = make_101_D_prediction(X_train, y_train)\n",
    "train_101D.shape"
   ],
   "metadata": {
    "collapsed": false,
    "pycharm": {
     "name": "#%%\n"
    }
   }
  },
  {
   "cell_type": "code",
   "execution_count": 68,
   "outputs": [],
   "source": [
    "clf = SVC(gamma='auto').fit(\n",
    "    train_101D[:, :-1], train_101D [:, -1])\n"
   ],
   "metadata": {
    "collapsed": false,
    "pycharm": {
     "name": "#%%\n"
    }
   }
  },
  {
   "cell_type": "code",
   "execution_count": 71,
   "outputs": [],
   "source": [
    "pred = clf.predict(test_101D[:,:-1])"
   ],
   "metadata": {
    "collapsed": false,
    "pycharm": {
     "name": "#%%\n"
    }
   }
  },
  {
   "cell_type": "code",
   "execution_count": 72,
   "outputs": [
    {
     "name": "stdout",
     "output_type": "stream",
     "text": [
      "              precision    recall  f1-score   support\n",
      "\n",
      "           0       0.93      0.87      0.90       240\n",
      "           1       0.97      0.98      0.97       886\n",
      "\n",
      "    accuracy                           0.96      1126\n",
      "   macro avg       0.95      0.93      0.94      1126\n",
      "weighted avg       0.96      0.96      0.96      1126\n",
      "\n",
      "******\n",
      "confusion_matrix \n",
      "\n"
     ]
    },
    {
     "data": {
      "text/plain": "<Figure size 432x288 with 2 Axes>",
      "image/png": "[encoded data removed]"
     },
     "metadata": {},
     "output_type": "display_data"
    }
   ],
   "source": [
    "show_report_model(test_101D[:,-1], pred)"
   ],
   "metadata": {
    "collapsed": false,
    "pycharm": {
     "name": "#%%\n"
    }
   }
  },
  {
   "cell_type": "markdown",
   "source": [
    "LogisticRegression"
   ],
   "metadata": {
    "collapsed": false,
    "pycharm": {
     "name": "#%% md\n"
    }
   }
  },
  {
   "cell_type": "code",
   "execution_count": 77,
   "outputs": [],
   "source": [
    "clf = LogisticRegression(max_iter=10000,random_state=0).fit(\n",
    "    train_101D[:, :-1], train_101D [:, -1])"
   ],
   "metadata": {
    "collapsed": false,
    "pycharm": {
     "name": "#%%\n"
    }
   }
  },
  {
   "cell_type": "code",
   "execution_count": 78,
   "outputs": [],
   "source": [
    "pred = clf.predict(test_101D[:,:-1])"
   ],
   "metadata": {
    "collapsed": false,
    "pycharm": {
     "name": "#%%\n"
    }
   }
  },
  {
   "cell_type": "code",
   "execution_count": 79,
   "outputs": [
    {
     "name": "stdout",
     "output_type": "stream",
     "text": [
      "              precision    recall  f1-score   support\n",
      "\n",
      "           0       0.92      0.89      0.90       240\n",
      "           1       0.97      0.98      0.97       886\n",
      "\n",
      "    accuracy                           0.96      1126\n",
      "   macro avg       0.95      0.93      0.94      1126\n",
      "weighted avg       0.96      0.96      0.96      1126\n",
      "\n",
      "******\n",
      "confusion_matrix \n",
      "\n"
     ]
    },
    {
     "data": {
      "text/plain": "<Figure size 432x288 with 2 Axes>",
      "image/png": "[encoded data removed]"
     },
     "metadata": {},
     "output_type": "display_data"
    }
   ],
   "source": [
    "show_report_model(test_101D[:,-1], pred)"
   ],
   "metadata": {
    "collapsed": false,
    "pycharm": {
     "name": "#%%\n"
    }
   }
  },
  {
   "cell_type": "code",
   "execution_count": null,
   "outputs": [],
   "source": [],
   "metadata": {
    "collapsed": false,
    "pycharm": {
     "name": "#%%\n"
    }
   }
  }
 ],
 "metadata": {
  "kernelspec": {
   "display_name": "Python 3",
   "language": "python",
   "name": "python3"
  },
  "language_info": {
   "codemirror_mode": {
    "name": "ipython",
    "version": 2
   },
   "file_extension": ".py",
   "mimetype": "text/x-python",
   "name": "python",
   "nbconvert_exporter": "python",
   "pygments_lexer": "ipython2",
   "version": "2.7.6"
  }
 },
 "nbformat": 4,
 "nbformat_minor": 0
}