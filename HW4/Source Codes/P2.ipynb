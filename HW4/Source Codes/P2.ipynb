{
 "cells": [
  {
   "cell_type": "code",
   "execution_count": 1,
   "metadata": {
    "collapsed": true,
    "pycharm": {
     "name": "#%%\n"
    }
   },
   "outputs": [],
   "source": [
    "from sklearn.metrics.pairwise import sigmoid_kernel\n",
    "from sklearn.gaussian_process.kernels import RBF\n",
    "import numpy as np\n",
    "import matplotlib.pyplot as plt\n",
    "from sklearn import svm, datasets\n",
    "from sklearn.model_selection import train_test_split\n",
    "from sklearn.metrics import accuracy_score, precision_score, confusion_matrix"
   ]
  },
  {
   "cell_type": "code",
   "execution_count": 2,
   "outputs": [],
   "source": [
    "K2 = sigmoid_kernel\n",
    "K1 = RBF(1.0)"
   ],
   "metadata": {
    "collapsed": false,
    "pycharm": {
     "name": "#%%\n"
    }
   }
  },
  {
   "cell_type": "code",
   "execution_count": 3,
   "outputs": [],
   "source": [
    "# import some data to play with\n",
    "iris = datasets.load_iris()\n",
    "X = iris.data  # we only take the first two features. We could\n",
    "# avoid this ugly slicing by using a two-dim dataset\n",
    "Y = iris.target"
   ],
   "metadata": {
    "collapsed": false,
    "pycharm": {
     "name": "#%%\n"
    }
   }
  },
  {
   "cell_type": "code",
   "execution_count": 4,
   "outputs": [
    {
     "data": {
      "text/plain": "((120, 4), (30, 4), (120,), (30,))"
     },
     "execution_count": 4,
     "metadata": {},
     "output_type": "execute_result"
    }
   ],
   "source": [
    "X_train, X_test, y_train, y_test = train_test_split(X, Y, test_size=0.2)\n",
    "X_train.shape, X_test.shape, y_train.shape, y_test.shape"
   ],
   "metadata": {
    "collapsed": false,
    "pycharm": {
     "name": "#%%\n"
    }
   }
  },
  {
   "cell_type": "code",
   "execution_count": 5,
   "outputs": [],
   "source": [
    "def senario(input_kernel):\n",
    "    # we create an instance of SVM and fit out data.\n",
    "    clf = svm.SVC(kernel=input_kernel)\n",
    "    clf.fit(X_train, y_train)\n",
    "\n",
    "    pred = clf.predict(X_test)\n",
    "    print()\n",
    "\n",
    "    print(f'accuracy : {accuracy_score(y_test, pred)}')\n",
    "    print(f'confusion matrix \\n {confusion_matrix(y_test, pred)}')"
   ],
   "metadata": {
    "collapsed": false,
    "pycharm": {
     "name": "#%%\n"
    }
   }
  },
  {
   "cell_type": "markdown",
   "source": [
    "# 1"
   ],
   "metadata": {
    "collapsed": false,
    "pycharm": {
     "name": "#%% md\n"
    }
   }
  },
  {
   "cell_type": "code",
   "execution_count": 6,
   "outputs": [],
   "source": [
    "def kernel_1(X, Y):\n",
    "    return K1(X, Y) + K2(X, Y)"
   ],
   "metadata": {
    "collapsed": false,
    "pycharm": {
     "name": "#%%\n"
    }
   }
  },
  {
   "cell_type": "code",
   "execution_count": 7,
   "outputs": [
    {
     "name": "stdout",
     "output_type": "stream",
     "text": [
      "kernel 1\n",
      "\n",
      "accuracy : 0.9666666666666667\n",
      "confusion matrix \n",
      " [[ 9  0  0]\n",
      " [ 0  9  0]\n",
      " [ 0  1 11]]\n"
     ]
    }
   ],
   "source": [
    "print(\"kernel 1\")\n",
    "senario(kernel_1)"
   ],
   "metadata": {
    "collapsed": false,
    "pycharm": {
     "name": "#%%\n"
    }
   }
  },
  {
   "cell_type": "markdown",
   "source": [
    "# 2"
   ],
   "metadata": {
    "collapsed": false,
    "pycharm": {
     "name": "#%% md\n"
    }
   }
  },
  {
   "cell_type": "code",
   "execution_count": 8,
   "outputs": [
    {
     "name": "stdout",
     "output_type": "stream",
     "text": [
      "kernel 2\n",
      "\n",
      "accuracy : 0.9666666666666667\n",
      "confusion matrix \n",
      " [[ 9  0  0]\n",
      " [ 0  9  0]\n",
      " [ 0  1 11]]\n"
     ]
    }
   ],
   "source": [
    "print(\"kernel 2\")\n",
    "def kernel_2(X, Y):\n",
    "    return K1(X, Y) - K2(X, Y)\n",
    "senario(kernel_2)"
   ],
   "metadata": {
    "collapsed": false,
    "pycharm": {
     "name": "#%%\n"
    }
   }
  },
  {
   "cell_type": "markdown",
   "source": [
    "# 3"
   ],
   "metadata": {
    "collapsed": false,
    "pycharm": {
     "name": "#%% md\n"
    }
   }
  },
  {
   "cell_type": "code",
   "execution_count": 9,
   "outputs": [
    {
     "name": "stdout",
     "output_type": "stream",
     "text": [
      "kernel 3\n",
      "\n",
      "accuracy : 0.9666666666666667\n",
      "confusion matrix \n",
      " [[ 9  0  0]\n",
      " [ 0  9  0]\n",
      " [ 0  1 11]]\n"
     ]
    }
   ],
   "source": [
    "print(\"kernel 3\")\n",
    "def kernel_3(X, Y , alpha = 0.5):\n",
    "    return K1(X, Y) * alpha\n",
    "\n",
    "\n",
    "senario(kernel_3)"
   ],
   "metadata": {
    "collapsed": false,
    "pycharm": {
     "name": "#%%\n"
    }
   }
  },
  {
   "cell_type": "markdown",
   "source": [
    "# 4"
   ],
   "metadata": {
    "collapsed": false,
    "pycharm": {
     "name": "#%% md\n"
    }
   }
  },
  {
   "cell_type": "code",
   "execution_count": 10,
   "outputs": [
    {
     "name": "stdout",
     "output_type": "stream",
     "text": [
      "kernel 4\n",
      "\n",
      "accuracy : 0.9666666666666667\n",
      "confusion matrix \n",
      " [[ 9  0  0]\n",
      " [ 0  9  0]\n",
      " [ 0  1 11]]\n"
     ]
    }
   ],
   "source": [
    "print(\"kernel 4\")\n",
    "def kernel_4(X, Y):\n",
    "    return K1(X, Y) * K2(X, Y)\n",
    "senario(kernel_4)"
   ],
   "metadata": {
    "collapsed": false,
    "pycharm": {
     "name": "#%%\n"
    }
   }
  },
  {
   "cell_type": "markdown",
   "source": [
    "# others"
   ],
   "metadata": {
    "collapsed": false,
    "pycharm": {
     "name": "#%% md\n"
    }
   }
  },
  {
   "cell_type": "code",
   "execution_count": 11,
   "outputs": [
    {
     "name": "stdout",
     "output_type": "stream",
     "text": [
      "RBF only\n",
      "\n",
      "accuracy : 0.9666666666666667\n",
      "confusion matrix \n",
      " [[ 9  0  0]\n",
      " [ 0  9  0]\n",
      " [ 0  1 11]]\n"
     ]
    }
   ],
   "source": [
    "print(f'RBF only')\n",
    "senario('rbf')"
   ],
   "metadata": {
    "collapsed": false,
    "pycharm": {
     "name": "#%%\n"
    }
   }
  },
  {
   "cell_type": "code",
   "execution_count": 12,
   "outputs": [
    {
     "name": "stdout",
     "output_type": "stream",
     "text": [
      "sigmoid only\n",
      "\n",
      "accuracy : 0.16666666666666666\n",
      "confusion matrix \n",
      " [[ 4  5  0]\n",
      " [ 8  1  0]\n",
      " [12  0  0]]\n"
     ]
    }
   ],
   "source": [
    "print(f'sigmoid only')\n",
    "senario('sigmoid')"
   ],
   "metadata": {
    "collapsed": false,
    "pycharm": {
     "name": "#%%\n"
    }
   }
  },
  {
   "cell_type": "code",
   "execution_count": 12,
   "outputs": [],
   "source": [],
   "metadata": {
    "collapsed": false,
    "pycharm": {
     "name": "#%%\n"
    }
   }
  },
  {
   "cell_type": "code",
   "execution_count": 12,
   "outputs": [],
   "source": [],
   "metadata": {
    "collapsed": false,
    "pycharm": {
     "name": "#%%\n"
    }
   }
  }
 ],
 "metadata": {
  "kernelspec": {
   "display_name": "Python 3",
   "language": "python",
   "name": "python3"
  },
  "language_info": {
   "codemirror_mode": {
    "name": "ipython",
    "version": 2
   },
   "file_extension": ".py",
   "mimetype": "text/x-python",
   "name": "python",
   "nbconvert_exporter": "python",
   "pygments_lexer": "ipython2",
   "version": "2.7.6"
  }
 },
 "nbformat": 4,
 "nbformat_minor": 0
}