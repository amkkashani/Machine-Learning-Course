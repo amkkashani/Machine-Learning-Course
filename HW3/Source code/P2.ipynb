{
 "cells": [
  {
   "cell_type": "markdown",
   "source": [
    "# Imports"
   ],
   "metadata": {
    "collapsed": false,
    "pycharm": {
     "name": "#%% md\n"
    }
   }
  },
  {
   "cell_type": "code",
   "execution_count": 2,
   "outputs": [],
   "source": [
    "import numpy as np\n",
    "import sklearn\n",
    "import sklearn.model_selection as ms\n",
    "import sklearn.metrics as metrics\n",
    "import sklearn.datasets as dataSets\n",
    "import sklearn.naive_bayes"
   ],
   "metadata": {
    "collapsed": false,
    "pycharm": {
     "name": "#%%\n"
    }
   }
  },
  {
   "cell_type": "code",
   "execution_count": 3,
   "outputs": [],
   "source": [
    "dataSet = dataSets.load_breast_cancer()\n",
    "X_train, X_test, y_train, y_test = ms.train_test_split(dataSet.data, dataSet.target, test_size=0.2)"
   ],
   "metadata": {
    "collapsed": false,
    "pycharm": {
     "name": "#%%\n"
    }
   }
  },
  {
   "cell_type": "markdown",
   "source": [
    "# A"
   ],
   "metadata": {
    "collapsed": false,
    "pycharm": {
     "name": "#%% md\n"
    }
   }
  },
  {
   "cell_type": "code",
   "execution_count": 4,
   "outputs": [],
   "source": [
    "from sklearn.linear_model import LogisticRegression"
   ],
   "metadata": {
    "collapsed": false,
    "pycharm": {
     "name": "#%%\n"
    }
   }
  },
  {
   "cell_type": "code",
   "execution_count": 40,
   "outputs": [
    {
     "name": "stdout",
     "output_type": "stream",
     "text": [
      "Acc: 0.956140350877193\n",
      "Auc: 0.956439393939394\n",
      "confusion matrix \n",
      " [[46  2]\n",
      " [ 3 63]] \n"
     ]
    }
   ],
   "source": [
    "lr = LogisticRegression(C=1.0,random_state=10, penalty='l2', tol=1e-4, intercept_scaling=1, fit_intercept=True,\n",
    "                        solver=\"lbfgs\", max_iter=6000)\n",
    "lr.fit(X_train, y_train)\n",
    "pred = lr.predict(X_test)\n",
    "\n",
    "acc = metrics.accuracy_score(y_test, pred)\n",
    "cm = metrics.confusion_matrix(y_test, pred)\n",
    "auc = metrics.roc_auc_score(y_test, pred)\n",
    "\n",
    "print(f'Acc: {acc}')\n",
    "print(f'Auc: {auc}')\n",
    "print(f'confusion matrix \\n {cm} ')"
   ],
   "metadata": {
    "collapsed": false,
    "pycharm": {
     "name": "#%%\n"
    }
   }
  },
  {
   "cell_type": "markdown",
   "source": [
    "# B"
   ],
   "metadata": {
    "collapsed": false,
    "pycharm": {
     "name": "#%% md\n"
    }
   }
  },
  {
   "cell_type": "code",
   "execution_count": 41,
   "outputs": [],
   "source": [
    "from sklearn.naive_bayes import GaussianNB"
   ],
   "metadata": {
    "collapsed": false,
    "pycharm": {
     "name": "#%%\n"
    }
   }
  },
  {
   "cell_type": "code",
   "execution_count": 42,
   "outputs": [
    {
     "name": "stdout",
     "output_type": "stream",
     "text": [
      "Acc: 0.9736842105263158\n",
      "Auc: 0.96875\n",
      "confusion matrix \n",
      " [[45  3]\n",
      " [ 0 66]] \n"
     ]
    }
   ],
   "source": [
    "clf = GaussianNB()\n",
    "clf.fit(X_train, y_train)\n",
    "\n",
    "pred = clf.predict(X_test)\n",
    "\n",
    "acc = metrics.accuracy_score(y_test, pred)\n",
    "cm = metrics.confusion_matrix(y_test, pred)\n",
    "auc = metrics.roc_auc_score(y_test, pred)\n",
    "\n",
    "print(f'Acc: {acc}')\n",
    "print(f'Auc: {auc}')\n",
    "print(f'confusion matrix \\n {cm} ')"
   ],
   "metadata": {
    "collapsed": false,
    "pycharm": {
     "name": "#%%\n"
    }
   }
  },
  {
   "cell_type": "markdown",
   "source": [
    "# C"
   ],
   "metadata": {
    "collapsed": false,
    "pycharm": {
     "name": "#%% md\n"
    }
   }
  },
  {
   "cell_type": "markdown",
   "source": [
    "Lr"
   ],
   "metadata": {
    "collapsed": false,
    "pycharm": {
     "name": "#%% md\n"
    }
   }
  },
  {
   "cell_type": "code",
   "execution_count": 43,
   "outputs": [],
   "source": [
    "from sklearn import metrics"
   ],
   "metadata": {
    "collapsed": false,
    "pycharm": {
     "name": "#%%\n"
    }
   }
  },
  {
   "cell_type": "code",
   "execution_count": 44,
   "outputs": [
    {
     "data": {
      "text/plain": "(455, 30)"
     },
     "execution_count": 44,
     "metadata": {},
     "output_type": "execute_result"
    }
   ],
   "source": [
    "X_train.shape"
   ],
   "metadata": {
    "collapsed": false,
    "pycharm": {
     "name": "#%%\n"
    }
   }
  },
  {
   "cell_type": "code",
   "execution_count": 45,
   "outputs": [
    {
     "data": {
      "text/plain": "[(20, 0.9071969696969697),\n (0, 0.896780303030303),\n (2, 0.896780303030303),\n (23, 0.896780303030303),\n (22, 0.8920454545454545),\n (3, 0.8863636363636365),\n (13, 0.8702651515151516),\n (26, 0.8494318181818182),\n (12, 0.8238636363636364),\n (10, 0.8077651515151515),\n (25, 0.7926136363636362),\n (27, 0.7708333333333334),\n (6, 0.7291666666666667),\n (1, 0.6609848484848485),\n (21, 0.65625),\n (5, 0.5577651515151516),\n (28, 0.5520833333333333),\n (7, 0.5416666666666667),\n (4, 0.5),\n (8, 0.5),\n (9, 0.5),\n (11, 0.5),\n (14, 0.5),\n (15, 0.5),\n (16, 0.5),\n (17, 0.5),\n (18, 0.5),\n (19, 0.5),\n (24, 0.5),\n (29, 0.5)]"
     },
     "execution_count": 45,
     "metadata": {},
     "output_type": "execute_result"
    }
   ],
   "source": [
    "scores = []\n",
    "\n",
    "for i in range(X_train.shape[1]):\n",
    "    clf = LogisticRegression(random_state=10, penalty='l2', tol=1e-4, C=1.0, intercept_scaling=1, fit_intercept=True,\n",
    "                             solver=\"lbfgs\", max_iter=5000)\n",
    "    data = X_train[:, i].reshape(X_train.shape[0], -1)\n",
    "    clf.fit(data, y_train)\n",
    "    pred = clf.predict(X_test[:, i].reshape(X_test.shape[0], -1))\n",
    "    scores.append((i, metrics.roc_auc_score(y_test, pred)))\n",
    "\n",
    "sorted_by_points = sorted(scores, key=lambda tup: tup[1], reverse=True)\n",
    "sorted_by_points"
   ],
   "metadata": {
    "collapsed": false,
    "pycharm": {
     "name": "#%%\n"
    }
   }
  },
  {
   "cell_type": "code",
   "execution_count": 46,
   "outputs": [],
   "source": [
    "selected_features = []\n",
    "for i in range(20):\n",
    "    selected_features.append(sorted_by_points[i][0])"
   ],
   "metadata": {
    "collapsed": false,
    "pycharm": {
     "name": "#%%\n"
    }
   }
  },
  {
   "cell_type": "code",
   "execution_count": 47,
   "outputs": [
    {
     "name": "stdout",
     "output_type": "stream",
     "text": [
      "LR results\n",
      "Acc: 0.956140350877193\n",
      "Auc: 0.96875\n",
      "confusion matrix \n",
      " [[46  3]\n",
      " [ 2 63]] \n"
     ]
    }
   ],
   "source": [
    "clf = LogisticRegression(random_state=0, penalty='l2', tol=1e-4, C=1.0, intercept_scaling=1, fit_intercept=True,\n",
    "                         solver=\"lbfgs\", max_iter=6000)\n",
    "clf.fit(X_train[:, selected_features], y_train)\n",
    "pred = clf.predict(X_test[:, selected_features])\n",
    "acc = metrics.accuracy_score(pred, y_test)\n",
    "cm = metrics.confusion_matrix(pred, y_test)\n",
    "\n",
    "print(\"LR results\")\n",
    "print(f'Acc: {acc}')\n",
    "print(f'Auc: {auc}')\n",
    "print(f'confusion matrix \\n {cm} ')"
   ],
   "metadata": {
    "collapsed": false,
    "pycharm": {
     "name": "#%%\n"
    }
   }
  },
  {
   "cell_type": "markdown",
   "source": [
    "Gussian"
   ],
   "metadata": {
    "collapsed": false,
    "pycharm": {
     "name": "#%% md\n"
    }
   }
  },
  {
   "cell_type": "code",
   "execution_count": 48,
   "outputs": [
    {
     "data": {
      "text/plain": "[(7, 0.9460227272727273),\n (27, 0.9176136363636365),\n (22, 0.9119318181818181),\n (23, 0.90625),\n (2, 0.9015151515151515),\n (20, 0.8986742424242424),\n (0, 0.8806818181818181),\n (3, 0.8806818181818181),\n (6, 0.8731060606060607),\n (13, 0.8570075757575758),\n (26, 0.8522727272727273),\n (5, 0.8352272727272728),\n (25, 0.8087121212121212),\n (10, 0.8077651515151515),\n (12, 0.8077651515151515),\n (17, 0.7225378787878787),\n (8, 0.7073863636363636),\n (28, 0.6931818181818181),\n (1, 0.6609848484848485),\n (24, 0.6581439393939394),\n (21, 0.65625),\n (4, 0.6534090909090909),\n (29, 0.6524621212121212),\n (16, 0.6212121212121212),\n (15, 0.5946969696969697),\n (18, 0.5625),\n (11, 0.5),\n (14, 0.5),\n (19, 0.5),\n (9, 0.49526515151515155)]"
     },
     "execution_count": 48,
     "metadata": {},
     "output_type": "execute_result"
    }
   ],
   "source": [
    "scores = []\n",
    "\n",
    "for i in range(X_train.shape[1]):\n",
    "    clf = GaussianNB()\n",
    "    data = X_train[:, i].reshape(X_train.shape[0], -1)\n",
    "    clf.fit(data, y_train)\n",
    "    pred = clf.predict(X_test[:, i].reshape(X_test.shape[0], -1))\n",
    "    scores.append((i, metrics.roc_auc_score(y_test, pred)))\n",
    "\n",
    "sorted_by_points = sorted(scores, key=lambda tup: tup[1], reverse=True)\n",
    "sorted_by_points"
   ],
   "metadata": {
    "collapsed": false,
    "pycharm": {
     "name": "#%%\n"
    }
   }
  },
  {
   "cell_type": "code",
   "execution_count": 49,
   "outputs": [],
   "source": [
    "selected_features = []\n",
    "for i in range(3):\n",
    "    selected_features.append(sorted_by_points[i][0])"
   ],
   "metadata": {
    "collapsed": false,
    "pycharm": {
     "name": "#%%\n"
    }
   }
  },
  {
   "cell_type": "code",
   "execution_count": 50,
   "outputs": [
    {
     "name": "stdout",
     "output_type": "stream",
     "text": [
      "Gaussian results\n",
      "Acc: 0.8947368421052632\n",
      "Auc: 0.96875\n",
      "confusion matrix \n",
      " [[42  6]\n",
      " [ 6 60]] \n"
     ]
    }
   ],
   "source": [
    "clf = LogisticRegression(random_state=0, penalty='l2', tol=1e-4, C=1.0, intercept_scaling=1, fit_intercept=True,\n",
    "                         solver=\"lbfgs\", max_iter=6000)\n",
    "clf.fit(X_train[:, selected_features], y_train)\n",
    "pred = clf.predict(X_test[:, selected_features])\n",
    "acc = metrics.accuracy_score(pred, y_test)\n",
    "cm = metrics.confusion_matrix(pred, y_test)\n",
    "\n",
    "print(\"Gaussian results\")\n",
    "print(f'Acc: {acc}')\n",
    "print(f'Auc: {auc}')\n",
    "print(f'confusion matrix \\n {cm} ')"
   ],
   "metadata": {
    "collapsed": false,
    "pycharm": {
     "name": "#%%\n"
    }
   }
  },
  {
   "cell_type": "markdown",
   "source": [
    "# D"
   ],
   "metadata": {
    "collapsed": false,
    "pycharm": {
     "name": "#%% md\n"
    }
   }
  },
  {
   "cell_type": "code",
   "execution_count": 51,
   "outputs": [],
   "source": [
    "def convert_to_probebilties(train_x: np.ndarray, train_y: np.ndarray, test_x : np.ndarray):\n",
    "    new_train_x = []\n",
    "    new_test_x = []\n",
    "    print(train_x.shape)\n",
    "    for i in range(train_x.shape[1]):\n",
    "        clf = LogisticRegression(random_state=0, penalty='l2', tol=1e-4, C=1.0, intercept_scaling=1, fit_intercept=True,\n",
    "                                 solver=\"lbfgs\", max_iter=5000)\n",
    "        data = train_x[:, i].reshape(train_x.shape[0], -1)\n",
    "        clf.fit(data, train_y)\n",
    "        pred_x = clf.predict_proba(train_x[:, i].reshape(train_x.shape[0], -1))[:, 0]\n",
    "        new_train_x.append(pred_x)\n",
    "        pred_x = clf.predict_proba(test_x[:, i].reshape(test_x.shape[0], -1))[:, 0]\n",
    "        new_test_x.append(pred_x)\n",
    "\n",
    "    new_train_x = np.array(new_train_x).transpose()\n",
    "    new_test_x = np.array(new_test_x).transpose()\n",
    "    return new_train_x , new_test_x"
   ],
   "metadata": {
    "collapsed": false,
    "pycharm": {
     "name": "#%%\n"
    }
   }
  },
  {
   "cell_type": "code",
   "execution_count": 52,
   "outputs": [
    {
     "name": "stdout",
     "output_type": "stream",
     "text": [
      "(455, 30)\n"
     ]
    },
    {
     "data": {
      "text/plain": "array([[0.05076963, 0.25126848, 0.03957998, ..., 0.31475403, 0.30821986,\n        0.35424038],\n       [0.02062627, 0.24421788, 0.01962399, ..., 0.4317036 , 0.33253879,\n        0.36358378],\n       [0.17794082, 0.15359751, 0.14071122, ..., 0.33249268, 0.29404015,\n        0.35469981],\n       ...,\n       [0.13893757, 0.34948601, 0.13646848, ..., 0.3299278 , 0.41872355,\n        0.36260147],\n       [0.00297811, 0.32569808, 0.00303387, ..., 0.3572694 , 0.38013467,\n        0.36632196],\n       [0.22151814, 0.14169968, 0.20262395, ..., 0.38265355, 0.36722425,\n        0.35750196]])"
     },
     "execution_count": 52,
     "metadata": {},
     "output_type": "execute_result"
    }
   ],
   "source": [
    "X_train , X_test = convert_to_probebilties(X_train, y_train , X_test)\n",
    "X_train"
   ],
   "metadata": {
    "collapsed": false,
    "pycharm": {
     "name": "#%%\n"
    }
   }
  },
  {
   "cell_type": "code",
   "execution_count": 53,
   "outputs": [
    {
     "data": {
      "text/plain": "array([[0.03723625, 0.33301002, 0.02896847, ..., 0.27851783, 0.37194253,\n        0.36023898],\n       [0.21977611, 0.06850118, 0.21462377, ..., 0.29003275, 0.34584171,\n        0.3573207 ],\n       [0.98952117, 0.74313165, 0.99430909, ..., 0.47509726, 0.42519581,\n        0.36815584],\n       ...,\n       [0.98626996, 0.32621761, 0.98829766, ..., 0.3701379 , 0.35626125,\n        0.35559021],\n       [0.07927595, 0.30728704, 0.06093443, ..., 0.30653256, 0.36771119,\n        0.35730471],\n       [0.11642285, 0.21457253, 0.08676224, ..., 0.26670651, 0.32048533,\n        0.3552419 ]])"
     },
     "execution_count": 53,
     "metadata": {},
     "output_type": "execute_result"
    }
   ],
   "source": [
    "X_test"
   ],
   "metadata": {
    "collapsed": false,
    "pycharm": {
     "name": "#%%\n"
    }
   }
  },
  {
   "cell_type": "markdown",
   "source": [
    "now repeate part a and b"
   ],
   "metadata": {
    "collapsed": false,
    "pycharm": {
     "name": "#%% md\n"
    }
   }
  },
  {
   "cell_type": "code",
   "execution_count": 57,
   "outputs": [
    {
     "name": "stdout",
     "output_type": "stream",
     "text": [
      "MultinomialNB\n",
      "Acc: 0.9035087719298246\n",
      "Auc: 0.9024621212121213\n",
      "confusion matrix \n",
      " [[43  5]\n",
      " [ 6 60]] \n"
     ]
    }
   ],
   "source": [
    "lr = sklearn.naive_bayes.MultinomialNB()\n",
    "lr.fit(X_train, y_train)\n",
    "pred = lr.predict(X_test)\n",
    "\n",
    "acc = metrics.accuracy_score(y_test, pred)\n",
    "cm = metrics.confusion_matrix(y_test, pred)\n",
    "auc = metrics.roc_auc_score(y_test, pred)\n",
    "\n",
    "print('MultinomialNB')\n",
    "print(f'Acc: {acc}')\n",
    "print(f'Auc: {auc}')\n",
    "print(f'confusion matrix \\n {cm} ')"
   ],
   "metadata": {
    "collapsed": false,
    "pycharm": {
     "name": "#%%\n"
    }
   }
  },
  {
   "cell_type": "code",
   "execution_count": 58,
   "outputs": [
    {
     "name": "stdout",
     "output_type": "stream",
     "text": [
      "Gussian\n",
      "Acc: 0.956140350877193\n",
      "Auc: 0.9621212121212122\n",
      "confusion matrix \n",
      " [[48  0]\n",
      " [ 5 61]] \n"
     ]
    }
   ],
   "source": [
    "clf = GaussianNB()\n",
    "clf.fit(X_train, y_train)\n",
    "\n",
    "pred = clf.predict(X_test)\n",
    "acc = metrics.accuracy_score(y_test, pred)\n",
    "cm = metrics.confusion_matrix(y_test, pred)\n",
    "auc = metrics.roc_auc_score(y_test, pred)\n",
    "\n",
    "print(f'Gussian')\n",
    "print(f'Acc: {acc}')\n",
    "print(f'Auc: {auc}')\n",
    "print(f'confusion matrix \\n {cm} ')"
   ],
   "metadata": {
    "collapsed": false,
    "pycharm": {
     "name": "#%%\n"
    }
   }
  },
  {
   "cell_type": "code",
   "execution_count": 59,
   "outputs": [
    {
     "name": "stdout",
     "output_type": "stream",
     "text": [
      "LogisticRegression\n",
      "Acc: 0.9824561403508771\n",
      "Auc: 0.9820075757575757\n",
      "confusion matrix \n",
      " [[47  1]\n",
      " [ 1 65]] \n"
     ]
    }
   ],
   "source": [
    "clf = LogisticRegression(random_state=10, penalty='l2', tol=1e-4, C=1.0, intercept_scaling=1, fit_intercept=True,\n",
    "                        solver=\"lbfgs\", max_iter=8000)\n",
    "clf.fit(X_train, y_train)\n",
    "\n",
    "pred = clf.predict(X_test)\n",
    "acc = metrics.accuracy_score(y_test, pred)\n",
    "cm = metrics.confusion_matrix(y_test, pred)\n",
    "auc = metrics.roc_auc_score(y_test, pred)\n",
    "\n",
    "print('LogisticRegression')\n",
    "print(f'Acc: {acc}')\n",
    "print(f'Auc: {auc}')\n",
    "print(f'confusion matrix \\n {cm} ')"
   ],
   "metadata": {
    "collapsed": false,
    "pycharm": {
     "name": "#%%\n"
    }
   }
  },
  {
   "cell_type": "code",
   "execution_count": 56,
   "outputs": [],
   "source": [],
   "metadata": {
    "collapsed": false,
    "pycharm": {
     "name": "#%%\n"
    }
   }
  }
 ],
 "metadata": {
  "kernelspec": {
   "display_name": "Python 3",
   "language": "python",
   "name": "python3"
  },
  "language_info": {
   "codemirror_mode": {
    "name": "ipython",
    "version": 2
   },
   "file_extension": ".py",
   "mimetype": "text/x-python",
   "name": "python",
   "nbconvert_exporter": "python",
   "pygments_lexer": "ipython2",
   "version": "2.7.6"
  }
 },
 "nbformat": 4,
 "nbformat_minor": 0
}