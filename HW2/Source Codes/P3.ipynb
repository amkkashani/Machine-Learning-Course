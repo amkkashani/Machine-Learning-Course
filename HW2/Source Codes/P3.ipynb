{
 "cells": [
  {
   "cell_type": "code",
   "execution_count": 1,
   "outputs": [],
   "source": [
    "from __future__ import annotations\n",
    "\n",
    "import math\n",
    "import pandas as pd\n",
    "from collections import Counter\n",
    "import numpy as np\n",
    "from sklearn.model_selection import train_test_split\n",
    "from sklearn.metrics import precision_score, accuracy_score\n",
    "import matplotlib.pyplot as plt"
   ],
   "metadata": {
    "collapsed": false,
    "pycharm": {
     "name": "#%%\n"
    }
   }
  },
  {
   "cell_type": "markdown",
   "source": [
    "# My decision Tree Class"
   ],
   "metadata": {
    "collapsed": false,
    "pycharm": {
     "name": "#%% md\n"
    }
   }
  },
  {
   "cell_type": "code",
   "execution_count": 33,
   "outputs": [],
   "source": [
    "class DecisionTree:\n",
    "    def __init__(self, data: np.ndarray, depth: int, left: DecisionTree, right: DecisionTree, threshold: float,\n",
    "                 max_depth: int):\n",
    "        self.left = left\n",
    "        self.right = right\n",
    "        self.data = data\n",
    "        self.depth = depth\n",
    "        self.threshold = threshold\n",
    "        self.is_leaf = False\n",
    "        self.max_depth = max_depth\n",
    "        self.left_rule = None  # just say which rull goes to left\n",
    "        self.best_index = -1\n",
    "\n",
    "    def post_prune(self, alpha):\n",
    "        left_acc = self.calc_p(self.left.data) * len(self.left.data)\n",
    "        right_acc = self.right.calc_p(self.right.data) * len(self.right.data)\n",
    "        imporvment = left_acc + right_acc - self.calc_p(self.data)\n",
    "        if alpha <= imporvment:\n",
    "            return False\n",
    "        else:\n",
    "            return True  # u must stop\n",
    "\n",
    "    def predict_data(self, input: np.ndarray, search_max_depth=100, current_depth=1, alpha=0.00):\n",
    "        if input.ndim == 1:\n",
    "            if self.is_leaf == True or self.left is None or self.right is None or self.best_index == -1 or search_max_depth <= current_depth or self.post_prune(\n",
    "                    alpha):\n",
    "                # it's a leaf node\n",
    "                # sorry for bad syntax :( no way\n",
    "                # i want to find must frequent  element in result\n",
    "                results = self.data[:, -1]\n",
    "                b = Counter(results.tolist())\n",
    "                return b.most_common(1)[0][0]\n",
    "\n",
    "            if input[self.best_index] == self.left_rule:\n",
    "                # go to left\n",
    "                return self.left.predict_data(input, current_depth=current_depth + 1 ,alpha=alpha , search_max_depth=search_max_depth)\n",
    "            else:\n",
    "                # go to right\n",
    "                return self.right.predict_data(input, current_depth=current_depth + 1,alpha=alpha , search_max_depth=search_max_depth)\n",
    "        else:\n",
    "            m, n = input.shape\n",
    "            results = []\n",
    "            for i in range(m):\n",
    "                res = self.predict_data(input[i, :],alpha=alpha , search_max_depth=search_max_depth)\n",
    "                results.append(res)\n",
    "            results = np.array(results)\n",
    "            return results\n",
    "\n",
    "    def entropy_calculator(self, p):\n",
    "        if p == 0 or p == 1:\n",
    "            return 0\n",
    "        return - (p * math.log2(p) + (1 - p) * math.log2(1 - p))\n",
    "\n",
    "    def calc_p(self, data: np.ndarray) -> float:\n",
    "        # check purity\n",
    "        # in this part there is no importance for left_rule declaration\n",
    "\n",
    "        unique, counts = np.unique(data[:, -1], return_counts=True)\n",
    "        my_dict = dict(zip(unique, counts))\n",
    "        elements = list(my_dict.keys())\n",
    "\n",
    "        if len(elements) == 1:\n",
    "            return 1  # pure\n",
    "\n",
    "        first_element = my_dict[elements[0]]\n",
    "        second_element = my_dict[elements[1]]\n",
    "\n",
    "        p = first_element / (first_element + second_element)\n",
    "\n",
    "        if p < 0.5:\n",
    "            p = 1 - p\n",
    "        return p\n",
    "\n",
    "    def check_purity(self, data: np.ndarray, purity_threshold: float) -> bool:\n",
    "        purity = self.calc_p(data)\n",
    "\n",
    "        if purity > purity_threshold:\n",
    "            # under threshold\n",
    "            return True\n",
    "        else:\n",
    "            return False\n",
    "\n",
    "    def split_by_feature(self, data: np.ndarray, column_id: int) -> (\n",
    "            np.ndarray, np.ndarray, object):\n",
    "        m, n = data.shape\n",
    "\n",
    "        unique, counts = np.unique(data[:, column_id], return_counts=True)\n",
    "        my_dict = dict(zip(unique, counts))\n",
    "        elements = list(my_dict.keys())\n",
    "\n",
    "        # we use binary therefor its enough to  check equality with first element\n",
    "        left_rule = elements[0]\n",
    "\n",
    "        left = []\n",
    "        right = []\n",
    "\n",
    "        for i in range(m):\n",
    "            if data[i, column_id] == left_rule:\n",
    "                left.append(data[i, :])\n",
    "            else:\n",
    "                right.append(data[i, :])\n",
    "        left = np.array(left)\n",
    "        right = np.array(right)\n",
    "\n",
    "        return left, right, left_rule\n",
    "\n",
    "    def find_best_column_feature(self):\n",
    "\n",
    "        if self.check_purity(self.data, self.threshold):\n",
    "            self.is_leaf = True\n",
    "            # print(f'finished by purity')\n",
    "            return\n",
    "\n",
    "        if self.depth >= self.max_depth:\n",
    "            self.is_leaf = True\n",
    "            # print(f'finished by max_depth')\n",
    "            return\n",
    "\n",
    "        m, n = self.data.shape\n",
    "        scores = []\n",
    "\n",
    "        intial_entropy = self.entropy_calculator(self.calc_p(self.data))\n",
    "\n",
    "        for i in range(n - 1):\n",
    "            left, right, _ = self.split_by_feature(self.data, i)\n",
    "\n",
    "            if left.ndim == 1 or right.ndim == 1:\n",
    "                scores.append(0)\n",
    "                continue  # this feature already used\n",
    "\n",
    "            left_p = self.calc_p(left)\n",
    "            left_entropy = self.entropy_calculator(p=left_p)\n",
    "\n",
    "            right_p = self.calc_p(right)\n",
    "            right_entropy = self.entropy_calculator(p=right_p)\n",
    "\n",
    "            score = len(left) * left_entropy + len(right) * right_entropy\n",
    "            score /= len(self.data)  # better to combine both 2 lines\n",
    "            score = intial_entropy - score\n",
    "\n",
    "            scores.append(score)\n",
    "\n",
    "        # print(intial_entropy)\n",
    "        self.best_index = scores.index(max(scores))\n",
    "        # print(max(scores))\n",
    "        # print(self.best_index)\n",
    "\n",
    "        # I make the best index again , better idea is save it and select it from a list\n",
    "\n",
    "        left, right, left_rule = self.split_by_feature(self.data, self.best_index)\n",
    "\n",
    "        if left.ndim != 1:  # i dont know for what but this if statement help the model to run perfectly in depth over 10\n",
    "            self.left_rule = left_rule\n",
    "            self.left = DecisionTree(left, self.depth + 1, None, None, self.threshold, self.max_depth)\n",
    "            self.left.find_best_column_feature()\n",
    "        if right.ndim != 1:\n",
    "            self.right = DecisionTree(right, self.depth + 1, None, None, self.threshold, self.max_depth)\n",
    "            self.right.find_best_column_feature()\n",
    "\n"
   ],
   "metadata": {
    "collapsed": false,
    "pycharm": {
     "name": "#%%\n"
    }
   }
  },
  {
   "cell_type": "markdown",
   "source": [
    "# A"
   ],
   "metadata": {
    "collapsed": false,
    "pycharm": {
     "name": "#%% md\n"
    }
   }
  },
  {
   "cell_type": "code",
   "execution_count": 34,
   "outputs": [],
   "source": [
    "data = pd.read_csv(\"lungcancer.csv\")\n",
    "data = data.to_numpy()"
   ],
   "metadata": {
    "collapsed": false,
    "pycharm": {
     "name": "#%%\n"
    }
   }
  },
  {
   "cell_type": "code",
   "execution_count": 35,
   "outputs": [
    {
     "name": "stdout",
     "output_type": "stream",
     "text": [
      "309\n"
     ]
    },
    {
     "data": {
      "text/plain": "array([['M', 1, 1, ..., 2, 2, 'YES'],\n       ['M', 1, 2, ..., 2, 2, 'YES'],\n       ['F', 1, 1, ..., 1, 2, 'NO'],\n       ...,\n       ['M', 1, 2, ..., 1, 2, 'YES'],\n       ['M', 1, 2, ..., 1, 2, 'YES'],\n       ['M', 1, 1, ..., 2, 1, 'YES']], dtype=object)"
     },
     "execution_count": 35,
     "metadata": {},
     "output_type": "execute_result"
    }
   ],
   "source": [
    "# convert age to binary\n",
    "m , _ = data.shape\n",
    "age_threshold = 57\n",
    "print(m)\n",
    "for i in range(m):\n",
    "    if data[i,1] > 57:\n",
    "        data[i,1] = 1\n",
    "    else:\n",
    "        data[i,1] = 0\n",
    "data"
   ],
   "metadata": {
    "collapsed": false,
    "pycharm": {
     "name": "#%%\n"
    }
   }
  },
  {
   "cell_type": "code",
   "execution_count": 36,
   "outputs": [],
   "source": [
    "\n",
    "\n",
    "\n",
    "X_train, X_test, y_train, y_test = train_test_split(data[:, :16], data[:, 15], test_size=0.75, random_state=56)"
   ],
   "metadata": {
    "collapsed": false,
    "pycharm": {
     "name": "#%%\n"
    }
   }
  },
  {
   "cell_type": "code",
   "execution_count": 37,
   "outputs": [
    {
     "name": "stdout",
     "output_type": "stream",
     "text": [
      "accuracy_score : 0.8577586206896551, precision_score : 0.6538461538461539\n"
     ]
    }
   ],
   "source": [
    "# train_data_already has the result\n",
    "tree = DecisionTree(X_train, 0, None, None, 1, 16)\n",
    "tree.find_best_column_feature()\n",
    "\n",
    "pred = tree.predict_data(X_test)\n",
    "acc = accuracy_score(pred, y_test)\n",
    "pre = precision_score(pred, y_test, pos_label='NO')\n",
    "print(f'accuracy_score : {acc}, precision_score : {pre}')"
   ],
   "metadata": {
    "collapsed": false,
    "pycharm": {
     "name": "#%%\n"
    }
   }
  },
  {
   "cell_type": "code",
   "execution_count": 38,
   "outputs": [
    {
     "data": {
      "text/plain": "Predicted  NO  YES\nActual            \nNO         17    9\nYES        24  182",
      "text/html": "<div>\n<style scoped>\n    .dataframe tbody tr th:only-of-type {\n        vertical-align: middle;\n    }\n\n    .dataframe tbody tr th {\n        vertical-align: top;\n    }\n\n    .dataframe thead th {\n        text-align: right;\n    }\n</style>\n<table border=\"1\" class=\"dataframe\">\n  <thead>\n    <tr style=\"text-align: right;\">\n      <th>Predicted</th>\n      <th>NO</th>\n      <th>YES</th>\n    </tr>\n    <tr>\n      <th>Actual</th>\n      <th></th>\n      <th></th>\n    </tr>\n  </thead>\n  <tbody>\n    <tr>\n      <th>NO</th>\n      <td>17</td>\n      <td>9</td>\n    </tr>\n    <tr>\n      <th>YES</th>\n      <td>24</td>\n      <td>182</td>\n    </tr>\n  </tbody>\n</table>\n</div>"
     },
     "execution_count": 38,
     "metadata": {},
     "output_type": "execute_result"
    }
   ],
   "source": [
    "y_acu = pd.Series(y_test, name='Actual')\n",
    "y_pred = pd.Series(pred, name='Predicted')\n",
    "df_confusion = pd.crosstab(y_acu, y_pred)\n",
    "df_confusion"
   ],
   "metadata": {
    "collapsed": false,
    "pycharm": {
     "name": "#%%\n"
    }
   }
  },
  {
   "cell_type": "markdown",
   "source": [],
   "metadata": {
    "collapsed": false,
    "pycharm": {
     "name": "#%% md\n"
    }
   }
  },
  {
   "cell_type": "markdown",
   "source": [
    "# B"
   ],
   "metadata": {
    "collapsed": false,
    "pycharm": {
     "name": "#%% md\n"
    }
   }
  },
  {
   "cell_type": "code",
   "execution_count": 41,
   "outputs": [
    {
     "name": "stdout",
     "output_type": "stream",
     "text": [
      "avg accuracy : 0.8509852216748769\n",
      "avg precision : 0.5470831303343618\n"
     ]
    }
   ],
   "source": [
    "scores_acc = []\n",
    "scores_pre = []\n",
    "for i in range(7):\n",
    "    X_train, X_test, y_train, y_test = train_test_split(data[:, :16], data[:, 15], test_size=0.75)\n",
    "    tree = DecisionTree(X_train, 0, None, None, 1, 16)\n",
    "    tree.find_best_column_feature()\n",
    "\n",
    "    pred = tree.predict_data(X_test)\n",
    "    acc = accuracy_score(pred, y_test)\n",
    "    pre = precision_score(pred, y_test, pos_label='NO')\n",
    "    scores_acc.append(acc)\n",
    "    scores_pre.append(pre)\n",
    "    # print(f'accuracy_score : {acc}, precision_score : {pre}')\n",
    "scores_acc = np.array(scores_acc)\n",
    "scores_pre = np.array(scores_pre)\n",
    "print(f'avg accuracy : {np.average(scores_acc)}')\n",
    "print(f'avg precision : {np.average(scores_pre)}')"
   ],
   "metadata": {
    "collapsed": false,
    "pycharm": {
     "name": "#%%\n"
    }
   }
  },
  {
   "cell_type": "markdown",
   "source": [
    "# C"
   ],
   "metadata": {
    "collapsed": false,
    "pycharm": {
     "name": "#%% md\n"
    }
   }
  },
  {
   "cell_type": "markdown",
   "source": [
    "repeat A"
   ],
   "metadata": {
    "collapsed": false,
    "pycharm": {
     "name": "#%% md\n"
    }
   }
  },
  {
   "cell_type": "code",
   "execution_count": 50,
   "outputs": [
    {
     "name": "stdout",
     "output_type": "stream",
     "text": [
      "train_size 0.2 => accuracy_score : 0.875, precision_score : 0.28125\n",
      "train_size 0.45 => accuracy_score : 0.8823529411764706, precision_score : 0.45454545454545453\n",
      "train_size 0.65 => accuracy_score : 0.8715596330275229, precision_score : 0.38461538461538464\n",
      "train_size 0.85 => accuracy_score : 0.851063829787234, precision_score : 0.5833333333333334\n"
     ]
    }
   ],
   "source": [
    "train_sizes = [0.2,0.45,0.65,0.85]\n",
    "for train_size in train_sizes:\n",
    "    X_train, X_test, y_train, y_test = train_test_split(data[:, :16], data[:, 15], test_size=1 - train_size)\n",
    "    tree = DecisionTree(X_train, 0, None, None, 1, 16)\n",
    "    tree.find_best_column_feature()\n",
    "\n",
    "    pred = tree.predict_data(X_test)\n",
    "    acc = accuracy_score(pred, y_test)\n",
    "    pre = precision_score(pred, y_test, pos_label='NO')\n",
    "    print(f'train_size {train_size} => accuracy_score : {acc}, precision_score : {pre}')"
   ],
   "metadata": {
    "collapsed": false,
    "pycharm": {
     "name": "#%%\n"
    }
   }
  },
  {
   "cell_type": "markdown",
   "source": [
    "repeat part B"
   ],
   "metadata": {
    "collapsed": false,
    "pycharm": {
     "name": "#%% md\n"
    }
   }
  },
  {
   "cell_type": "code",
   "execution_count": 49,
   "outputs": [
    {
     "name": "stdout",
     "output_type": "stream",
     "text": [
      "train_size : 0.2 => avg accuracy : 0.8450460829493088, avg precision : 0.4579966884114349\n",
      "train_size : 0.45 => avg accuracy : 0.8764705882352943, avg precision : 0.467243119199641\n",
      "train_size : 0.65 => avg accuracy : 0.8794233289646133, avg precision : 0.5303571428571429\n",
      "train_size : 0.85 => avg accuracy : 0.8996960486322187, avg precision : 0.6409297052154195\n"
     ]
    }
   ],
   "source": [
    "train_sizes = [0.2,0.45,0.65,0.85]\n",
    "for train_size in train_sizes:\n",
    "    scores_acc = []\n",
    "    scores_pre = []\n",
    "    for i in range(7):\n",
    "        X_train, X_test, y_train, y_test = train_test_split(data[:, :16], data[:, 15], test_size=1-train_size)\n",
    "        tree = DecisionTree(X_train, 0, None, None, 1, 16)\n",
    "        tree.find_best_column_feature()\n",
    "\n",
    "        pred = tree.predict_data(X_test)\n",
    "        acc = accuracy_score(pred, y_test)\n",
    "        pre = precision_score(pred, y_test, pos_label='NO')\n",
    "        scores_acc.append(acc)\n",
    "        scores_pre.append(pre)\n",
    "        # print(f'accuracy_score : {acc}, precision_score : {pre}')\n",
    "    scores_acc = np.array(scores_acc)\n",
    "    scores_pre = np.array(scores_pre)\n",
    "    print(f'train_size : {train_size} => avg accuracy : {np.average(scores_acc)}, avg precision : {np.average(scores_pre)}')"
   ],
   "metadata": {
    "collapsed": false,
    "pycharm": {
     "name": "#%%\n"
    }
   }
  },
  {
   "cell_type": "markdown",
   "source": [],
   "metadata": {
    "collapsed": false,
    "pycharm": {
     "name": "#%% md\n"
    }
   }
  },
  {
   "cell_type": "markdown",
   "source": [
    "# D"
   ],
   "metadata": {
    "collapsed": false,
    "pycharm": {
     "name": "#%% md\n"
    }
   }
  },
  {
   "cell_type": "code",
   "execution_count": 54,
   "outputs": [],
   "source": [
    "X_train, X_test, y_train, y_test = train_test_split(data[:, :16], data[:, 15], test_size=0.25)\n",
    "scores_acc = []\n",
    "scores_pre = []\n",
    "index = []\n",
    "for max_depth in range(1 , 15):\n",
    "    index.append(max_depth)\n",
    "    tree = DecisionTree(X_train, 0, None, None, 1, 16)\n",
    "    tree.find_best_column_feature()\n",
    "    pred = tree.predict_data(X_test ,alpha=0.1 , search_max_depth=max_depth)\n",
    "    acc = accuracy_score(pred, y_test)\n",
    "    pre = precision_score(pred, y_test, pos_label='NO')\n",
    "    scores_acc.append(acc)\n",
    "    scores_pre.append(pre)"
   ],
   "metadata": {
    "collapsed": false,
    "pycharm": {
     "name": "#%%\n"
    }
   }
  },
  {
   "cell_type": "code",
   "execution_count": 55,
   "outputs": [
    {
     "data": {
      "text/plain": "[<matplotlib.lines.Line2D at 0x2b603ebe340>]"
     },
     "execution_count": 55,
     "metadata": {},
     "output_type": "execute_result"
    },
    {
     "data": {
      "text/plain": "<Figure size 640x480 with 1 Axes>",
      "image/png": "[encoded data removed]"
     },
     "metadata": {},
     "output_type": "display_data"
    }
   ],
   "source": [
    "plt.title(\"accuracy_score of tree with prouning\")\n",
    "plt.ylabel(\"accuracy_score\")\n",
    "plt.xlabel(\"max_depth\")\n",
    "plt.plot(index,scores_acc)"
   ],
   "metadata": {
    "collapsed": false,
    "pycharm": {
     "name": "#%%\n"
    }
   }
  },
  {
   "cell_type": "code",
   "execution_count": 56,
   "outputs": [
    {
     "data": {
      "text/plain": "[<matplotlib.lines.Line2D at 0x2b603f19f70>]"
     },
     "execution_count": 56,
     "metadata": {},
     "output_type": "execute_result"
    },
    {
     "data": {
      "text/plain": "<Figure size 640x480 with 1 Axes>",
      "image/png": "[encoded data removed]"
     },
     "metadata": {},
     "output_type": "display_data"
    }
   ],
   "source": [
    "plt.title(\"precision_score of tree with prouning\")\n",
    "plt.ylabel(\"precision_score\")\n",
    "plt.xlabel(\"max_depth\")\n",
    "plt.plot(index,scores_pre)"
   ],
   "metadata": {
    "collapsed": false,
    "pycharm": {
     "name": "#%%\n"
    }
   }
  },
  {
   "cell_type": "code",
   "execution_count": null,
   "outputs": [],
   "source": [],
   "metadata": {
    "collapsed": false,
    "pycharm": {
     "name": "#%%\n"
    }
   }
  }
 ],
 "metadata": {
  "kernelspec": {
   "display_name": "Python 3",
   "language": "python",
   "name": "python3"
  },
  "language_info": {
   "codemirror_mode": {
    "name": "ipython",
    "version": 2
   },
   "file_extension": ".py",
   "mimetype": "text/x-python",
   "name": "python",
   "nbconvert_exporter": "python",
   "pygments_lexer": "ipython2",
   "version": "2.7.6"
  }
 },
 "nbformat": 4,
 "nbformat_minor": 0
}