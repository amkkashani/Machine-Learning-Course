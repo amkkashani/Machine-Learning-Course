{
 "cells": [
  {
   "cell_type": "code",
   "execution_count": 443,
   "outputs": [],
   "source": [
    "import numpy\n",
    "import numpy as np\n",
    "from sklearn.datasets import make_moons\n",
    "import matplotlib.pyplot as plt\n",
    "from sklearn.model_selection import train_test_split\n",
    "from sklearn.tree import DecisionTreeClassifier\n",
    "from sklearn.metrics import confusion_matrix, accuracy_score"
   ],
   "metadata": {
    "collapsed": false,
    "pycharm": {
     "name": "#%%\n"
    }
   }
  },
  {
   "cell_type": "markdown",
   "source": [
    "# a"
   ],
   "metadata": {
    "collapsed": false,
    "pycharm": {
     "name": "#%% md\n"
    }
   }
  },
  {
   "cell_type": "code",
   "execution_count": 444,
   "outputs": [],
   "source": [
    "data = make_moons(n_samples=10000, noise=0.4)\n",
    "data_x = data[0]\n",
    "data_y = data[1]"
   ],
   "metadata": {
    "collapsed": false,
    "pycharm": {
     "name": "#%%\n"
    }
   }
  },
  {
   "cell_type": "code",
   "execution_count": 445,
   "outputs": [
    {
     "data": {
      "text/plain": "<Figure size 432x288 with 1 Axes>",
      "image/png": "[encoded data removed]"
     },
     "metadata": {
      "needs_background": "light"
     },
     "output_type": "display_data"
    }
   ],
   "source": [
    "zeros = []\n",
    "ones = []\n",
    "for i in range(len(data_y)):\n",
    "    if data_y[i] == 1:\n",
    "        ones.append(data_x[i])\n",
    "    else:\n",
    "        zeros.append(data_x[i])\n",
    "\n",
    "zeros = numpy.array(zeros)\n",
    "ones = numpy.array(ones)\n",
    "plt.title('plot dataset')\n",
    "plt.xlabel('x')\n",
    "plt.ylabel('y')\n",
    "plt.scatter(zeros[:, 0], zeros[:, 1])\n",
    "plt.scatter(ones[:, 0], ones[:, 1])\n",
    "plt.show()"
   ],
   "metadata": {
    "collapsed": false,
    "pycharm": {
     "name": "#%%\n"
    }
   }
  },
  {
   "cell_type": "markdown",
   "source": [
    "# b"
   ],
   "metadata": {
    "collapsed": false,
    "pycharm": {
     "name": "#%% md\n"
    }
   }
  },
  {
   "cell_type": "code",
   "execution_count": 446,
   "outputs": [],
   "source": [
    "X_train, X_test, y_train, y_test = train_test_split(data_x, data_y, test_size=0.20, random_state=25)"
   ],
   "metadata": {
    "collapsed": false,
    "pycharm": {
     "name": "#%%\n"
    }
   }
  },
  {
   "cell_type": "code",
   "execution_count": 447,
   "outputs": [
    {
     "data": {
      "text/plain": "array([[-0.45480832,  1.27488263],\n       [ 0.93248138,  0.41153404],\n       [-0.83772382,  1.42361456],\n       ...,\n       [ 0.193189  ,  0.48335192],\n       [ 0.72016222,  0.20901283],\n       [ 0.27413183, -0.13344834]])"
     },
     "execution_count": 447,
     "metadata": {},
     "output_type": "execute_result"
    }
   ],
   "source": [
    "X_test"
   ],
   "metadata": {
    "collapsed": false,
    "pycharm": {
     "name": "#%%\n"
    }
   }
  },
  {
   "cell_type": "code",
   "execution_count": 448,
   "outputs": [
    {
     "data": {
      "text/plain": "array([0, 1, 0, ..., 0, 1, 1], dtype=int64)"
     },
     "execution_count": 448,
     "metadata": {},
     "output_type": "execute_result"
    }
   ],
   "source": [
    "y_test"
   ],
   "metadata": {
    "collapsed": false,
    "pycharm": {
     "name": "#%%\n"
    }
   }
  },
  {
   "cell_type": "code",
   "execution_count": 471,
   "outputs": [
    {
     "name": "stdout",
     "output_type": "stream",
     "text": [
      "X_test :(2000, 2) - X_train : (8000, 2)\n"
     ]
    }
   ],
   "source": [
    "print(f'X_test :{X_test.shape} - X_train : {X_train.shape}')"
   ],
   "metadata": {
    "collapsed": false,
    "pycharm": {
     "name": "#%%\n"
    }
   }
  },
  {
   "cell_type": "markdown",
   "source": [],
   "metadata": {
    "collapsed": false,
    "pycharm": {
     "name": "#%% md\n"
    }
   }
  },
  {
   "cell_type": "markdown",
   "source": [
    "# c"
   ],
   "metadata": {
    "collapsed": false,
    "pycharm": {
     "name": "#%% md\n"
    }
   }
  },
  {
   "cell_type": "code",
   "execution_count": 449,
   "outputs": [],
   "source": [
    "from sklearn.model_selection import GridSearchCV\n",
    "from sklearn.utils import shuffle"
   ],
   "metadata": {
    "collapsed": false,
    "pycharm": {
     "name": "#%%\n"
    }
   }
  },
  {
   "cell_type": "code",
   "execution_count": 450,
   "outputs": [],
   "source": [
    "param_grid = {\n",
    "    'max_leaf_nodes': [8, 16, 24, 32, 64, 128, 256, 512],\n",
    "    'max_depth': [4, 6, 8, 9, 10, 15],\n",
    "}"
   ],
   "metadata": {
    "collapsed": false,
    "pycharm": {
     "name": "#%%\n"
    }
   }
  },
  {
   "cell_type": "code",
   "execution_count": 451,
   "outputs": [
    {
     "data": {
      "text/plain": "GridSearchCV(cv=5, estimator=DecisionTreeClassifier(random_state=1024),\n             param_grid={'max_depth': [4, 6, 8, 9, 10, 15],\n                         'max_leaf_nodes': [8, 16, 24, 32, 64, 128, 256, 512]})"
     },
     "execution_count": 451,
     "metadata": {},
     "output_type": "execute_result"
    }
   ],
   "source": [
    "tree_class = DecisionTreeClassifier(random_state=1024)\n",
    "grid_search = GridSearchCV(estimator=tree_class, param_grid=param_grid, cv=5)  # cross validation\n",
    "grid_search.fit(X_train, y_train)"
   ],
   "metadata": {
    "collapsed": false,
    "pycharm": {
     "name": "#%%\n"
    }
   }
  },
  {
   "cell_type": "code",
   "execution_count": 452,
   "outputs": [
    {
     "data": {
      "text/plain": "DecisionTreeClassifier(max_depth=8, max_leaf_nodes=16, random_state=1024)"
     },
     "execution_count": 452,
     "metadata": {},
     "output_type": "execute_result"
    }
   ],
   "source": [
    "final_model = grid_search.best_estimator_\n",
    "final_model"
   ],
   "metadata": {
    "collapsed": false,
    "pycharm": {
     "name": "#%%\n"
    }
   }
  },
  {
   "cell_type": "markdown",
   "source": [
    "# d"
   ],
   "metadata": {
    "collapsed": false,
    "pycharm": {
     "name": "#%% md\n"
    }
   }
  },
  {
   "cell_type": "code",
   "execution_count": 453,
   "outputs": [
    {
     "data": {
      "text/plain": "array([[839, 192],\n       [105, 864]], dtype=int64)"
     },
     "execution_count": 453,
     "metadata": {},
     "output_type": "execute_result"
    }
   ],
   "source": [
    "best_tree = DecisionTreeClassifier(random_state=1024, max_leaf_nodes=final_model.max_leaf_nodes,\n",
    "                                   max_depth=final_model.max_depth)\n",
    "best_tree.fit(X_train, y_train)\n",
    "\n",
    "pred = best_tree.predict(X_test)\n",
    "confusion_matrix(y_test, pred)"
   ],
   "metadata": {
    "collapsed": false,
    "pycharm": {
     "name": "#%%\n"
    }
   }
  },
  {
   "cell_type": "code",
   "execution_count": 454,
   "outputs": [
    {
     "data": {
      "text/plain": "0.8515"
     },
     "execution_count": 454,
     "metadata": {},
     "output_type": "execute_result"
    }
   ],
   "source": [
    "accuracy_score(y_test, pred)"
   ],
   "metadata": {
    "collapsed": false,
    "pycharm": {
     "name": "#%%\n"
    }
   }
  },
  {
   "cell_type": "markdown",
   "source": [
    "# e"
   ],
   "metadata": {
    "collapsed": false,
    "pycharm": {
     "name": "#%% md\n"
    }
   }
  },
  {
   "cell_type": "code",
   "execution_count": 455,
   "outputs": [],
   "source": [
    "import random"
   ],
   "metadata": {
    "collapsed": false,
    "pycharm": {
     "name": "#%%\n"
    }
   }
  },
  {
   "cell_type": "code",
   "execution_count": 456,
   "outputs": [],
   "source": [
    "data = make_moons(n_samples=100000, noise=0.4)\n",
    "data_x = data[0]\n",
    "data_y = data[1]"
   ],
   "metadata": {
    "collapsed": false,
    "pycharm": {
     "name": "#%%\n"
    }
   }
  },
  {
   "cell_type": "code",
   "execution_count": 457,
   "outputs": [],
   "source": [
    "def make_subset(num_sample, length_sample, data_x, data_y):\n",
    "    result_x = []\n",
    "    result_y = []\n",
    "    for i in range(num_sample):\n",
    "        sample_x = []\n",
    "        sample_y = []\n",
    "        for j in range(length_sample):\n",
    "            index = random.randint(0, len(data_x) - 1)\n",
    "            sample_x.append(data_x[index])\n",
    "            sample_y.append(data_y[index])\n",
    "        result_x.append(sample_x)\n",
    "        result_y.append(sample_y)\n",
    "\n",
    "    return numpy.array(result_x), numpy.array(result_y)"
   ],
   "metadata": {
    "collapsed": false,
    "pycharm": {
     "name": "#%%\n"
    }
   }
  },
  {
   "cell_type": "code",
   "execution_count": 458,
   "outputs": [],
   "source": [
    "x_subsets, y_subsets = make_subset(1000, 100, data_x, data_y)"
   ],
   "metadata": {
    "collapsed": false,
    "pycharm": {
     "name": "#%%\n"
    }
   }
  },
  {
   "cell_type": "code",
   "execution_count": 459,
   "outputs": [
    {
     "data": {
      "text/plain": "array([[[ 0.74520621,  0.48780624],\n        [-0.90359563,  0.33807628],\n        [-0.64528193,  1.0251954 ],\n        ...,\n        [ 0.70340343, -0.58162065],\n        [ 0.51483228,  0.99261581],\n        [-0.53062605,  0.30639956]],\n\n       [[ 1.68094166, -0.29445931],\n        [ 0.90049301, -0.44666408],\n        [-0.23256295,  0.48453726],\n        ...,\n        [ 2.69176847, -0.33675852],\n        [ 1.539596  ,  0.42812222],\n        [ 0.2743147 , -0.81793378]],\n\n       [[ 0.90933764,  0.54703248],\n        [ 0.20968437,  1.16071046],\n        [ 1.35517358,  0.09455142],\n        ...,\n        [ 0.19846457, -0.02589594],\n        [ 2.28498932, -0.97458591],\n        [-0.17107867, -0.2897892 ]],\n\n       ...,\n\n       [[ 1.78504042, -0.33232576],\n        [ 1.44022912,  0.20529946],\n        [-0.96000541,  1.03752333],\n        ...,\n        [-1.33222758, -0.44140411],\n        [ 0.81797847,  0.54328886],\n        [-0.2934411 ,  0.92818962]],\n\n       [[ 1.2865561 ,  0.21584513],\n        [-0.02481374,  0.73036432],\n        [-0.9026101 , -0.4678051 ],\n        ...,\n        [ 0.78338442,  0.14005021],\n        [ 0.90400566,  0.48316047],\n        [ 1.30049604, -0.50601803]],\n\n       [[-1.37005118,  0.23389946],\n        [ 0.77410631,  0.87114764],\n        [-0.13646175, -0.0185684 ],\n        ...,\n        [ 1.33412819, -0.72126717],\n        [ 2.17967775,  0.32387509],\n        [ 0.47130764,  0.50977952]]])"
     },
     "execution_count": 459,
     "metadata": {},
     "output_type": "execute_result"
    }
   ],
   "source": [
    "x_subsets"
   ],
   "metadata": {
    "collapsed": false,
    "pycharm": {
     "name": "#%%\n"
    }
   }
  },
  {
   "cell_type": "markdown",
   "source": [
    "# f"
   ],
   "metadata": {
    "collapsed": false,
    "pycharm": {
     "name": "#%% md\n"
    }
   }
  },
  {
   "cell_type": "code",
   "execution_count": 460,
   "outputs": [],
   "source": [
    "from sklearn.base import clone"
   ],
   "metadata": {
    "collapsed": false,
    "pycharm": {
     "name": "#%%\n"
    }
   }
  },
  {
   "cell_type": "code",
   "execution_count": 461,
   "outputs": [
    {
     "data": {
      "text/plain": "GridSearchCV(cv=5, estimator=DecisionTreeClassifier(random_state=1024),\n             param_grid={'max_depth': [2, 3, 4, 5, 6, 8, 9, 10],\n                         'max_leaf_nodes': [2, 4, 8, 16]})"
     },
     "execution_count": 461,
     "metadata": {},
     "output_type": "execute_result"
    }
   ],
   "source": [
    "param_grid = {\n",
    "    'max_leaf_nodes': [2, 4, 8, 16],\n",
    "    'max_depth': [2, 3, 4, 5, 6, 8, 9, 10],\n",
    "}\n",
    "\n",
    "tree_class = DecisionTreeClassifier(random_state=1024)\n",
    "grid_search = GridSearchCV(estimator=tree_class, param_grid=param_grid, cv=5)  # cross validation\n",
    "grid_search.fit(x_subsets[0], y_subsets[0])\n",
    "# grid_search.fit(X_train , y_train)"
   ],
   "metadata": {
    "collapsed": false,
    "pycharm": {
     "name": "#%%\n"
    }
   }
  },
  {
   "cell_type": "code",
   "execution_count": 462,
   "outputs": [
    {
     "data": {
      "text/plain": "DecisionTreeClassifier(max_depth=2, max_leaf_nodes=4, random_state=1024)"
     },
     "execution_count": 462,
     "metadata": {},
     "output_type": "execute_result"
    }
   ],
   "source": [
    "final_model = grid_search.best_estimator_\n",
    "final_model"
   ],
   "metadata": {
    "collapsed": false,
    "pycharm": {
     "name": "#%%\n"
    }
   }
  },
  {
   "cell_type": "code",
   "execution_count": 463,
   "outputs": [],
   "source": [
    "my_best_subsample_model = DecisionTreeClassifier(random_state=1024, max_leaf_nodes=final_model.max_leaf_nodes,\n",
    "                                                 max_depth=final_model.max_depth)\n",
    "# my_best_subsample_model.fit(x_subsets[0], y_subsets[0])"
   ],
   "metadata": {
    "collapsed": false,
    "pycharm": {
     "name": "#%%\n"
    }
   }
  },
  {
   "cell_type": "code",
   "execution_count": 464,
   "outputs": [],
   "source": [
    "model_pool = []\n",
    "\n",
    "for i in range(len(x_subsets)):\n",
    "    new_model = clone(my_best_subsample_model)\n",
    "    model_pool.append(new_model)\n",
    "    new_model.fit(x_subsets[i], y_subsets[i])\n"
   ],
   "metadata": {
    "collapsed": false,
    "pycharm": {
     "name": "#%%\n"
    }
   }
  },
  {
   "cell_type": "code",
   "execution_count": 465,
   "outputs": [
    {
     "name": "stdout",
     "output_type": "stream",
     "text": [
      "accuracy_score is 0.813\n",
      "accuracy_score is 0.8075\n",
      "accuracy_score is 0.8525\n",
      "accuracy_score is 0.8125\n",
      "accuracy_score is 0.8455\n",
      "accuracy_score is 0.8285\n",
      "accuracy_score is 0.8485\n",
      "accuracy_score is 0.853\n",
      "accuracy_score is 0.785\n",
      "accuracy_score is 0.85\n",
      "accuracy_score is 0.8295\n",
      "accuracy_score is 0.831\n",
      "accuracy_score is 0.815\n",
      "accuracy_score is 0.825\n",
      "accuracy_score is 0.845\n",
      "accuracy_score is 0.8325\n",
      "accuracy_score is 0.8575\n",
      "accuracy_score is 0.7875\n",
      "accuracy_score is 0.8475\n",
      "accuracy_score is 0.846\n",
      "accuracy_score is 0.8125\n",
      "accuracy_score is 0.83\n",
      "accuracy_score is 0.8465\n",
      "accuracy_score is 0.85\n",
      "accuracy_score is 0.699\n",
      "accuracy_score is 0.845\n",
      "accuracy_score is 0.844\n",
      "accuracy_score is 0.8445\n",
      "accuracy_score is 0.801\n",
      "accuracy_score is 0.8345\n",
      "accuracy_score is 0.8035\n",
      "accuracy_score is 0.813\n",
      "accuracy_score is 0.8415\n",
      "accuracy_score is 0.839\n",
      "accuracy_score is 0.8195\n",
      "accuracy_score is 0.8385\n",
      "accuracy_score is 0.8455\n",
      "accuracy_score is 0.841\n",
      "accuracy_score is 0.8415\n",
      "accuracy_score is 0.8475\n",
      "accuracy_score is 0.84\n",
      "accuracy_score is 0.806\n",
      "accuracy_score is 0.8335\n",
      "accuracy_score is 0.8425\n",
      "accuracy_score is 0.8285\n",
      "accuracy_score is 0.8065\n",
      "accuracy_score is 0.851\n",
      "accuracy_score is 0.8485\n",
      "accuracy_score is 0.8555\n",
      "accuracy_score is 0.82\n",
      "accuracy_score is 0.8185\n",
      "accuracy_score is 0.8425\n",
      "accuracy_score is 0.801\n",
      "accuracy_score is 0.8105\n",
      "accuracy_score is 0.844\n",
      "accuracy_score is 0.844\n",
      "accuracy_score is 0.77\n",
      "accuracy_score is 0.838\n",
      "accuracy_score is 0.8425\n",
      "accuracy_score is 0.826\n",
      "accuracy_score is 0.8345\n",
      "accuracy_score is 0.8475\n",
      "accuracy_score is 0.82\n",
      "accuracy_score is 0.831\n",
      "accuracy_score is 0.838\n",
      "accuracy_score is 0.8515\n",
      "accuracy_score is 0.786\n",
      "accuracy_score is 0.8355\n",
      "accuracy_score is 0.828\n",
      "accuracy_score is 0.775\n",
      "accuracy_score is 0.8585\n",
      "accuracy_score is 0.845\n",
      "accuracy_score is 0.8445\n",
      "accuracy_score is 0.7335\n",
      "accuracy_score is 0.817\n",
      "accuracy_score is 0.8405\n",
      "accuracy_score is 0.854\n",
      "accuracy_score is 0.854\n",
      "accuracy_score is 0.8495\n",
      "accuracy_score is 0.803\n",
      "accuracy_score is 0.821\n",
      "accuracy_score is 0.779\n",
      "accuracy_score is 0.8415\n",
      "accuracy_score is 0.848\n",
      "accuracy_score is 0.842\n",
      "accuracy_score is 0.847\n",
      "accuracy_score is 0.827\n",
      "accuracy_score is 0.8435\n",
      "accuracy_score is 0.8485\n",
      "accuracy_score is 0.851\n",
      "accuracy_score is 0.815\n",
      "accuracy_score is 0.8345\n",
      "accuracy_score is 0.8465\n",
      "accuracy_score is 0.851\n",
      "accuracy_score is 0.853\n",
      "accuracy_score is 0.7805\n",
      "accuracy_score is 0.8255\n",
      "accuracy_score is 0.827\n",
      "accuracy_score is 0.851\n",
      "accuracy_score is 0.8435\n",
      "accuracy_score is 0.85\n",
      "accuracy_score is 0.8315\n",
      "accuracy_score is 0.8215\n",
      "accuracy_score is 0.7895\n",
      "accuracy_score is 0.8465\n",
      "accuracy_score is 0.812\n",
      "accuracy_score is 0.8525\n",
      "accuracy_score is 0.8435\n",
      "accuracy_score is 0.8365\n",
      "accuracy_score is 0.8435\n",
      "accuracy_score is 0.8565\n",
      "accuracy_score is 0.8535\n",
      "accuracy_score is 0.843\n",
      "accuracy_score is 0.853\n",
      "accuracy_score is 0.851\n",
      "accuracy_score is 0.858\n",
      "accuracy_score is 0.84\n",
      "accuracy_score is 0.8395\n",
      "accuracy_score is 0.8325\n",
      "accuracy_score is 0.8325\n",
      "accuracy_score is 0.809\n",
      "accuracy_score is 0.823\n",
      "accuracy_score is 0.792\n",
      "accuracy_score is 0.855\n",
      "accuracy_score is 0.8495\n",
      "accuracy_score is 0.8095\n",
      "accuracy_score is 0.847\n",
      "accuracy_score is 0.8475\n",
      "accuracy_score is 0.8595\n",
      "accuracy_score is 0.821\n",
      "accuracy_score is 0.848\n",
      "accuracy_score is 0.843\n",
      "accuracy_score is 0.8395\n",
      "accuracy_score is 0.8405\n",
      "accuracy_score is 0.853\n",
      "accuracy_score is 0.836\n",
      "accuracy_score is 0.8505\n",
      "accuracy_score is 0.834\n",
      "accuracy_score is 0.797\n",
      "accuracy_score is 0.841\n",
      "accuracy_score is 0.8425\n",
      "accuracy_score is 0.848\n",
      "accuracy_score is 0.829\n",
      "accuracy_score is 0.849\n",
      "accuracy_score is 0.829\n",
      "accuracy_score is 0.8585\n",
      "accuracy_score is 0.791\n",
      "accuracy_score is 0.8315\n",
      "accuracy_score is 0.8515\n",
      "accuracy_score is 0.824\n",
      "accuracy_score is 0.8525\n",
      "accuracy_score is 0.847\n",
      "accuracy_score is 0.7885\n",
      "accuracy_score is 0.854\n",
      "accuracy_score is 0.844\n",
      "accuracy_score is 0.847\n",
      "accuracy_score is 0.8435\n",
      "accuracy_score is 0.822\n",
      "accuracy_score is 0.845\n",
      "accuracy_score is 0.85\n",
      "accuracy_score is 0.8465\n",
      "accuracy_score is 0.8255\n",
      "accuracy_score is 0.8415\n",
      "accuracy_score is 0.819\n",
      "accuracy_score is 0.796\n",
      "accuracy_score is 0.821\n",
      "accuracy_score is 0.83\n",
      "accuracy_score is 0.7155\n",
      "accuracy_score is 0.85\n",
      "accuracy_score is 0.833\n",
      "accuracy_score is 0.834\n",
      "accuracy_score is 0.77\n",
      "accuracy_score is 0.811\n",
      "accuracy_score is 0.8465\n",
      "accuracy_score is 0.8495\n",
      "accuracy_score is 0.852\n",
      "accuracy_score is 0.8465\n",
      "accuracy_score is 0.845\n",
      "accuracy_score is 0.819\n",
      "accuracy_score is 0.8095\n",
      "accuracy_score is 0.8525\n",
      "accuracy_score is 0.847\n",
      "accuracy_score is 0.844\n",
      "accuracy_score is 0.8425\n",
      "accuracy_score is 0.816\n",
      "accuracy_score is 0.854\n",
      "accuracy_score is 0.858\n",
      "accuracy_score is 0.8485\n",
      "accuracy_score is 0.847\n",
      "accuracy_score is 0.8455\n",
      "accuracy_score is 0.845\n",
      "accuracy_score is 0.8225\n",
      "accuracy_score is 0.858\n",
      "accuracy_score is 0.857\n",
      "accuracy_score is 0.8395\n",
      "accuracy_score is 0.825\n",
      "accuracy_score is 0.8475\n",
      "accuracy_score is 0.8535\n",
      "accuracy_score is 0.8265\n",
      "accuracy_score is 0.848\n",
      "accuracy_score is 0.84\n",
      "accuracy_score is 0.8425\n",
      "accuracy_score is 0.838\n",
      "accuracy_score is 0.7215\n",
      "accuracy_score is 0.8425\n",
      "accuracy_score is 0.7675\n",
      "accuracy_score is 0.84\n",
      "accuracy_score is 0.7545\n",
      "accuracy_score is 0.8455\n",
      "accuracy_score is 0.82\n",
      "accuracy_score is 0.856\n",
      "accuracy_score is 0.8495\n",
      "accuracy_score is 0.8045\n",
      "accuracy_score is 0.8285\n",
      "accuracy_score is 0.8235\n",
      "accuracy_score is 0.8435\n",
      "accuracy_score is 0.8285\n",
      "accuracy_score is 0.6785\n",
      "accuracy_score is 0.819\n",
      "accuracy_score is 0.8195\n",
      "accuracy_score is 0.8425\n",
      "accuracy_score is 0.823\n",
      "accuracy_score is 0.8505\n",
      "accuracy_score is 0.841\n",
      "accuracy_score is 0.8405\n",
      "accuracy_score is 0.844\n",
      "accuracy_score is 0.844\n",
      "accuracy_score is 0.831\n",
      "accuracy_score is 0.849\n",
      "accuracy_score is 0.8575\n",
      "accuracy_score is 0.8435\n",
      "accuracy_score is 0.847\n",
      "accuracy_score is 0.8475\n",
      "accuracy_score is 0.8425\n",
      "accuracy_score is 0.858\n",
      "accuracy_score is 0.829\n",
      "accuracy_score is 0.8475\n",
      "accuracy_score is 0.829\n",
      "accuracy_score is 0.8295\n",
      "accuracy_score is 0.8125\n",
      "accuracy_score is 0.7815\n",
      "accuracy_score is 0.8385\n",
      "accuracy_score is 0.78\n",
      "accuracy_score is 0.834\n",
      "accuracy_score is 0.842\n",
      "accuracy_score is 0.8205\n",
      "accuracy_score is 0.816\n",
      "accuracy_score is 0.8355\n",
      "accuracy_score is 0.8405\n",
      "accuracy_score is 0.838\n",
      "accuracy_score is 0.818\n",
      "accuracy_score is 0.838\n",
      "accuracy_score is 0.85\n",
      "accuracy_score is 0.785\n",
      "accuracy_score is 0.8475\n",
      "accuracy_score is 0.7745\n",
      "accuracy_score is 0.7865\n",
      "accuracy_score is 0.8605\n",
      "accuracy_score is 0.8185\n",
      "accuracy_score is 0.8445\n",
      "accuracy_score is 0.8445\n",
      "accuracy_score is 0.8475\n",
      "accuracy_score is 0.8055\n",
      "accuracy_score is 0.845\n",
      "accuracy_score is 0.8365\n",
      "accuracy_score is 0.8275\n",
      "accuracy_score is 0.841\n",
      "accuracy_score is 0.8375\n",
      "accuracy_score is 0.8535\n",
      "accuracy_score is 0.8095\n",
      "accuracy_score is 0.8395\n",
      "accuracy_score is 0.848\n",
      "accuracy_score is 0.8515\n",
      "accuracy_score is 0.838\n",
      "accuracy_score is 0.734\n",
      "accuracy_score is 0.82\n",
      "accuracy_score is 0.8555\n",
      "accuracy_score is 0.828\n",
      "accuracy_score is 0.8215\n",
      "accuracy_score is 0.839\n",
      "accuracy_score is 0.7935\n",
      "accuracy_score is 0.8445\n",
      "accuracy_score is 0.8025\n",
      "accuracy_score is 0.8455\n",
      "accuracy_score is 0.8305\n",
      "accuracy_score is 0.861\n",
      "accuracy_score is 0.8235\n",
      "accuracy_score is 0.8495\n",
      "accuracy_score is 0.8335\n",
      "accuracy_score is 0.849\n",
      "accuracy_score is 0.8375\n",
      "accuracy_score is 0.85\n",
      "accuracy_score is 0.743\n",
      "accuracy_score is 0.828\n",
      "accuracy_score is 0.7945\n",
      "accuracy_score is 0.745\n",
      "accuracy_score is 0.8465\n",
      "accuracy_score is 0.8505\n",
      "accuracy_score is 0.841\n",
      "accuracy_score is 0.8425\n",
      "accuracy_score is 0.818\n",
      "accuracy_score is 0.847\n",
      "accuracy_score is 0.775\n",
      "accuracy_score is 0.819\n",
      "accuracy_score is 0.8385\n",
      "accuracy_score is 0.8305\n",
      "accuracy_score is 0.8375\n",
      "accuracy_score is 0.8415\n",
      "accuracy_score is 0.852\n",
      "accuracy_score is 0.8415\n",
      "accuracy_score is 0.814\n",
      "accuracy_score is 0.8525\n",
      "accuracy_score is 0.8465\n",
      "accuracy_score is 0.8305\n",
      "accuracy_score is 0.8115\n",
      "accuracy_score is 0.7735\n",
      "accuracy_score is 0.853\n",
      "accuracy_score is 0.786\n",
      "accuracy_score is 0.805\n",
      "accuracy_score is 0.835\n",
      "accuracy_score is 0.841\n",
      "accuracy_score is 0.8415\n",
      "accuracy_score is 0.86\n",
      "accuracy_score is 0.842\n",
      "accuracy_score is 0.85\n",
      "accuracy_score is 0.844\n",
      "accuracy_score is 0.823\n",
      "accuracy_score is 0.8345\n",
      "accuracy_score is 0.8415\n",
      "accuracy_score is 0.8165\n",
      "accuracy_score is 0.8545\n",
      "accuracy_score is 0.7715\n",
      "accuracy_score is 0.8245\n",
      "accuracy_score is 0.802\n",
      "accuracy_score is 0.82\n",
      "accuracy_score is 0.84\n",
      "accuracy_score is 0.851\n",
      "accuracy_score is 0.8505\n",
      "accuracy_score is 0.8495\n",
      "accuracy_score is 0.811\n",
      "accuracy_score is 0.818\n",
      "accuracy_score is 0.8545\n",
      "accuracy_score is 0.833\n",
      "accuracy_score is 0.8445\n",
      "accuracy_score is 0.798\n",
      "accuracy_score is 0.8205\n",
      "accuracy_score is 0.8455\n",
      "accuracy_score is 0.8485\n",
      "accuracy_score is 0.805\n",
      "accuracy_score is 0.8575\n",
      "accuracy_score is 0.845\n",
      "accuracy_score is 0.831\n",
      "accuracy_score is 0.8245\n",
      "accuracy_score is 0.8495\n",
      "accuracy_score is 0.836\n",
      "accuracy_score is 0.819\n",
      "accuracy_score is 0.819\n",
      "accuracy_score is 0.8525\n",
      "accuracy_score is 0.8525\n",
      "accuracy_score is 0.8365\n",
      "accuracy_score is 0.8085\n",
      "accuracy_score is 0.6725\n",
      "accuracy_score is 0.833\n",
      "accuracy_score is 0.7835\n",
      "accuracy_score is 0.7215\n",
      "accuracy_score is 0.7875\n",
      "accuracy_score is 0.856\n",
      "accuracy_score is 0.8465\n",
      "accuracy_score is 0.845\n",
      "accuracy_score is 0.7865\n",
      "accuracy_score is 0.84\n",
      "accuracy_score is 0.8535\n",
      "accuracy_score is 0.841\n",
      "accuracy_score is 0.8405\n",
      "accuracy_score is 0.849\n",
      "accuracy_score is 0.805\n",
      "accuracy_score is 0.7835\n",
      "accuracy_score is 0.818\n",
      "accuracy_score is 0.759\n",
      "accuracy_score is 0.8\n",
      "accuracy_score is 0.8515\n",
      "accuracy_score is 0.8435\n",
      "accuracy_score is 0.811\n",
      "accuracy_score is 0.8415\n",
      "accuracy_score is 0.789\n",
      "accuracy_score is 0.8285\n",
      "accuracy_score is 0.787\n",
      "accuracy_score is 0.769\n",
      "accuracy_score is 0.844\n",
      "accuracy_score is 0.8435\n",
      "accuracy_score is 0.844\n",
      "accuracy_score is 0.8235\n",
      "accuracy_score is 0.841\n",
      "accuracy_score is 0.846\n",
      "accuracy_score is 0.8445\n",
      "accuracy_score is 0.811\n",
      "accuracy_score is 0.8535\n",
      "accuracy_score is 0.845\n",
      "accuracy_score is 0.8435\n",
      "accuracy_score is 0.8195\n",
      "accuracy_score is 0.8435\n",
      "accuracy_score is 0.8475\n",
      "accuracy_score is 0.8355\n",
      "accuracy_score is 0.8455\n",
      "accuracy_score is 0.848\n",
      "accuracy_score is 0.8535\n",
      "accuracy_score is 0.8275\n",
      "accuracy_score is 0.8555\n",
      "accuracy_score is 0.8295\n",
      "accuracy_score is 0.8435\n",
      "accuracy_score is 0.803\n",
      "accuracy_score is 0.8005\n",
      "accuracy_score is 0.794\n",
      "accuracy_score is 0.8005\n",
      "accuracy_score is 0.848\n",
      "accuracy_score is 0.824\n",
      "accuracy_score is 0.839\n",
      "accuracy_score is 0.8245\n",
      "accuracy_score is 0.826\n",
      "accuracy_score is 0.713\n",
      "accuracy_score is 0.8505\n",
      "accuracy_score is 0.8315\n",
      "accuracy_score is 0.8305\n",
      "accuracy_score is 0.8455\n",
      "accuracy_score is 0.854\n",
      "accuracy_score is 0.8295\n",
      "accuracy_score is 0.8485\n",
      "accuracy_score is 0.8155\n",
      "accuracy_score is 0.8185\n",
      "accuracy_score is 0.838\n",
      "accuracy_score is 0.817\n",
      "accuracy_score is 0.8505\n",
      "accuracy_score is 0.831\n",
      "accuracy_score is 0.6945\n",
      "accuracy_score is 0.786\n",
      "accuracy_score is 0.8555\n",
      "accuracy_score is 0.835\n",
      "accuracy_score is 0.8445\n",
      "accuracy_score is 0.788\n",
      "accuracy_score is 0.835\n",
      "accuracy_score is 0.809\n",
      "accuracy_score is 0.8385\n",
      "accuracy_score is 0.7905\n",
      "accuracy_score is 0.8545\n",
      "accuracy_score is 0.7935\n",
      "accuracy_score is 0.821\n",
      "accuracy_score is 0.8515\n",
      "accuracy_score is 0.8485\n",
      "accuracy_score is 0.843\n",
      "accuracy_score is 0.784\n",
      "accuracy_score is 0.856\n",
      "accuracy_score is 0.8245\n",
      "accuracy_score is 0.831\n",
      "accuracy_score is 0.819\n",
      "accuracy_score is 0.8025\n",
      "accuracy_score is 0.811\n",
      "accuracy_score is 0.841\n",
      "accuracy_score is 0.8265\n",
      "accuracy_score is 0.7835\n",
      "accuracy_score is 0.846\n",
      "accuracy_score is 0.831\n",
      "accuracy_score is 0.82\n",
      "accuracy_score is 0.8355\n",
      "accuracy_score is 0.8475\n",
      "accuracy_score is 0.8495\n",
      "accuracy_score is 0.8565\n",
      "accuracy_score is 0.85\n",
      "accuracy_score is 0.8145\n",
      "accuracy_score is 0.836\n",
      "accuracy_score is 0.8425\n",
      "accuracy_score is 0.8525\n",
      "accuracy_score is 0.8605\n",
      "accuracy_score is 0.843\n",
      "accuracy_score is 0.849\n",
      "accuracy_score is 0.853\n",
      "accuracy_score is 0.8285\n",
      "accuracy_score is 0.816\n",
      "accuracy_score is 0.815\n",
      "accuracy_score is 0.852\n",
      "accuracy_score is 0.815\n",
      "accuracy_score is 0.844\n",
      "accuracy_score is 0.8225\n",
      "accuracy_score is 0.784\n",
      "accuracy_score is 0.8475\n",
      "accuracy_score is 0.8485\n",
      "accuracy_score is 0.8175\n",
      "accuracy_score is 0.8455\n",
      "accuracy_score is 0.849\n",
      "accuracy_score is 0.796\n",
      "accuracy_score is 0.8075\n",
      "accuracy_score is 0.677\n",
      "accuracy_score is 0.8125\n",
      "accuracy_score is 0.835\n",
      "accuracy_score is 0.8515\n",
      "accuracy_score is 0.823\n",
      "accuracy_score is 0.843\n",
      "accuracy_score is 0.8515\n",
      "accuracy_score is 0.8295\n",
      "accuracy_score is 0.8025\n",
      "accuracy_score is 0.816\n",
      "accuracy_score is 0.8165\n",
      "accuracy_score is 0.828\n",
      "accuracy_score is 0.773\n",
      "accuracy_score is 0.834\n",
      "accuracy_score is 0.8275\n",
      "accuracy_score is 0.8325\n",
      "accuracy_score is 0.8175\n",
      "accuracy_score is 0.8435\n",
      "accuracy_score is 0.8455\n",
      "accuracy_score is 0.8455\n",
      "accuracy_score is 0.844\n",
      "accuracy_score is 0.839\n",
      "accuracy_score is 0.8315\n",
      "accuracy_score is 0.8225\n",
      "accuracy_score is 0.8485\n",
      "accuracy_score is 0.839\n",
      "accuracy_score is 0.8365\n",
      "accuracy_score is 0.7945\n",
      "accuracy_score is 0.791\n",
      "accuracy_score is 0.848\n",
      "accuracy_score is 0.846\n",
      "accuracy_score is 0.795\n",
      "accuracy_score is 0.8425\n",
      "accuracy_score is 0.841\n",
      "accuracy_score is 0.86\n",
      "accuracy_score is 0.8465\n",
      "accuracy_score is 0.846\n",
      "accuracy_score is 0.8305\n",
      "accuracy_score is 0.836\n",
      "accuracy_score is 0.8285\n",
      "accuracy_score is 0.823\n",
      "accuracy_score is 0.837\n",
      "accuracy_score is 0.8435\n",
      "accuracy_score is 0.846\n",
      "accuracy_score is 0.8245\n",
      "accuracy_score is 0.8455\n",
      "accuracy_score is 0.827\n",
      "accuracy_score is 0.839\n",
      "accuracy_score is 0.8345\n",
      "accuracy_score is 0.8455\n",
      "accuracy_score is 0.8205\n",
      "accuracy_score is 0.814\n",
      "accuracy_score is 0.846\n",
      "accuracy_score is 0.843\n",
      "accuracy_score is 0.848\n",
      "accuracy_score is 0.845\n",
      "accuracy_score is 0.8445\n",
      "accuracy_score is 0.847\n",
      "accuracy_score is 0.8515\n",
      "accuracy_score is 0.827\n",
      "accuracy_score is 0.8135\n",
      "accuracy_score is 0.819\n",
      "accuracy_score is 0.853\n",
      "accuracy_score is 0.8445\n",
      "accuracy_score is 0.7805\n",
      "accuracy_score is 0.851\n",
      "accuracy_score is 0.7975\n",
      "accuracy_score is 0.847\n",
      "accuracy_score is 0.8135\n",
      "accuracy_score is 0.8415\n",
      "accuracy_score is 0.84\n",
      "accuracy_score is 0.81\n",
      "accuracy_score is 0.843\n",
      "accuracy_score is 0.8185\n",
      "accuracy_score is 0.849\n",
      "accuracy_score is 0.8345\n",
      "accuracy_score is 0.8495\n",
      "accuracy_score is 0.819\n",
      "accuracy_score is 0.814\n",
      "accuracy_score is 0.8365\n",
      "accuracy_score is 0.8405\n",
      "accuracy_score is 0.8205\n",
      "accuracy_score is 0.813\n",
      "accuracy_score is 0.8465\n",
      "accuracy_score is 0.813\n",
      "accuracy_score is 0.8445\n",
      "accuracy_score is 0.846\n",
      "accuracy_score is 0.809\n",
      "accuracy_score is 0.846\n",
      "accuracy_score is 0.85\n",
      "accuracy_score is 0.818\n",
      "accuracy_score is 0.79\n",
      "accuracy_score is 0.849\n",
      "accuracy_score is 0.83\n",
      "accuracy_score is 0.8455\n",
      "accuracy_score is 0.8365\n",
      "accuracy_score is 0.843\n",
      "accuracy_score is 0.8195\n",
      "accuracy_score is 0.773\n",
      "accuracy_score is 0.8505\n",
      "accuracy_score is 0.841\n",
      "accuracy_score is 0.848\n",
      "accuracy_score is 0.8475\n",
      "accuracy_score is 0.8365\n",
      "accuracy_score is 0.836\n",
      "accuracy_score is 0.8495\n",
      "accuracy_score is 0.7815\n",
      "accuracy_score is 0.8445\n",
      "accuracy_score is 0.8395\n",
      "accuracy_score is 0.8205\n",
      "accuracy_score is 0.8215\n",
      "accuracy_score is 0.82\n",
      "accuracy_score is 0.8555\n",
      "accuracy_score is 0.84\n",
      "accuracy_score is 0.8215\n",
      "accuracy_score is 0.8435\n",
      "accuracy_score is 0.846\n",
      "accuracy_score is 0.816\n",
      "accuracy_score is 0.8565\n",
      "accuracy_score is 0.8525\n",
      "accuracy_score is 0.8315\n",
      "accuracy_score is 0.817\n",
      "accuracy_score is 0.8445\n",
      "accuracy_score is 0.841\n",
      "accuracy_score is 0.846\n",
      "accuracy_score is 0.808\n",
      "accuracy_score is 0.833\n",
      "accuracy_score is 0.8225\n",
      "accuracy_score is 0.8375\n",
      "accuracy_score is 0.803\n",
      "accuracy_score is 0.8505\n",
      "accuracy_score is 0.8225\n",
      "accuracy_score is 0.853\n",
      "accuracy_score is 0.815\n",
      "accuracy_score is 0.822\n",
      "accuracy_score is 0.845\n",
      "accuracy_score is 0.8215\n",
      "accuracy_score is 0.8435\n",
      "accuracy_score is 0.857\n",
      "accuracy_score is 0.8145\n",
      "accuracy_score is 0.8475\n",
      "accuracy_score is 0.8495\n",
      "accuracy_score is 0.8095\n",
      "accuracy_score is 0.84\n",
      "accuracy_score is 0.71\n",
      "accuracy_score is 0.8365\n",
      "accuracy_score is 0.8335\n",
      "accuracy_score is 0.8525\n",
      "accuracy_score is 0.8035\n",
      "accuracy_score is 0.8045\n",
      "accuracy_score is 0.808\n",
      "accuracy_score is 0.813\n",
      "accuracy_score is 0.781\n",
      "accuracy_score is 0.8605\n",
      "accuracy_score is 0.8435\n",
      "accuracy_score is 0.7875\n",
      "accuracy_score is 0.8165\n",
      "accuracy_score is 0.82\n",
      "accuracy_score is 0.799\n",
      "accuracy_score is 0.819\n",
      "accuracy_score is 0.832\n",
      "accuracy_score is 0.802\n",
      "accuracy_score is 0.8205\n",
      "accuracy_score is 0.8415\n",
      "accuracy_score is 0.827\n",
      "accuracy_score is 0.851\n",
      "accuracy_score is 0.829\n",
      "accuracy_score is 0.8515\n",
      "accuracy_score is 0.8395\n",
      "accuracy_score is 0.8115\n",
      "accuracy_score is 0.842\n",
      "accuracy_score is 0.8035\n",
      "accuracy_score is 0.8465\n",
      "accuracy_score is 0.859\n",
      "accuracy_score is 0.832\n",
      "accuracy_score is 0.8445\n",
      "accuracy_score is 0.861\n",
      "accuracy_score is 0.8485\n",
      "accuracy_score is 0.843\n",
      "accuracy_score is 0.8415\n",
      "accuracy_score is 0.8465\n",
      "accuracy_score is 0.857\n",
      "accuracy_score is 0.825\n",
      "accuracy_score is 0.8105\n",
      "accuracy_score is 0.8565\n",
      "accuracy_score is 0.8415\n",
      "accuracy_score is 0.8595\n",
      "accuracy_score is 0.849\n",
      "accuracy_score is 0.8525\n",
      "accuracy_score is 0.853\n",
      "accuracy_score is 0.8405\n",
      "accuracy_score is 0.809\n",
      "accuracy_score is 0.78\n",
      "accuracy_score is 0.851\n",
      "accuracy_score is 0.8305\n",
      "accuracy_score is 0.8455\n",
      "accuracy_score is 0.85\n",
      "accuracy_score is 0.823\n",
      "accuracy_score is 0.845\n",
      "accuracy_score is 0.817\n",
      "accuracy_score is 0.8475\n",
      "accuracy_score is 0.8575\n",
      "accuracy_score is 0.8045\n",
      "accuracy_score is 0.792\n",
      "accuracy_score is 0.8445\n",
      "accuracy_score is 0.814\n",
      "accuracy_score is 0.8245\n",
      "accuracy_score is 0.8205\n",
      "accuracy_score is 0.826\n",
      "accuracy_score is 0.845\n",
      "accuracy_score is 0.8475\n",
      "accuracy_score is 0.7785\n",
      "accuracy_score is 0.8165\n",
      "accuracy_score is 0.841\n",
      "accuracy_score is 0.811\n",
      "accuracy_score is 0.8175\n",
      "accuracy_score is 0.8495\n",
      "accuracy_score is 0.83\n",
      "accuracy_score is 0.782\n",
      "accuracy_score is 0.843\n",
      "accuracy_score is 0.8375\n",
      "accuracy_score is 0.853\n",
      "accuracy_score is 0.7945\n",
      "accuracy_score is 0.805\n",
      "accuracy_score is 0.839\n",
      "accuracy_score is 0.8485\n",
      "accuracy_score is 0.8135\n",
      "accuracy_score is 0.8415\n",
      "accuracy_score is 0.713\n",
      "accuracy_score is 0.841\n",
      "accuracy_score is 0.824\n",
      "accuracy_score is 0.7745\n",
      "accuracy_score is 0.824\n",
      "accuracy_score is 0.818\n",
      "accuracy_score is 0.82\n",
      "accuracy_score is 0.845\n",
      "accuracy_score is 0.839\n",
      "accuracy_score is 0.801\n",
      "accuracy_score is 0.843\n",
      "accuracy_score is 0.8395\n",
      "accuracy_score is 0.8555\n",
      "accuracy_score is 0.843\n",
      "accuracy_score is 0.85\n",
      "accuracy_score is 0.824\n",
      "accuracy_score is 0.848\n",
      "accuracy_score is 0.8365\n",
      "accuracy_score is 0.84\n",
      "accuracy_score is 0.848\n",
      "accuracy_score is 0.8405\n",
      "accuracy_score is 0.799\n",
      "accuracy_score is 0.7885\n",
      "accuracy_score is 0.8455\n",
      "accuracy_score is 0.8555\n",
      "accuracy_score is 0.823\n",
      "accuracy_score is 0.8445\n",
      "accuracy_score is 0.856\n",
      "accuracy_score is 0.848\n",
      "accuracy_score is 0.817\n",
      "accuracy_score is 0.686\n",
      "accuracy_score is 0.69\n",
      "accuracy_score is 0.8465\n",
      "accuracy_score is 0.8055\n",
      "accuracy_score is 0.851\n",
      "accuracy_score is 0.855\n",
      "accuracy_score is 0.8555\n",
      "accuracy_score is 0.8425\n",
      "accuracy_score is 0.816\n",
      "accuracy_score is 0.796\n",
      "accuracy_score is 0.6965\n",
      "accuracy_score is 0.82\n",
      "accuracy_score is 0.849\n",
      "accuracy_score is 0.8095\n",
      "accuracy_score is 0.817\n",
      "accuracy_score is 0.8525\n",
      "accuracy_score is 0.824\n",
      "accuracy_score is 0.8515\n",
      "accuracy_score is 0.8425\n",
      "accuracy_score is 0.7585\n",
      "accuracy_score is 0.836\n",
      "accuracy_score is 0.836\n",
      "accuracy_score is 0.8495\n",
      "accuracy_score is 0.845\n",
      "accuracy_score is 0.841\n",
      "accuracy_score is 0.8465\n",
      "accuracy_score is 0.6805\n",
      "accuracy_score is 0.856\n",
      "accuracy_score is 0.8205\n",
      "accuracy_score is 0.852\n",
      "accuracy_score is 0.854\n",
      "accuracy_score is 0.786\n",
      "accuracy_score is 0.811\n",
      "accuracy_score is 0.842\n",
      "accuracy_score is 0.676\n",
      "accuracy_score is 0.8495\n",
      "accuracy_score is 0.749\n",
      "accuracy_score is 0.8035\n",
      "accuracy_score is 0.846\n",
      "accuracy_score is 0.85\n",
      "accuracy_score is 0.8295\n",
      "accuracy_score is 0.85\n",
      "accuracy_score is 0.844\n",
      "accuracy_score is 0.8495\n",
      "accuracy_score is 0.842\n",
      "accuracy_score is 0.8465\n",
      "accuracy_score is 0.7855\n",
      "accuracy_score is 0.838\n",
      "accuracy_score is 0.8485\n",
      "accuracy_score is 0.839\n",
      "accuracy_score is 0.8445\n",
      "accuracy_score is 0.7705\n",
      "accuracy_score is 0.846\n",
      "accuracy_score is 0.8255\n",
      "accuracy_score is 0.8435\n",
      "accuracy_score is 0.8225\n",
      "accuracy_score is 0.847\n",
      "accuracy_score is 0.8485\n",
      "accuracy_score is 0.8475\n",
      "accuracy_score is 0.8295\n",
      "accuracy_score is 0.7995\n",
      "accuracy_score is 0.8445\n",
      "accuracy_score is 0.833\n",
      "accuracy_score is 0.743\n",
      "accuracy_score is 0.797\n",
      "accuracy_score is 0.8145\n",
      "accuracy_score is 0.8525\n",
      "accuracy_score is 0.85\n",
      "accuracy_score is 0.851\n",
      "accuracy_score is 0.8455\n",
      "accuracy_score is 0.774\n",
      "accuracy_score is 0.848\n",
      "accuracy_score is 0.8585\n",
      "accuracy_score is 0.844\n",
      "accuracy_score is 0.8475\n",
      "accuracy_score is 0.7965\n",
      "accuracy_score is 0.855\n",
      "accuracy_score is 0.8225\n",
      "accuracy_score is 0.775\n",
      "accuracy_score is 0.8515\n",
      "accuracy_score is 0.819\n",
      "accuracy_score is 0.806\n",
      "accuracy_score is 0.8055\n",
      "accuracy_score is 0.842\n",
      "accuracy_score is 0.7725\n",
      "accuracy_score is 0.803\n",
      "accuracy_score is 0.842\n",
      "accuracy_score is 0.693\n",
      "accuracy_score is 0.826\n",
      "accuracy_score is 0.8405\n",
      "accuracy_score is 0.84\n",
      "accuracy_score is 0.811\n",
      "accuracy_score is 0.8155\n",
      "accuracy_score is 0.842\n",
      "accuracy_score is 0.8295\n",
      "accuracy_score is 0.852\n",
      "accuracy_score is 0.8485\n",
      "accuracy_score is 0.8205\n",
      "accuracy_score is 0.8355\n",
      "accuracy_score is 0.8515\n",
      "accuracy_score is 0.858\n",
      "accuracy_score is 0.795\n",
      "accuracy_score is 0.85\n",
      "accuracy_score is 0.8455\n",
      "accuracy_score is 0.8545\n",
      "accuracy_score is 0.8415\n",
      "accuracy_score is 0.8455\n",
      "accuracy_score is 0.843\n",
      "accuracy_score is 0.8435\n",
      "accuracy_score is 0.817\n",
      "accuracy_score is 0.8365\n",
      "accuracy_score is 0.833\n",
      "accuracy_score is 0.825\n",
      "accuracy_score is 0.8405\n",
      "accuracy_score is 0.7705\n",
      "accuracy_score is 0.849\n",
      "accuracy_score is 0.79\n",
      "accuracy_score is 0.8445\n",
      "accuracy_score is 0.8585\n",
      "accuracy_score is 0.829\n",
      "accuracy_score is 0.779\n",
      "accuracy_score is 0.8525\n",
      "accuracy_score is 0.7815\n",
      "accuracy_score is 0.817\n",
      "accuracy_score is 0.833\n",
      "accuracy_score is 0.8425\n",
      "accuracy_score is 0.8495\n",
      "accuracy_score is 0.8165\n",
      "accuracy_score is 0.766\n",
      "accuracy_score is 0.8415\n",
      "accuracy_score is 0.847\n",
      "accuracy_score is 0.8435\n",
      "accuracy_score is 0.6665\n",
      "accuracy_score is 0.847\n",
      "accuracy_score is 0.8555\n",
      "accuracy_score is 0.849\n",
      "accuracy_score is 0.8335\n",
      "accuracy_score is 0.662\n",
      "accuracy_score is 0.8465\n",
      "accuracy_score is 0.851\n",
      "accuracy_score is 0.8405\n",
      "accuracy_score is 0.836\n",
      "accuracy_score is 0.8465\n",
      "accuracy_score is 0.8005\n",
      "accuracy_score is 0.843\n",
      "accuracy_score is 0.766\n",
      "accuracy_score is 0.845\n",
      "accuracy_score is 0.817\n",
      "accuracy_score is 0.8215\n",
      "accuracy_score is 0.807\n",
      "accuracy_score is 0.8495\n",
      "accuracy_score is 0.8325\n",
      "accuracy_score is 0.848\n",
      "accuracy_score is 0.7825\n",
      "accuracy_score is 0.845\n",
      "accuracy_score is 0.8475\n",
      "accuracy_score is 0.81\n",
      "accuracy_score is 0.8475\n",
      "accuracy_score is 0.84\n",
      "accuracy_score is 0.838\n",
      "accuracy_score is 0.8375\n",
      "accuracy_score is 0.79\n",
      "accuracy_score is 0.8515\n",
      "accuracy_score is 0.8345\n",
      "accuracy_score is 0.82\n",
      "accuracy_score is 0.841\n",
      "accuracy_score is 0.82\n",
      "accuracy_score is 0.8465\n",
      "accuracy_score is 0.8505\n",
      "accuracy_score is 0.834\n",
      "accuracy_score is 0.831\n",
      "accuracy_score is 0.813\n",
      "accuracy_score is 0.8515\n",
      "accuracy_score is 0.8545\n",
      "accuracy_score is 0.8195\n",
      "accuracy_score is 0.8125\n",
      "accuracy_score is 0.8235\n",
      "accuracy_score is 0.844\n",
      "accuracy_score is 0.8525\n",
      "accuracy_score is 0.805\n",
      "accuracy_score is 0.816\n",
      "accuracy_score is 0.8285\n",
      "accuracy_score is 0.845\n",
      "accuracy_score is 0.7895\n",
      "accuracy_score is 0.849\n",
      "accuracy_score is 0.793\n",
      "accuracy_score is 0.8335\n",
      "accuracy_score is 0.8485\n",
      "accuracy_score is 0.8355\n",
      "accuracy_score is 0.849\n",
      "accuracy_score is 0.7715\n",
      "accuracy_score is 0.8585\n",
      "accuracy_score is 0.8515\n",
      "accuracy_score is 0.8425\n",
      "accuracy_score is 0.846\n",
      "accuracy_score is 0.857\n",
      "accuracy_score is 0.852\n",
      "accuracy_score is 0.8455\n",
      "accuracy_score is 0.847\n",
      "accuracy_score is 0.759\n",
      "accuracy_score is 0.841\n",
      "accuracy_score is 0.8035\n",
      "accuracy_score is 0.849\n",
      "accuracy_score is 0.815\n",
      "accuracy_score is 0.814\n",
      "accuracy_score is 0.8475\n",
      "accuracy_score is 0.8415\n",
      "accuracy_score is 0.847\n",
      "accuracy_score is 0.7925\n",
      "accuracy_score is 0.808\n",
      "accuracy_score is 0.8165\n",
      "accuracy_score is 0.817\n",
      "accuracy_score is 0.85\n",
      "accuracy_score is 0.841\n",
      "accuracy_score is 0.823\n",
      "accuracy_score is 0.789\n",
      "accuracy_score is 0.812\n",
      "accuracy_score is 0.8575\n",
      "accuracy_score is 0.824\n",
      "accuracy_score is 0.8465\n",
      "accuracy_score is 0.7825\n",
      "accuracy_score is 0.842\n",
      "accuracy_score is 0.845\n",
      "accuracy_score is 0.7685\n",
      "accuracy_score is 0.8105\n",
      "accuracy_score is 0.847\n",
      "accuracy_score is 0.8185\n",
      "accuracy_score is 0.838\n",
      "accuracy_score is 0.8465\n",
      "accuracy_score is 0.803\n",
      "accuracy_score is 0.832\n",
      "accuracy_score is 0.833\n",
      "accuracy_score is 0.697\n",
      "accuracy_score is 0.853\n",
      "accuracy_score is 0.845\n",
      "accuracy_score is 0.855\n",
      "accuracy_score is 0.826\n",
      "accuracy_score is 0.8495\n",
      "accuracy_score is 0.802\n",
      "accuracy_score is 0.8165\n",
      "accuracy_score is 0.8065\n",
      "accuracy_score is 0.8485\n",
      "accuracy_score is 0.8485\n",
      "accuracy_score is 0.8025\n",
      "accuracy_score is 0.801\n",
      "accuracy_score is 0.851\n",
      "accuracy_score is 0.847\n",
      "accuracy_score is 0.775\n",
      "accuracy_score is 0.8475\n",
      "accuracy_score is 0.834\n",
      "accuracy_score is 0.845\n",
      "accuracy_score is 0.811\n"
     ]
    }
   ],
   "source": [
    "for i in range(len(model_pool)):\n",
    "    prediction = model_pool[i].predict(X_test)\n",
    "    acc = accuracy_score(y_test, prediction)\n",
    "    print(f'accuracy_score is {acc}')"
   ],
   "metadata": {
    "collapsed": false,
    "pycharm": {
     "name": "#%%\n"
    }
   }
  },
  {
   "cell_type": "markdown",
   "source": [],
   "metadata": {
    "collapsed": false,
    "pycharm": {
     "name": "#%% md\n"
    }
   }
  },
  {
   "cell_type": "markdown",
   "source": [
    "# g"
   ],
   "metadata": {
    "collapsed": false,
    "pycharm": {
     "name": "#%% md\n"
    }
   }
  },
  {
   "cell_type": "code",
   "execution_count": 466,
   "outputs": [],
   "source": [
    "from sklearn.ensemble import VotingClassifier\n",
    "from scipy.stats import mode"
   ],
   "metadata": {
    "collapsed": false,
    "pycharm": {
     "name": "#%%\n"
    }
   }
  },
  {
   "cell_type": "code",
   "execution_count": 467,
   "outputs": [],
   "source": [
    "def smothing_result(x):\n",
    "    if x >= 0.5:\n",
    "        return 1\n",
    "    else:\n",
    "        return 0"
   ],
   "metadata": {
    "collapsed": false,
    "pycharm": {
     "name": "#%%\n"
    }
   }
  },
  {
   "cell_type": "code",
   "execution_count": 468,
   "outputs": [],
   "source": [
    "def predict_multi_tree(models_list, X_input):\n",
    "    results = []\n",
    "    for i in range(len(models_list)):\n",
    "        prediction = models_list[i].predict(X_input)\n",
    "        results.append(prediction)\n",
    "\n",
    "    return results"
   ],
   "metadata": {
    "collapsed": false,
    "pycharm": {
     "name": "#%%\n"
    }
   }
  },
  {
   "cell_type": "code",
   "execution_count": 469,
   "outputs": [
    {
     "data": {
      "text/plain": "0.858"
     },
     "execution_count": 469,
     "metadata": {},
     "output_type": "execute_result"
    }
   ],
   "source": [
    "tree_prediction = predict_multi_tree(model_pool, X_test)\n",
    "tree_prediction = mode(tree_prediction)[0][0]\n",
    "\n",
    "accuracy_score(y_test, tree_prediction)"
   ],
   "metadata": {
    "collapsed": false,
    "pycharm": {
     "name": "#%%\n"
    }
   }
  },
  {
   "cell_type": "markdown",
   "source": [
    "# h => part d result is 0.851 a little improvement"
   ],
   "metadata": {
    "collapsed": false,
    "pycharm": {
     "name": "#%% md\n"
    }
   }
  },
  {
   "cell_type": "code",
   "execution_count": 469,
   "outputs": [],
   "source": [],
   "metadata": {
    "collapsed": false,
    "pycharm": {
     "name": "#%%\n"
    }
   }
  }
 ],
 "metadata": {
  "kernelspec": {
   "display_name": "Python 3",
   "language": "python",
   "name": "python3"
  },
  "language_info": {
   "codemirror_mode": {
    "name": "ipython",
    "version": 2
   },
   "file_extension": ".py",
   "mimetype": "text/x-python",
   "name": "python",
   "nbconvert_exporter": "python",
   "pygments_lexer": "ipython2",
   "version": "2.7.6"
  }
 },
 "nbformat": 4,
 "nbformat_minor": 0
}