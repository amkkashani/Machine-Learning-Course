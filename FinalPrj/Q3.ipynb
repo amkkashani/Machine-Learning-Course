{
 "cells": [
  {
   "cell_type": "code",
   "execution_count": 177,
   "metadata": {
    "collapsed": true,
    "pycharm": {
     "name": "#%%\n"
    }
   },
   "outputs": [],
   "source": [
    "import numpy as np\n",
    "import pandas as pd\n",
    "from sklearn.cluster import KMeans\n",
    "from sklearn.metrics import accuracy_score, confusion_matrix, plot_confusion_matrix, ConfusionMatrixDisplay,recall_score, precision_score\n",
    "from sklearn.model_selection import train_test_split\n",
    "import matplotlib.pyplot as plt\n",
    "from sklearn.naive_bayes import GaussianNB\n",
    "from sklearn.neighbors import KNeighborsClassifier\n",
    "from sklearn.metrics import classification_report\n",
    "import pandas as pd\n",
    "from sklearn.svm import SVC\n",
    "from sklearn.tree import DecisionTreeClassifier\n",
    "from sklearn.model_selection import train_test_split\n",
    "from sklearn.metrics import confusion_matrix, precision_recall_fscore_support\n",
    "from sklearn.model_selection import cross_val_score\n",
    "import pandas as pd\n",
    "from sklearn.ensemble import RandomForestClassifier, AdaBoostClassifier\n",
    "from sklearn.model_selection import train_test_split, GridSearchCV\n",
    "from sklearn.metrics import confusion_matrix, precision_recall_fscore_support\n",
    "from sklearn.linear_model import LogisticRegression\n",
    "import time\n",
    "from scipy.spatial.distance import cdist"
   ]
  },
  {
   "cell_type": "markdown",
   "source": [
    "# part A"
   ],
   "metadata": {
    "collapsed": false,
    "pycharm": {
     "name": "#%% md\n"
    }
   }
  },
  {
   "cell_type": "code",
   "execution_count": 178,
   "outputs": [
    {
     "data": {
      "text/plain": "    0      1       2  3  4   5   6     7  8  9   10 11 12     13   14 15\n0    b  30.83   0.000  u  g   w   v  1.25  t  t   1  f  g  202.0    0  +\n1    a  58.67   4.460  u  g   q   h  3.04  t  t   6  f  g   43.0  560  +\n2    a  24.50   0.500  u  g   q   h  1.50  t  f   0  f  g  280.0  824  +\n3    b  27.83   1.540  u  g   w   v  3.75  t  t   5  t  g  100.0    3  +\n4    b  20.17   5.625  u  g   w   v  1.71  t  f   0  f  s  120.0    0  +\n..  ..    ...     ... .. ..  ..  ..   ... .. ..  .. .. ..    ...  ... ..\n685  b  21.08  10.085  y  p   e   h  1.25  f  f   0  f  g  260.0    0  -\n686  a  22.67   0.750  u  g   c   v  2.00  f  t   2  t  g  200.0  394  -\n687  a  25.25  13.500  y  p  ff  ff  2.00  f  t   1  t  g  200.0    1  -\n688  b  17.92   0.205  u  g  aa   v  0.04  f  f   0  f  g  280.0  750  -\n689  b  35.00   3.375  u  g   c   h  8.29  f  f   0  t  g    0.0    0  -\n\n[690 rows x 16 columns]",
      "text/html": "<div>\n<style scoped>\n    .dataframe tbody tr th:only-of-type {\n        vertical-align: middle;\n    }\n\n    .dataframe tbody tr th {\n        vertical-align: top;\n    }\n\n    .dataframe thead th {\n        text-align: right;\n    }\n</style>\n<table border=\"1\" class=\"dataframe\">\n  <thead>\n    <tr style=\"text-align: right;\">\n      <th></th>\n      <th>0</th>\n      <th>1</th>\n      <th>2</th>\n      <th>3</th>\n      <th>4</th>\n      <th>5</th>\n      <th>6</th>\n      <th>7</th>\n      <th>8</th>\n      <th>9</th>\n      <th>10</th>\n      <th>11</th>\n      <th>12</th>\n      <th>13</th>\n      <th>14</th>\n      <th>15</th>\n    </tr>\n  </thead>\n  <tbody>\n    <tr>\n      <th>0</th>\n      <td>b</td>\n      <td>30.83</td>\n      <td>0.000</td>\n      <td>u</td>\n      <td>g</td>\n      <td>w</td>\n      <td>v</td>\n      <td>1.25</td>\n      <td>t</td>\n      <td>t</td>\n      <td>1</td>\n      <td>f</td>\n      <td>g</td>\n      <td>202.0</td>\n      <td>0</td>\n      <td>+</td>\n    </tr>\n    <tr>\n      <th>1</th>\n      <td>a</td>\n      <td>58.67</td>\n      <td>4.460</td>\n      <td>u</td>\n      <td>g</td>\n      <td>q</td>\n      <td>h</td>\n      <td>3.04</td>\n      <td>t</td>\n      <td>t</td>\n      <td>6</td>\n      <td>f</td>\n      <td>g</td>\n      <td>43.0</td>\n      <td>560</td>\n      <td>+</td>\n    </tr>\n    <tr>\n      <th>2</th>\n      <td>a</td>\n      <td>24.50</td>\n      <td>0.500</td>\n      <td>u</td>\n      <td>g</td>\n      <td>q</td>\n      <td>h</td>\n      <td>1.50</td>\n      <td>t</td>\n      <td>f</td>\n      <td>0</td>\n      <td>f</td>\n      <td>g</td>\n      <td>280.0</td>\n      <td>824</td>\n      <td>+</td>\n    </tr>\n    <tr>\n      <th>3</th>\n      <td>b</td>\n      <td>27.83</td>\n      <td>1.540</td>\n      <td>u</td>\n      <td>g</td>\n      <td>w</td>\n      <td>v</td>\n      <td>3.75</td>\n      <td>t</td>\n      <td>t</td>\n      <td>5</td>\n      <td>t</td>\n      <td>g</td>\n      <td>100.0</td>\n      <td>3</td>\n      <td>+</td>\n    </tr>\n    <tr>\n      <th>4</th>\n      <td>b</td>\n      <td>20.17</td>\n      <td>5.625</td>\n      <td>u</td>\n      <td>g</td>\n      <td>w</td>\n      <td>v</td>\n      <td>1.71</td>\n      <td>t</td>\n      <td>f</td>\n      <td>0</td>\n      <td>f</td>\n      <td>s</td>\n      <td>120.0</td>\n      <td>0</td>\n      <td>+</td>\n    </tr>\n    <tr>\n      <th>...</th>\n      <td>...</td>\n      <td>...</td>\n      <td>...</td>\n      <td>...</td>\n      <td>...</td>\n      <td>...</td>\n      <td>...</td>\n      <td>...</td>\n      <td>...</td>\n      <td>...</td>\n      <td>...</td>\n      <td>...</td>\n      <td>...</td>\n      <td>...</td>\n      <td>...</td>\n      <td>...</td>\n    </tr>\n    <tr>\n      <th>685</th>\n      <td>b</td>\n      <td>21.08</td>\n      <td>10.085</td>\n      <td>y</td>\n      <td>p</td>\n      <td>e</td>\n      <td>h</td>\n      <td>1.25</td>\n      <td>f</td>\n      <td>f</td>\n      <td>0</td>\n      <td>f</td>\n      <td>g</td>\n      <td>260.0</td>\n      <td>0</td>\n      <td>-</td>\n    </tr>\n    <tr>\n      <th>686</th>\n      <td>a</td>\n      <td>22.67</td>\n      <td>0.750</td>\n      <td>u</td>\n      <td>g</td>\n      <td>c</td>\n      <td>v</td>\n      <td>2.00</td>\n      <td>f</td>\n      <td>t</td>\n      <td>2</td>\n      <td>t</td>\n      <td>g</td>\n      <td>200.0</td>\n      <td>394</td>\n      <td>-</td>\n    </tr>\n    <tr>\n      <th>687</th>\n      <td>a</td>\n      <td>25.25</td>\n      <td>13.500</td>\n      <td>y</td>\n      <td>p</td>\n      <td>ff</td>\n      <td>ff</td>\n      <td>2.00</td>\n      <td>f</td>\n      <td>t</td>\n      <td>1</td>\n      <td>t</td>\n      <td>g</td>\n      <td>200.0</td>\n      <td>1</td>\n      <td>-</td>\n    </tr>\n    <tr>\n      <th>688</th>\n      <td>b</td>\n      <td>17.92</td>\n      <td>0.205</td>\n      <td>u</td>\n      <td>g</td>\n      <td>aa</td>\n      <td>v</td>\n      <td>0.04</td>\n      <td>f</td>\n      <td>f</td>\n      <td>0</td>\n      <td>f</td>\n      <td>g</td>\n      <td>280.0</td>\n      <td>750</td>\n      <td>-</td>\n    </tr>\n    <tr>\n      <th>689</th>\n      <td>b</td>\n      <td>35.00</td>\n      <td>3.375</td>\n      <td>u</td>\n      <td>g</td>\n      <td>c</td>\n      <td>h</td>\n      <td>8.29</td>\n      <td>f</td>\n      <td>f</td>\n      <td>0</td>\n      <td>t</td>\n      <td>g</td>\n      <td>0.0</td>\n      <td>0</td>\n      <td>-</td>\n    </tr>\n  </tbody>\n</table>\n<p>690 rows × 16 columns</p>\n</div>"
     },
     "execution_count": 178,
     "metadata": {},
     "output_type": "execute_result"
    }
   ],
   "source": [
    "data = pd.read_csv('input/P3/crx.data', header=None, na_values=\"?\")\n",
    "data"
   ],
   "metadata": {
    "collapsed": false,
    "pycharm": {
     "name": "#%%\n"
    }
   }
  },
  {
   "cell_type": "code",
   "execution_count": 179,
   "outputs": [
    {
     "data": {
      "text/plain": "0     12\n1     12\n2      0\n3      6\n4      6\n5      9\n6      9\n7      0\n8      0\n9      0\n10     0\n11     0\n12     0\n13    13\n14     0\n15     0\ndtype: int64"
     },
     "execution_count": 179,
     "metadata": {},
     "output_type": "execute_result"
    }
   ],
   "source": [
    "data.isna().sum()"
   ],
   "metadata": {
    "collapsed": false,
    "pycharm": {
     "name": "#%%\n"
    }
   }
  },
  {
   "cell_type": "code",
   "execution_count": 180,
   "outputs": [
    {
     "data": {
      "text/plain": "(690, 16)"
     },
     "execution_count": 180,
     "metadata": {},
     "output_type": "execute_result"
    }
   ],
   "source": [
    "data.shape"
   ],
   "metadata": {
    "collapsed": false,
    "pycharm": {
     "name": "#%%\n"
    }
   }
  },
  {
   "cell_type": "markdown",
   "source": [
    "now replace categorical value with int"
   ],
   "metadata": {
    "collapsed": false,
    "pycharm": {
     "name": "#%% md\n"
    }
   }
  },
  {
   "cell_type": "code",
   "execution_count": 181,
   "outputs": [
    {
     "data": {
      "text/plain": "      0      1       2    3    4     5    6     7   8   9   10  11  12     13  \\\n0    1.0  30.83   0.000  0.0  0.0   9.0  0.0  1.25   0   0   1   1   0  202.0   \n1    0.0  58.67   4.460  0.0  0.0   8.0  1.0  3.04   0   0   6   1   0   43.0   \n2    0.0  24.50   0.500  0.0  0.0   8.0  1.0  1.50   0   1   0   1   0  280.0   \n3    1.0  27.83   1.540  0.0  0.0   9.0  0.0  3.75   0   0   5   0   0  100.0   \n4    1.0  20.17   5.625  0.0  0.0   9.0  0.0  1.71   0   1   0   1   2  120.0   \n..   ...    ...     ...  ...  ...   ...  ...   ...  ..  ..  ..  ..  ..    ...   \n685  1.0  21.08  10.085  1.0  1.0  11.0  1.0  1.25   1   1   0   1   0  260.0   \n686  0.0  22.67   0.750  0.0  0.0   0.0  0.0  2.00   1   0   2   0   0  200.0   \n687  0.0  25.25  13.500  1.0  1.0  13.0  7.0  2.00   1   0   1   0   0  200.0   \n688  1.0  17.92   0.205  0.0  0.0  12.0  0.0  0.04   1   1   0   1   0  280.0   \n689  1.0  35.00   3.375  0.0  0.0   0.0  1.0  8.29   1   1   0   0   0    0.0   \n\n      14  15  \n0      0   1  \n1    560   1  \n2    824   1  \n3      3   1  \n4      0   1  \n..   ...  ..  \n685    0   0  \n686  394   0  \n687    1   0  \n688  750   0  \n689    0   0  \n\n[690 rows x 16 columns]",
      "text/html": "<div>\n<style scoped>\n    .dataframe tbody tr th:only-of-type {\n        vertical-align: middle;\n    }\n\n    .dataframe tbody tr th {\n        vertical-align: top;\n    }\n\n    .dataframe thead th {\n        text-align: right;\n    }\n</style>\n<table border=\"1\" class=\"dataframe\">\n  <thead>\n    <tr style=\"text-align: right;\">\n      <th></th>\n      <th>0</th>\n      <th>1</th>\n      <th>2</th>\n      <th>3</th>\n      <th>4</th>\n      <th>5</th>\n      <th>6</th>\n      <th>7</th>\n      <th>8</th>\n      <th>9</th>\n      <th>10</th>\n      <th>11</th>\n      <th>12</th>\n      <th>13</th>\n      <th>14</th>\n      <th>15</th>\n    </tr>\n  </thead>\n  <tbody>\n    <tr>\n      <th>0</th>\n      <td>1.0</td>\n      <td>30.83</td>\n      <td>0.000</td>\n      <td>0.0</td>\n      <td>0.0</td>\n      <td>9.0</td>\n      <td>0.0</td>\n      <td>1.25</td>\n      <td>0</td>\n      <td>0</td>\n      <td>1</td>\n      <td>1</td>\n      <td>0</td>\n      <td>202.0</td>\n      <td>0</td>\n      <td>1</td>\n    </tr>\n    <tr>\n      <th>1</th>\n      <td>0.0</td>\n      <td>58.67</td>\n      <td>4.460</td>\n      <td>0.0</td>\n      <td>0.0</td>\n      <td>8.0</td>\n      <td>1.0</td>\n      <td>3.04</td>\n      <td>0</td>\n      <td>0</td>\n      <td>6</td>\n      <td>1</td>\n      <td>0</td>\n      <td>43.0</td>\n      <td>560</td>\n      <td>1</td>\n    </tr>\n    <tr>\n      <th>2</th>\n      <td>0.0</td>\n      <td>24.50</td>\n      <td>0.500</td>\n      <td>0.0</td>\n      <td>0.0</td>\n      <td>8.0</td>\n      <td>1.0</td>\n      <td>1.50</td>\n      <td>0</td>\n      <td>1</td>\n      <td>0</td>\n      <td>1</td>\n      <td>0</td>\n      <td>280.0</td>\n      <td>824</td>\n      <td>1</td>\n    </tr>\n    <tr>\n      <th>3</th>\n      <td>1.0</td>\n      <td>27.83</td>\n      <td>1.540</td>\n      <td>0.0</td>\n      <td>0.0</td>\n      <td>9.0</td>\n      <td>0.0</td>\n      <td>3.75</td>\n      <td>0</td>\n      <td>0</td>\n      <td>5</td>\n      <td>0</td>\n      <td>0</td>\n      <td>100.0</td>\n      <td>3</td>\n      <td>1</td>\n    </tr>\n    <tr>\n      <th>4</th>\n      <td>1.0</td>\n      <td>20.17</td>\n      <td>5.625</td>\n      <td>0.0</td>\n      <td>0.0</td>\n      <td>9.0</td>\n      <td>0.0</td>\n      <td>1.71</td>\n      <td>0</td>\n      <td>1</td>\n      <td>0</td>\n      <td>1</td>\n      <td>2</td>\n      <td>120.0</td>\n      <td>0</td>\n      <td>1</td>\n    </tr>\n    <tr>\n      <th>...</th>\n      <td>...</td>\n      <td>...</td>\n      <td>...</td>\n      <td>...</td>\n      <td>...</td>\n      <td>...</td>\n      <td>...</td>\n      <td>...</td>\n      <td>...</td>\n      <td>...</td>\n      <td>...</td>\n      <td>...</td>\n      <td>...</td>\n      <td>...</td>\n      <td>...</td>\n      <td>...</td>\n    </tr>\n    <tr>\n      <th>685</th>\n      <td>1.0</td>\n      <td>21.08</td>\n      <td>10.085</td>\n      <td>1.0</td>\n      <td>1.0</td>\n      <td>11.0</td>\n      <td>1.0</td>\n      <td>1.25</td>\n      <td>1</td>\n      <td>1</td>\n      <td>0</td>\n      <td>1</td>\n      <td>0</td>\n      <td>260.0</td>\n      <td>0</td>\n      <td>0</td>\n    </tr>\n    <tr>\n      <th>686</th>\n      <td>0.0</td>\n      <td>22.67</td>\n      <td>0.750</td>\n      <td>0.0</td>\n      <td>0.0</td>\n      <td>0.0</td>\n      <td>0.0</td>\n      <td>2.00</td>\n      <td>1</td>\n      <td>0</td>\n      <td>2</td>\n      <td>0</td>\n      <td>0</td>\n      <td>200.0</td>\n      <td>394</td>\n      <td>0</td>\n    </tr>\n    <tr>\n      <th>687</th>\n      <td>0.0</td>\n      <td>25.25</td>\n      <td>13.500</td>\n      <td>1.0</td>\n      <td>1.0</td>\n      <td>13.0</td>\n      <td>7.0</td>\n      <td>2.00</td>\n      <td>1</td>\n      <td>0</td>\n      <td>1</td>\n      <td>0</td>\n      <td>0</td>\n      <td>200.0</td>\n      <td>1</td>\n      <td>0</td>\n    </tr>\n    <tr>\n      <th>688</th>\n      <td>1.0</td>\n      <td>17.92</td>\n      <td>0.205</td>\n      <td>0.0</td>\n      <td>0.0</td>\n      <td>12.0</td>\n      <td>0.0</td>\n      <td>0.04</td>\n      <td>1</td>\n      <td>1</td>\n      <td>0</td>\n      <td>1</td>\n      <td>0</td>\n      <td>280.0</td>\n      <td>750</td>\n      <td>0</td>\n    </tr>\n    <tr>\n      <th>689</th>\n      <td>1.0</td>\n      <td>35.00</td>\n      <td>3.375</td>\n      <td>0.0</td>\n      <td>0.0</td>\n      <td>0.0</td>\n      <td>1.0</td>\n      <td>8.29</td>\n      <td>1</td>\n      <td>1</td>\n      <td>0</td>\n      <td>0</td>\n      <td>0</td>\n      <td>0.0</td>\n      <td>0</td>\n      <td>0</td>\n    </tr>\n  </tbody>\n</table>\n<p>690 rows × 16 columns</p>\n</div>"
     },
     "execution_count": 181,
     "metadata": {},
     "output_type": "execute_result"
    }
   ],
   "source": [
    "data[0].replace(['a', 'b'], [0, 1], inplace=True)\n",
    "data[3].replace([\"u\", \"y\", \"l\", \"t\"], [0, 1, 2, 3], inplace=True)\n",
    "data[4].replace([\"g\", \"p\", \"gg\"], [0, 1, 2], inplace=True)\n",
    "data[5].replace([\"c\", \"d\", \"cc\", \"i\", \"j\", \"k\", \"m\", \"r\", \"q\", \"w\", \"x\", \"e\", \"aa\", \"ff\"],\n",
    "                [0, 1, 2, 3, 4, 5, 6, 7, 8, 9, 10, 11, 12, 13], inplace=True)\n",
    "data[6].replace([\"v\", \"h\", \"bb\", \"j\", \"n\", \"z\", \"dd\", \"ff\", \"o\"], [0, 1, 2, 3, 4, 5, 6, 7, 8],\n",
    "                inplace=True)\n",
    "data[8].replace(['t', 'f'], [0, 1], inplace=True)\n",
    "data[9].replace(['t', 'f'], [0, 1], inplace=True)\n",
    "data[11].replace(['t', 'f'], [0, 1], inplace=True)\n",
    "data[12].replace(['g', 'p', 's'], [0, 1, 2], inplace=True)\n",
    "data[15].replace(['-', '+'], [0, 1], inplace=True)\n",
    "\n",
    "data[13].fillna(0, inplace=True)\n",
    "\n",
    "# data[2].replace(\"?\" , 0, inplace=True)\n",
    "data[2].fillna(data[2].mean(), inplace=True)\n",
    "\n",
    "# data[3].fillna(0, inplace=True)\n",
    "data[3].fillna(data[3].mean(), inplace=True)\n",
    "\n",
    "data"
   ],
   "metadata": {
    "collapsed": false,
    "pycharm": {
     "name": "#%%\n"
    }
   }
  },
  {
   "cell_type": "code",
   "execution_count": 182,
   "outputs": [
    {
     "data": {
      "text/plain": "(659, 16)"
     },
     "execution_count": 182,
     "metadata": {},
     "output_type": "execute_result"
    }
   ],
   "source": [
    "data.dropna(inplace=True)\n",
    "data.shape"
   ],
   "metadata": {
    "collapsed": false,
    "pycharm": {
     "name": "#%%\n"
    }
   }
  },
  {
   "cell_type": "markdown",
   "source": [
    "normalize data betweeen 0 and 1"
   ],
   "metadata": {
    "collapsed": false,
    "pycharm": {
     "name": "#%% md\n"
    }
   }
  },
  {
   "cell_type": "code",
   "execution_count": 183,
   "outputs": [],
   "source": [
    "columns_data = data.columns\n",
    "\n",
    "data[columns_data[:-1]] = ((data[columns_data[:-1]] - data[columns_data[:-1]].min()) / (\n",
    "        data[columns_data[:-1]].max() - data[columns_data[:-1]].min()))"
   ],
   "metadata": {
    "collapsed": false,
    "pycharm": {
     "name": "#%%\n"
    }
   }
  },
  {
   "cell_type": "code",
   "execution_count": 184,
   "outputs": [
    {
     "data": {
      "text/plain": "      0         1         2    3    4         5      6         7    8    9   \\\n0    1.0  0.271111  0.000000  0.0  0.0  0.692308  0.000  0.043860  0.0  0.0   \n1    0.0  0.713016  0.159286  0.0  0.0  0.615385  0.125  0.106667  0.0  0.0   \n2    0.0  0.170635  0.017857  0.0  0.0  0.615385  0.125  0.052632  0.0  1.0   \n3    1.0  0.223492  0.055000  0.0  0.0  0.692308  0.000  0.131579  0.0  0.0   \n4    1.0  0.101905  0.200893  0.0  0.0  0.692308  0.000  0.060000  0.0  1.0   \n..   ...       ...       ...  ...  ...       ...    ...       ...  ...  ...   \n685  1.0  0.116349  0.360179  0.5  0.5  0.846154  0.125  0.043860  1.0  1.0   \n686  0.0  0.141587  0.026786  0.0  0.0  0.000000  0.000  0.070175  1.0  0.0   \n687  0.0  0.182540  0.482143  0.5  0.5  1.000000  0.875  0.070175  1.0  0.0   \n688  1.0  0.066190  0.007321  0.0  0.0  0.923077  0.000  0.001404  1.0  1.0   \n689  1.0  0.337302  0.120536  0.0  0.0  0.000000  0.125  0.290877  1.0  1.0   \n\n           10   11   12      13       14  15  \n0    0.014925  1.0  0.0  0.1010  0.00000   1  \n1    0.089552  1.0  0.0  0.0215  0.00560   1  \n2    0.000000  1.0  0.0  0.1400  0.00824   1  \n3    0.074627  0.0  0.0  0.0500  0.00003   1  \n4    0.000000  1.0  1.0  0.0600  0.00000   1  \n..        ...  ...  ...     ...      ...  ..  \n685  0.000000  1.0  0.0  0.1300  0.00000   0  \n686  0.029851  0.0  0.0  0.1000  0.00394   0  \n687  0.014925  0.0  0.0  0.1000  0.00001   0  \n688  0.000000  1.0  0.0  0.1400  0.00750   0  \n689  0.000000  0.0  0.0  0.0000  0.00000   0  \n\n[659 rows x 16 columns]",
      "text/html": "<div>\n<style scoped>\n    .dataframe tbody tr th:only-of-type {\n        vertical-align: middle;\n    }\n\n    .dataframe tbody tr th {\n        vertical-align: top;\n    }\n\n    .dataframe thead th {\n        text-align: right;\n    }\n</style>\n<table border=\"1\" class=\"dataframe\">\n  <thead>\n    <tr style=\"text-align: right;\">\n      <th></th>\n      <th>0</th>\n      <th>1</th>\n      <th>2</th>\n      <th>3</th>\n      <th>4</th>\n      <th>5</th>\n      <th>6</th>\n      <th>7</th>\n      <th>8</th>\n      <th>9</th>\n      <th>10</th>\n      <th>11</th>\n      <th>12</th>\n      <th>13</th>\n      <th>14</th>\n      <th>15</th>\n    </tr>\n  </thead>\n  <tbody>\n    <tr>\n      <th>0</th>\n      <td>1.0</td>\n      <td>0.271111</td>\n      <td>0.000000</td>\n      <td>0.0</td>\n      <td>0.0</td>\n      <td>0.692308</td>\n      <td>0.000</td>\n      <td>0.043860</td>\n      <td>0.0</td>\n      <td>0.0</td>\n      <td>0.014925</td>\n      <td>1.0</td>\n      <td>0.0</td>\n      <td>0.1010</td>\n      <td>0.00000</td>\n      <td>1</td>\n    </tr>\n    <tr>\n      <th>1</th>\n      <td>0.0</td>\n      <td>0.713016</td>\n      <td>0.159286</td>\n      <td>0.0</td>\n      <td>0.0</td>\n      <td>0.615385</td>\n      <td>0.125</td>\n      <td>0.106667</td>\n      <td>0.0</td>\n      <td>0.0</td>\n      <td>0.089552</td>\n      <td>1.0</td>\n      <td>0.0</td>\n      <td>0.0215</td>\n      <td>0.00560</td>\n      <td>1</td>\n    </tr>\n    <tr>\n      <th>2</th>\n      <td>0.0</td>\n      <td>0.170635</td>\n      <td>0.017857</td>\n      <td>0.0</td>\n      <td>0.0</td>\n      <td>0.615385</td>\n      <td>0.125</td>\n      <td>0.052632</td>\n      <td>0.0</td>\n      <td>1.0</td>\n      <td>0.000000</td>\n      <td>1.0</td>\n      <td>0.0</td>\n      <td>0.1400</td>\n      <td>0.00824</td>\n      <td>1</td>\n    </tr>\n    <tr>\n      <th>3</th>\n      <td>1.0</td>\n      <td>0.223492</td>\n      <td>0.055000</td>\n      <td>0.0</td>\n      <td>0.0</td>\n      <td>0.692308</td>\n      <td>0.000</td>\n      <td>0.131579</td>\n      <td>0.0</td>\n      <td>0.0</td>\n      <td>0.074627</td>\n      <td>0.0</td>\n      <td>0.0</td>\n      <td>0.0500</td>\n      <td>0.00003</td>\n      <td>1</td>\n    </tr>\n    <tr>\n      <th>4</th>\n      <td>1.0</td>\n      <td>0.101905</td>\n      <td>0.200893</td>\n      <td>0.0</td>\n      <td>0.0</td>\n      <td>0.692308</td>\n      <td>0.000</td>\n      <td>0.060000</td>\n      <td>0.0</td>\n      <td>1.0</td>\n      <td>0.000000</td>\n      <td>1.0</td>\n      <td>1.0</td>\n      <td>0.0600</td>\n      <td>0.00000</td>\n      <td>1</td>\n    </tr>\n    <tr>\n      <th>...</th>\n      <td>...</td>\n      <td>...</td>\n      <td>...</td>\n      <td>...</td>\n      <td>...</td>\n      <td>...</td>\n      <td>...</td>\n      <td>...</td>\n      <td>...</td>\n      <td>...</td>\n      <td>...</td>\n      <td>...</td>\n      <td>...</td>\n      <td>...</td>\n      <td>...</td>\n      <td>...</td>\n    </tr>\n    <tr>\n      <th>685</th>\n      <td>1.0</td>\n      <td>0.116349</td>\n      <td>0.360179</td>\n      <td>0.5</td>\n      <td>0.5</td>\n      <td>0.846154</td>\n      <td>0.125</td>\n      <td>0.043860</td>\n      <td>1.0</td>\n      <td>1.0</td>\n      <td>0.000000</td>\n      <td>1.0</td>\n      <td>0.0</td>\n      <td>0.1300</td>\n      <td>0.00000</td>\n      <td>0</td>\n    </tr>\n    <tr>\n      <th>686</th>\n      <td>0.0</td>\n      <td>0.141587</td>\n      <td>0.026786</td>\n      <td>0.0</td>\n      <td>0.0</td>\n      <td>0.000000</td>\n      <td>0.000</td>\n      <td>0.070175</td>\n      <td>1.0</td>\n      <td>0.0</td>\n      <td>0.029851</td>\n      <td>0.0</td>\n      <td>0.0</td>\n      <td>0.1000</td>\n      <td>0.00394</td>\n      <td>0</td>\n    </tr>\n    <tr>\n      <th>687</th>\n      <td>0.0</td>\n      <td>0.182540</td>\n      <td>0.482143</td>\n      <td>0.5</td>\n      <td>0.5</td>\n      <td>1.000000</td>\n      <td>0.875</td>\n      <td>0.070175</td>\n      <td>1.0</td>\n      <td>0.0</td>\n      <td>0.014925</td>\n      <td>0.0</td>\n      <td>0.0</td>\n      <td>0.1000</td>\n      <td>0.00001</td>\n      <td>0</td>\n    </tr>\n    <tr>\n      <th>688</th>\n      <td>1.0</td>\n      <td>0.066190</td>\n      <td>0.007321</td>\n      <td>0.0</td>\n      <td>0.0</td>\n      <td>0.923077</td>\n      <td>0.000</td>\n      <td>0.001404</td>\n      <td>1.0</td>\n      <td>1.0</td>\n      <td>0.000000</td>\n      <td>1.0</td>\n      <td>0.0</td>\n      <td>0.1400</td>\n      <td>0.00750</td>\n      <td>0</td>\n    </tr>\n    <tr>\n      <th>689</th>\n      <td>1.0</td>\n      <td>0.337302</td>\n      <td>0.120536</td>\n      <td>0.0</td>\n      <td>0.0</td>\n      <td>0.000000</td>\n      <td>0.125</td>\n      <td>0.290877</td>\n      <td>1.0</td>\n      <td>1.0</td>\n      <td>0.000000</td>\n      <td>0.0</td>\n      <td>0.0</td>\n      <td>0.0000</td>\n      <td>0.00000</td>\n      <td>0</td>\n    </tr>\n  </tbody>\n</table>\n<p>659 rows × 16 columns</p>\n</div>"
     },
     "execution_count": 184,
     "metadata": {},
     "output_type": "execute_result"
    }
   ],
   "source": [
    "data"
   ],
   "metadata": {
    "collapsed": false,
    "pycharm": {
     "name": "#%%\n"
    }
   }
  },
  {
   "cell_type": "markdown",
   "source": [
    "outlier detection"
   ],
   "metadata": {
    "collapsed": false,
    "pycharm": {
     "name": "#%% md\n"
    }
   }
  },
  {
   "cell_type": "code",
   "execution_count": 185,
   "outputs": [],
   "source": [
    "kmeans = KMeans(n_clusters=5, random_state=0).fit(data)\n",
    "K = [3, 4, 5, 6, 7, 8, 10, 12, 15, 18, 20]\n",
    "\n",
    "clusters_inertia = []"
   ],
   "metadata": {
    "collapsed": false,
    "pycharm": {
     "name": "#%%\n"
    }
   }
  },
  {
   "cell_type": "code",
   "execution_count": 186,
   "outputs": [],
   "source": [
    "distortions = []\n",
    "inertias = []\n",
    "mapping1 = {}\n",
    "mapping2 = {}\n",
    "K = range(1, 10)\n",
    "\n",
    "for k in K:\n",
    "    # Building and fitting the model\n",
    "    kmeanModel = KMeans(n_clusters=k).fit(data[columns_data[:-2]])\n",
    "\n",
    "    distortions.append(sum(np.min(cdist(data[columns_data[:-2]], kmeanModel.cluster_centers_,\n",
    "                                        'euclidean'), axis=1)) / data.shape[0])\n",
    "    inertias.append(kmeanModel.inertia_)\n",
    "\n",
    "    mapping1[k] = sum(np.min(cdist(data[columns_data[:-2]], kmeanModel.cluster_centers_,\n",
    "                                   'euclidean'), axis=1)) / data.shape[0]\n",
    "    mapping2[k] = kmeanModel.inertia_"
   ],
   "metadata": {
    "collapsed": false,
    "pycharm": {
     "name": "#%%\n"
    }
   }
  },
  {
   "cell_type": "code",
   "execution_count": 187,
   "outputs": [
    {
     "data": {
      "text/plain": "<Figure size 640x480 with 1 Axes>",
      "image/png": "[encoded data removed]"
     },
     "metadata": {},
     "output_type": "display_data"
    }
   ],
   "source": [
    "\n",
    "plt.plot(K, inertias, 'bx-')\n",
    "plt.xlabel('Values of K')\n",
    "plt.ylabel('Inertia')\n",
    "plt.title('The Elbow Method using Inertia')\n",
    "plt.show()"
   ],
   "metadata": {
    "collapsed": false,
    "pycharm": {
     "name": "#%%\n"
    }
   }
  },
  {
   "cell_type": "markdown",
   "source": [
    "k= 4"
   ],
   "metadata": {
    "collapsed": false,
    "pycharm": {
     "name": "#%% md\n"
    }
   }
  },
  {
   "cell_type": "code",
   "execution_count": 188,
   "outputs": [
    {
     "data": {
      "text/plain": "array([[ 6.69117647e-01,  3.04456116e-01,  1.91469275e-01,\n         9.19117647e-02,  9.19117647e-02,  4.35520362e-01,\n         1.11213235e-01,  1.24428535e-01,  2.05882353e-01,\n        -1.11022302e-16,  8.39552239e-02,  1.11022302e-16,\n         0.00000000e+00,  1.02003676e-01],\n       [ 7.08661417e-01,  3.03595801e-01,  1.82379078e-01,\n         1.14173228e-01,  1.14173228e-01,  4.80314961e-01,\n         1.13188976e-01,  9.46953999e-02, -3.33066907e-16,\n         1.00000000e+00,  2.08166817e-17,  4.56692913e-01,\n         1.41732283e-01,  9.50314961e-02],\n       [ 6.36363636e-01,  3.01663575e-01,  2.19327458e-01,\n         6.49350649e-02,  6.49350649e-02,  5.16483516e-01,\n         1.67207792e-01,  9.47619048e-02,  2.40259740e-01,\n         0.00000000e+00,  8.54816825e-02,  1.00000000e+00,\n         1.94805195e-02,  7.10811688e-02],\n       [ 7.23140496e-01,  2.43452053e-01,  1.28984652e-01,\n         1.75619835e-01,  1.75619835e-01,  4.12587413e-01,\n         1.66322314e-01,  3.51413658e-02,  1.00000000e+00,\n         1.00000000e+00, -4.85722573e-17,  5.90909091e-01,\n         1.36363636e-01,  9.09070248e-02]])"
     },
     "execution_count": 188,
     "metadata": {},
     "output_type": "execute_result"
    }
   ],
   "source": [
    "kmeanModel = KMeans(n_clusters=4).fit(data[columns_data[:-2]])\n",
    "kmeanModel.cluster_centers_"
   ],
   "metadata": {
    "collapsed": false,
    "pycharm": {
     "name": "#%%\n"
    }
   }
  },
  {
   "cell_type": "code",
   "execution_count": 189,
   "outputs": [],
   "source": [
    "m, n = data.shape"
   ],
   "metadata": {
    "collapsed": false,
    "pycharm": {
     "name": "#%%\n"
    }
   }
  },
  {
   "cell_type": "code",
   "execution_count": 190,
   "outputs": [
    {
     "data": {
      "text/plain": "[0.4346350134101893,\n 0.4422826293986589,\n 0.44779220941740094,\n 0.47487412858851574,\n 0.4816499676072542,\n 0.48984977204752406,\n 0.4943651712894838,\n 0.49851157118320005,\n 0.5026351612061403,\n 0.5103913418297614,\n 0.5123967657593126,\n 0.5137900484721856,\n 0.5165838822826547,\n 0.5193672016365557,\n 0.520797614188831,\n 0.5238403933143748,\n 0.524300754475089,\n 0.5244958591968625,\n 0.5262990141182037,\n 0.5273035918520745,\n 0.5283332375165674,\n 0.528821505428622,\n 0.5328790601480853,\n 0.5334730663024122,\n 0.5335074256010337,\n 0.534738701169062,\n 0.5364852046181167,\n 0.5386791994551028,\n 0.5396253913139899,\n 0.5433679730860066,\n 0.5450198236957304,\n 0.5458376102526419,\n 0.5470075433982989,\n 0.5471215156147786,\n 0.5480219296739882,\n 0.5504171508324935,\n 0.5550312682606672,\n 0.5578209545540135,\n 0.5605077742567878,\n 0.5613766170112644,\n 0.5625992878802641,\n 0.5640783739270665,\n 0.5671719088222681,\n 0.5684914225163823,\n 0.5697384963307713,\n 0.5734209446222567,\n 0.5752075746767269,\n 0.5757100476281869,\n 0.5791032656876656,\n 0.5858375988056361,\n 0.5858936365398946,\n 0.5906526318693628,\n 0.5908193493148916,\n 0.5940110931457256,\n 0.5949762413418495,\n 0.5962352102374492,\n 0.5983938728415601,\n 0.5986221832649672,\n 0.6014649886272008,\n 0.606020790003786,\n 0.6085011766837887,\n 0.6099228100524758,\n 0.6112287030269784,\n 0.6182233519551358,\n 0.6185286927272969,\n 0.6216294255788211,\n 0.6223689521974144,\n 0.6227505067357616,\n 0.6253986644941144,\n 0.6263731128095362,\n 0.6263971978165507,\n 0.6268948289773687,\n 0.628608551497758,\n 0.6322004858254338,\n 0.6328451812058511,\n 0.633573308617151,\n 0.6367851929344167,\n 0.638135041586287,\n 0.6405325967337296,\n 0.6411306818189341,\n 0.6429680270317586,\n 0.6442856586790981,\n 0.6454577701431011,\n 0.6454786852998038,\n 0.6456258591629553,\n 0.6494723923406173,\n 0.6498508399765379,\n 0.6508968133757075,\n 0.6517522228312002,\n 0.652438560872886,\n 0.6549505363854606,\n 0.6558959454108865,\n 0.6564425269223119,\n 0.6565298702119973,\n 0.6577085774870699,\n 0.6585181663077277,\n 0.6589963852256291,\n 0.6592440523991587,\n 0.6597471834957803,\n 0.6606670268306022,\n 0.6618961980847123,\n 0.663502988034142,\n 0.6635618656078699,\n 0.6651378837156893,\n 0.6652795118669287,\n 0.6654880929251719,\n 0.6660220404696768,\n 0.6661426819586256,\n 0.6673876575719146,\n 0.6702973813573891,\n 0.6722464997163615,\n 0.6743945777512939,\n 0.6759638992499007,\n 0.6786305791033402,\n 0.6833128889714508,\n 0.6876610362234573,\n 0.6921048744267486,\n 0.6928286353407659,\n 0.6944323158002159,\n 0.6944546354263895,\n 0.6951156443039033,\n 0.6991977283250543,\n 0.6996416457089892,\n 0.6998149681458059,\n 0.7005821317500732,\n 0.7007300895265031,\n 0.703104805588283,\n 0.7039813053484328,\n 0.7064535090414404,\n 0.7065913637004116,\n 0.7090352040456444,\n 0.7117146657450403,\n 0.7123319227415915,\n 0.7133874925867543,\n 0.7138980080248821,\n 0.7140622086887686,\n 0.7157307533350274,\n 0.715912068175479,\n 0.7160463736786583,\n 0.7199117906426329,\n 0.7200943692232339,\n 0.722837172564428,\n 0.72352348111816,\n 0.723693618894787,\n 0.7249627219973764,\n 0.7251749334407183,\n 0.7272960069576128,\n 0.7275254628099196,\n 0.7279020503001102,\n 0.728421552157908,\n 0.7284736262206701,\n 0.728557127314555,\n 0.7300573726505296,\n 0.7301070670665573,\n 0.7322491200707137,\n 0.7323898899309964,\n 0.7324848840852862,\n 0.7324949209215852,\n 0.7325810933906813,\n 0.7327048268993905,\n 0.7335899408111389,\n 0.7339301328353811,\n 0.7340401527107494,\n 0.7343900577654978,\n 0.7344305834718107,\n 0.7365560656284292,\n 0.7389831342283172,\n 0.740116498551621,\n 0.7409279656215112,\n 0.7409732884344338,\n 0.7412021221663626,\n 0.7416309110789245,\n 0.7423778283458625,\n 0.742927147115259,\n 0.7439216703918476,\n 0.7441775897783309,\n 0.7442398955240624,\n 0.74513825280236,\n 0.7458914226717875,\n 0.7460065945949975,\n 0.7463294802109116,\n 0.7463334344937123,\n 0.7473385440127934,\n 0.7476114607783381,\n 0.748160550752622,\n 0.749076501557063,\n 0.7490934412186585,\n 0.7491771160752614,\n 0.7496033201659115,\n 0.7496090237424278,\n 0.7497551024230834,\n 0.7498485186024032,\n 0.749902616394038,\n 0.7503987838371966,\n 0.750895263659344,\n 0.7510543950305703,\n 0.7521151076950884,\n 0.7524480889547902,\n 0.7524646390887284,\n 0.753080495894933,\n 0.7540786052576608,\n 0.7547760344575284,\n 0.7557241357290722,\n 0.756035279061368,\n 0.7561632379142289,\n 0.7585279644381155,\n 0.7585822295957392,\n 0.7596969566630888,\n 0.7598735103277316,\n 0.7598839104511723,\n 0.759967287144448,\n 0.7601460928744787,\n 0.76054228943437,\n 0.7609766713610487,\n 0.7613330779760726,\n 0.7620150234500612,\n 0.7623876442716346,\n 0.7636776275916071,\n 0.7638982924805077,\n 0.7644011489387277,\n 0.7650167073953613,\n 0.7651021979509164,\n 0.7653125186074997,\n 0.7662605030298295,\n 0.7663193135071044,\n 0.7664663148668395,\n 0.7669898938128941,\n 0.7674478225413633,\n 0.7680441112434405,\n 0.7680576243194805,\n 0.7687005771705144,\n 0.7695312290741996,\n 0.7695910657028127,\n 0.771256139330592,\n 0.7713920331229822,\n 0.7751935811064581,\n 0.7755307474662707,\n 0.776212472412024,\n 0.777000892762859,\n 0.7773466200197985,\n 0.7791662454294883,\n 0.7811584637862151,\n 0.7832555623374273,\n 0.7846682783151174,\n 0.7850833562974364,\n 0.7854934463769844,\n 0.787436368400037,\n 0.7883810409167391,\n 0.7893557670006587,\n 0.7901248173814663,\n 0.7906298869317326,\n 0.7907913352327092,\n 0.791140768593598,\n 0.7914567442943525,\n 0.7922015242702128,\n 0.7925279191306568,\n 0.7948635022289906,\n 0.7988745118586079,\n 0.798947941724274,\n 0.7990161757632948,\n 0.7990189693665017,\n 0.7990393951388294,\n 0.7992071601642703,\n 0.8004718465172267,\n 0.8031408458812709,\n 0.8035967962419946,\n 0.8043292840027529,\n 0.8044228244566101,\n 0.8067653522924239,\n 0.8071741086784435,\n 0.8085770406851224,\n 0.8096341283257287,\n 0.8103924764552008,\n 0.8114747507480368,\n 0.8123108889931426,\n 0.8134027627082099,\n 0.8138309855854978,\n 0.8138585670676571,\n 0.814221295147673,\n 0.8151543879072216,\n 0.8166830658747021,\n 0.8167559625573019,\n 0.8176523887405811,\n 0.8189388969779505,\n 0.8206302706747977,\n 0.822663048314767,\n 0.822780812452361,\n 0.8230645284225303,\n 0.8234537370781404,\n 0.8235869361612916,\n 0.8249537841257364,\n 0.8252502369057904,\n 0.8256855674357811,\n 0.82593865378624,\n 0.8267120592302876,\n 0.8269628296345382,\n 0.8270569768947801,\n 0.8283793524790233,\n 0.830300858106486,\n 0.8318775716313181,\n 0.834961932185831,\n 0.8351198873605192,\n 0.8362928202225502,\n 0.8366281026495768,\n 0.8379590117653863,\n 0.838133220985667,\n 0.8382551859388601,\n 0.8407411344010515,\n 0.8418171236692815,\n 0.8430344400854548,\n 0.8438561050738203,\n 0.8438721034466228,\n 0.8439625728223175,\n 0.8450487118540371,\n 0.8458164353276691,\n 0.8465562585687323,\n 0.846942925945911,\n 0.8497357433764443,\n 0.8512948772238451,\n 0.8520629829327611,\n 0.8522575882617087,\n 0.8527804046997806,\n 0.8544961678629517,\n 0.8554041071630358,\n 0.8555317501335284,\n 0.8564635261659463,\n 0.8567053161887349,\n 0.8578794230321685,\n 0.8589842275562611,\n 0.8599174959804979,\n 0.8609161829613456,\n 0.8617463438391051,\n 0.8651571457782683,\n 0.86522885171118,\n 0.866037122547325,\n 0.8664134484576863,\n 0.8678621972209528,\n 0.8711053986647259,\n 0.8721148774730193,\n 0.8721207749089402,\n 0.875712184193943,\n 0.8761687047773359,\n 0.8767040610887912,\n 0.87856865894948,\n 0.8791681414160116,\n 0.8803456107847047,\n 0.8824787259495022,\n 0.8824968097849737,\n 0.8853243006694774,\n 0.8872760315391787,\n 0.8876996458740236,\n 0.888756789293815,\n 0.8890279895992084,\n 0.8894209622616863,\n 0.891906098919434,\n 0.8926370672340084,\n 0.8927677722155707,\n 0.8929969702778129,\n 0.8943017792104013,\n 0.895924716072956,\n 0.8968111992597152,\n 0.8977238583829291,\n 0.8981919779088452,\n 0.8982022548137304,\n 0.8982506308649125,\n 0.8988910312731433,\n 0.8993155995274518,\n 0.8998526565708379,\n 0.899927264879305,\n 0.899962297776527,\n 0.9016168952294523,\n 0.901830377182273,\n 0.9024562035447895,\n 0.9029019336990018,\n 0.903202535808699,\n 0.9045359013168254,\n 0.9074467014610876,\n 0.907514792019087,\n 0.9076746673481573,\n 0.9085970314490863,\n 0.9090245746307842,\n 0.9147377074486825,\n 0.9151377056048975,\n 0.9170460209954784,\n 0.9171456728415306,\n 0.9184328550675118,\n 0.9201515397384419,\n 0.9207617510754369,\n 0.9218536175531964,\n 0.9228995667282778,\n 0.9236659561883985,\n 0.9236941979714268,\n 0.924618742522238,\n 0.9256861328194572,\n 0.9313435679008736,\n 0.9326284899461204,\n 0.9328430744206144,\n 0.9329623055418446,\n 0.9349319602664946,\n 0.9349972891910395,\n 0.935165998595216,\n 0.9369678505009621,\n 0.9372656714066739,\n 0.9394813046426254,\n 0.9402076037051253,\n 0.9402359726237384,\n 0.9411284132537933,\n 0.9413937125690384,\n 0.9415176645747106,\n 0.9416544967641084,\n 0.9422340408306447,\n 0.9423313867322057,\n 0.9459665396170329,\n 0.9491936783849684,\n 0.9541821592225082,\n 0.9545832340404399,\n 0.957078872419485,\n 0.9603299677326352,\n 0.9604289745289379,\n 0.9606817669295674,\n 0.9617767297036519,\n 0.9639846511699903,\n 0.9645872226850393,\n 0.9650993995278674,\n 0.9657099646906792,\n 0.9737984893885803,\n 0.9738365966114348,\n 0.9745641811277351,\n 0.9787130417320947,\n 0.9796862641415442,\n 0.9801538503250566,\n 0.9823949389157558,\n 0.9836648007266342,\n 0.9855344131813324,\n 0.9861092635613938,\n 0.9886829481602754,\n 0.9888843317142245,\n 0.9903503658953215,\n 0.9908668200596195,\n 0.9917682138965028,\n 0.9918217761579907,\n 0.9918568945061386,\n 0.9959265916109261,\n 0.9966021264184637,\n 0.9968899101120173,\n 0.9972263367528418,\n 0.9987191686889418,\n 0.9988974688250757,\n 0.9989173842735556,\n 1.002349631668769,\n 1.002602078056195,\n 1.0027528938745451,\n 1.0057413788201084,\n 1.006941667055146,\n 1.0078912104193654,\n 1.0094889588810132,\n 1.0104229527505724,\n 1.010439360675038,\n 1.0106639158603454,\n 1.0125435914815286,\n 1.0137035450842722,\n 1.0158999683570185,\n 1.0160211711743978,\n 1.0195700544662971,\n 1.0203566712365282,\n 1.0245501409590312,\n 1.0250739027783569,\n 1.0253612958847302,\n 1.0259945187348298,\n 1.0262443074283947,\n 1.0265467242805584,\n 1.0268251779541178,\n 1.0272558722717304,\n 1.0308465811511796,\n 1.0322877606588636,\n 1.0341401689260832,\n 1.0345107799329978,\n 1.0346225970350256,\n 1.0349475638276557,\n 1.0352792997892764,\n 1.0353664769000421,\n 1.0385045196620089,\n 1.0404022160489461,\n 1.0415279450470583,\n 1.0440252026232864,\n 1.0443910296406276,\n 1.044501966629392,\n 1.0460861208107013,\n 1.0473685139099804,\n 1.0505200730038409,\n 1.0513550334980108,\n 1.0515048091840877,\n 1.051849396709886,\n 1.052412059613661,\n 1.05370553192946,\n 1.0552216989817356,\n 1.0562234436038054,\n 1.0562306139323099,\n 1.056900735895185,\n 1.057260869117062,\n 1.0613848517030406,\n 1.0621981615648322,\n 1.0622727971495076,\n 1.0627885292544659,\n 1.0632555557410899,\n 1.0636097361262906,\n 1.0642824896001775,\n 1.0653532243019523,\n 1.0655093813797556,\n 1.0660950975294452,\n 1.0665895549027908,\n 1.0669892074983511,\n 1.0677869630061119,\n 1.0689902506539215,\n 1.0727434540862983,\n 1.0732016775254907,\n 1.0758100292210582,\n 1.0760947959002114,\n 1.078169877476905,\n 1.0840255418863,\n 1.08819353568112,\n 1.088872561396774,\n 1.0907608959410293,\n 1.0909906788563928,\n 1.093090479317469,\n 1.0934184800253275,\n 1.0939867579361457,\n 1.0941667457441924,\n 1.0949004717878121,\n 1.0964089712281953,\n 1.0977020950095844,\n 1.097731226636515,\n 1.1007950220611933,\n 1.1011157238977516,\n 1.1016628230425998,\n 1.106739803455067,\n 1.109186306125755,\n 1.109424772906355,\n 1.1101244293217645,\n 1.1130631973307201,\n 1.1139298263011728,\n 1.1153299779671315,\n 1.1154034998218694,\n 1.1154931138933992,\n 1.1175956557233329,\n 1.1179236585047996,\n 1.1179790488056742,\n 1.1212847909518893,\n 1.1219118802761738,\n 1.1221790667438603,\n 1.1290050281707789,\n 1.1296512743123175,\n 1.1298790861326369,\n 1.1315765868723908,\n 1.1342397196676568,\n 1.1350336216669294,\n 1.1415138780588885,\n 1.1429793668438122,\n 1.1449574824100306,\n 1.1456061216217188,\n 1.146372759232089,\n 1.1468569874878805,\n 1.1471735914964494,\n 1.1473588479759855,\n 1.1474192228874924,\n 1.148123556850983,\n 1.1490469517619875,\n 1.1493955526074726,\n 1.1515606952219346,\n 1.1533557426145793,\n 1.16059150643465,\n 1.1620745592561765,\n 1.1648196473647323,\n 1.165197954702304,\n 1.1673728001351042,\n 1.1681074678727221,\n 1.1690844927129307,\n 1.170155837768891,\n 1.1781864877070256,\n 1.1786431188406261,\n 1.1816440246961897,\n 1.1819877176777769,\n 1.189544351445679,\n 1.1905176410213258,\n 1.19229189122801,\n 1.1993443515733357,\n 1.2008310982482417,\n 1.2029663600946103,\n 1.204483540165391,\n 1.2047503861192737,\n 1.206255009358464,\n 1.2071479749950924,\n 1.2080974028204845,\n 1.2081651077589561,\n 1.210888111843907,\n 1.2125909426777222,\n 1.2133727656477211,\n 1.2152793885986215,\n 1.2161596469521165,\n 1.2175369151779836,\n 1.2177286151523181,\n 1.2188379340190796,\n 1.21963100525659,\n 1.2231589999744528,\n 1.2248113687849929,\n 1.230860305093143,\n 1.2368888649239536,\n 1.2395013995907882,\n 1.2425230303041175,\n 1.2480193349770152,\n 1.2530554724110436,\n 1.2571564289764554,\n 1.2613075894428785,\n 1.2669571381442504,\n 1.2672063684138857,\n 1.268774191669456,\n 1.2770852607659169,\n 1.2776642959666007,\n 1.2785621355088606,\n 1.2788787663803798,\n 1.2846003425200387,\n 1.2849472591411744,\n 1.2882645029372526,\n 1.2952368352972963,\n 1.309312916088576,\n 1.3163348979611116,\n 1.318931415014353,\n 1.3194273159180299,\n 1.322119379864032,\n 1.3223260290602352,\n 1.3286272006756337,\n 1.3336771559932197,\n 1.3367769969039884,\n 1.3370985261592205,\n 1.3394521754284585,\n 1.3396709179799553,\n 1.3410426326255394,\n 1.3438363895088008,\n 1.3457824814203285,\n 1.3513260962930296,\n 1.3611858092723177,\n 1.3835218097714048,\n 1.3881578746714915,\n 1.3894914246788765,\n 1.389573440834693,\n 1.3920771378424732,\n 1.3973932391887367,\n 1.4124113571228998,\n 1.4167308976014075,\n 1.4553251204687967,\n 1.473365316591195,\n 1.555791773849364,\n 1.5801716976509206,\n 1.6153119931123223,\n 1.641640531074425,\n 1.6432713216895467,\n 1.6653452482835926,\n 1.8551745853067672,\n 1.9218273101525014]"
     },
     "execution_count": 190,
     "metadata": {},
     "output_type": "execute_result"
    }
   ],
   "source": [
    "all_dists = cdist(data[columns_data[:-2]], kmeanModel.cluster_centers_, 'euclidean')\n",
    "dists = []\n",
    "\n",
    "for index, row in enumerate(all_dists):\n",
    "    dists.append(min(row))\n",
    "dists = sorted(dists)\n",
    "dists"
   ],
   "metadata": {
    "collapsed": false,
    "pycharm": {
     "name": "#%%\n"
    }
   }
  },
  {
   "cell_type": "code",
   "execution_count": 191,
   "outputs": [
    {
     "data": {
      "text/plain": "<Figure size 640x480 with 1 Axes>",
      "image/png": "[encoded data removed]"
     },
     "metadata": {},
     "output_type": "display_data"
    }
   ],
   "source": [
    "X = np.arange(1, m + 1)\n",
    "plt.plot(X, dists, 'bx-')\n",
    "plt.xlabel('ith element ')\n",
    "plt.ylabel('distance')\n",
    "plt.title('Distribution of distances')\n",
    "plt.show()"
   ],
   "metadata": {
    "collapsed": false,
    "pycharm": {
     "name": "#%%\n"
    }
   }
  },
  {
   "cell_type": "code",
   "execution_count": 192,
   "outputs": [
    {
     "data": {
      "text/plain": "73"
     },
     "execution_count": 192,
     "metadata": {},
     "output_type": "execute_result"
    }
   ],
   "source": [
    "threshold = 1.2\n",
    "must_remove = []\n",
    "for index, row in enumerate(all_dists):\n",
    "    dist_to_center = min(row)\n",
    "    if threshold < dist_to_center:\n",
    "        must_remove.append(index)\n",
    "\n",
    "len(must_remove)"
   ],
   "metadata": {
    "collapsed": false,
    "pycharm": {
     "name": "#%%\n"
    }
   }
  },
  {
   "cell_type": "code",
   "execution_count": 193,
   "outputs": [
    {
     "data": {
      "text/plain": "(586, 16)"
     },
     "execution_count": 193,
     "metadata": {},
     "output_type": "execute_result"
    }
   ],
   "source": [
    "data.drop(index=data.index[must_remove], axis=0, inplace=True)\n",
    "data.shape"
   ],
   "metadata": {
    "collapsed": false,
    "pycharm": {
     "name": "#%%\n"
    }
   }
  },
  {
   "cell_type": "markdown",
   "source": [
    "split"
   ],
   "metadata": {
    "collapsed": false,
    "pycharm": {
     "name": "#%% md\n"
    }
   }
  },
  {
   "cell_type": "code",
   "execution_count": 197,
   "outputs": [
    {
     "data": {
      "text/plain": "((498, 15), (88, 15), (498,), (88,))"
     },
     "execution_count": 197,
     "metadata": {},
     "output_type": "execute_result"
    }
   ],
   "source": [
    "X_train, X_test, y_train, y_test = train_test_split(data[columns_data[:-1]], data[columns_data[-1]], test_size=0.15,\n",
    "                                                    random_state=55)\n",
    "X_train.shape, X_test.shape, y_train.shape, y_test.shape"
   ],
   "metadata": {
    "collapsed": false,
    "pycharm": {
     "name": "#%%\n"
    }
   }
  },
  {
   "cell_type": "markdown",
   "source": [
    "# Part B"
   ],
   "metadata": {
    "collapsed": false,
    "pycharm": {
     "name": "#%% md\n"
    }
   }
  },
  {
   "cell_type": "code",
   "execution_count": 235,
   "outputs": [
    {
     "data": {
      "text/plain": "<Figure size 640x480 with 1 Axes>",
      "image/png": "[encoded data removed]"
     },
     "metadata": {},
     "output_type": "display_data"
    }
   ],
   "source": [
    "k_indexes = []\n",
    "errors = []\n",
    "\n",
    "for i in range(1, 50):\n",
    "    KNN_model = KNeighborsClassifier(n_neighbors=i)\n",
    "    KNN_model.fit(X_train, y_train)\n",
    "    y_pred = KNN_model.predict(X_test)\n",
    "\n",
    "    acc = accuracy_score(y_test, y_pred)\n",
    "    err = 1 - acc\n",
    "\n",
    "    k_indexes.append(i)\n",
    "    errors.append(err)\n",
    "\n",
    "plt.title(\"K-NN Elbow method\")\n",
    "plt.ylabel(\"err\")\n",
    "plt.xlabel(\"k\")\n",
    "plt.plot(k_indexes, errors)\n",
    "plt.show()"
   ],
   "metadata": {
    "collapsed": false,
    "pycharm": {
     "name": "#%%\n"
    }
   }
  },
  {
   "cell_type": "markdown",
   "source": [
    "# k = 7"
   ],
   "metadata": {
    "collapsed": false,
    "pycharm": {
     "name": "#%% md\n"
    }
   }
  },
  {
   "cell_type": "code",
   "execution_count": 240,
   "outputs": [
    {
     "name": "stdout",
     "output_type": "stream",
     "text": [
      "Time training => 0.0050160884857177734 seconds\n"
     ]
    }
   ],
   "source": [
    "start_time = time.time()\n",
    "KNN_model = KNeighborsClassifier(n_neighbors=8)\n",
    "KNN_model.fit(X_train, y_train)\n",
    "y_pred = KNN_model.predict(X_test)\n",
    "print(f'Time training => {time.time() - start_time} seconds')"
   ],
   "metadata": {
    "collapsed": false,
    "pycharm": {
     "name": "#%%\n"
    }
   }
  },
  {
   "cell_type": "code",
   "execution_count": 237,
   "outputs": [
    {
     "name": "stdout",
     "output_type": "stream",
     "text": [
      "Time for prediction one data point => 0.002996206283569336 seconds\n"
     ]
    }
   ],
   "source": [
    "start_time = time.time()\n",
    "KNN_model.predict(X_train.iloc[[0]])\n",
    "print(f'Time for prediction one data point => {time.time() - start_time} seconds')"
   ],
   "metadata": {
    "collapsed": false,
    "pycharm": {
     "name": "#%%\n"
    }
   }
  },
  {
   "cell_type": "code",
   "execution_count": 238,
   "outputs": [
    {
     "name": "stdout",
     "output_type": "stream",
     "text": [
      "              precision    recall  f1-score   support\n",
      "\n",
      "           0       0.92      0.90      0.91        50\n",
      "           1       0.87      0.89      0.88        38\n",
      "\n",
      "    accuracy                           0.90        88\n",
      "   macro avg       0.90      0.90      0.90        88\n",
      "weighted avg       0.90      0.90      0.90        88\n",
      "\n"
     ]
    }
   ],
   "source": [
    "print(classification_report(y_test, y_pred))"
   ],
   "metadata": {
    "collapsed": false,
    "pycharm": {
     "name": "#%%\n"
    }
   }
  },
  {
   "cell_type": "markdown",
   "source": [],
   "metadata": {
    "collapsed": false,
    "pycharm": {
     "name": "#%% md\n"
    }
   }
  },
  {
   "cell_type": "code",
   "execution_count": 239,
   "outputs": [
    {
     "data": {
      "text/plain": "<Figure size 640x480 with 2 Axes>",
      "image/png": "[encoded data removed]"
     },
     "metadata": {},
     "output_type": "display_data"
    }
   ],
   "source": [
    "cm = confusion_matrix(y_test, y_pred)\n",
    "\n",
    "cm_display = ConfusionMatrixDisplay(confusion_matrix=cm, display_labels=[0, 1])\n",
    "\n",
    "cm_display.plot()\n",
    "plt.show()"
   ],
   "metadata": {
    "collapsed": false,
    "pycharm": {
     "name": "#%%\n"
    }
   }
  },
  {
   "cell_type": "markdown",
   "source": [],
   "metadata": {
    "collapsed": false,
    "pycharm": {
     "name": "#%% md\n"
    }
   }
  },
  {
   "cell_type": "markdown",
   "source": [
    "# Part C"
   ],
   "metadata": {
    "collapsed": false,
    "pycharm": {
     "name": "#%% md\n"
    }
   }
  },
  {
   "cell_type": "code",
   "execution_count": 241,
   "outputs": [
    {
     "name": "stdout",
     "output_type": "stream",
     "text": [
      "Time training => 0.005020618438720703 seconds\n"
     ]
    }
   ],
   "source": [
    "start_time = time.time()\n",
    "clf = DecisionTreeClassifier(max_depth=10)\n",
    "clf.fit(X_train, y_train)\n",
    "y_pred = clf.predict(X_test)\n",
    "print(f'Time training => {time.time() - start_time} seconds')"
   ],
   "metadata": {
    "collapsed": false,
    "pycharm": {
     "name": "#%%\n"
    }
   }
  },
  {
   "cell_type": "code",
   "execution_count": 204,
   "outputs": [
    {
     "name": "stdout",
     "output_type": "stream",
     "text": [
      "Time for prediction one data point => 0.0019986629486083984 seconds\n"
     ]
    }
   ],
   "source": [
    "start_time = time.time()\n",
    "clf.predict(X_train.iloc[[0]])\n",
    "print(f'Time for prediction one data point => {time.time() - start_time} seconds')"
   ],
   "metadata": {
    "collapsed": false,
    "pycharm": {
     "name": "#%%\n"
    }
   }
  },
  {
   "cell_type": "code",
   "execution_count": 205,
   "outputs": [
    {
     "name": "stdout",
     "output_type": "stream",
     "text": [
      "Confusion matrix:\n"
     ]
    },
    {
     "data": {
      "text/plain": "<Figure size 640x480 with 2 Axes>",
      "image/png": "[encoded data removed]"
     },
     "metadata": {},
     "output_type": "display_data"
    }
   ],
   "source": [
    "cm = confusion_matrix(y_test, y_pred)\n",
    "print(\"Confusion matrix:\")\n",
    "cm = confusion_matrix(y_test, y_pred)\n",
    "\n",
    "cm_display = ConfusionMatrixDisplay(confusion_matrix=cm, display_labels=[0, 1])\n",
    "\n",
    "cm_display.plot()\n",
    "plt.show()"
   ],
   "metadata": {
    "collapsed": false,
    "pycharm": {
     "name": "#%%\n"
    }
   }
  },
  {
   "cell_type": "code",
   "execution_count": 206,
   "outputs": [],
   "source": [
    "X, y = data[columns_data[:-1]], data[columns_data[-1]]\n",
    "\n",
    "recall = cross_val_score(clf, X, y, cv=5, scoring=\"recall_macro\")\n",
    "precision = cross_val_score(clf, X, y, cv=5, scoring=\"precision_macro\")\n",
    "accuracy = cross_val_score(clf, X, y, cv=5, scoring=\"accuracy\")"
   ],
   "metadata": {
    "collapsed": false,
    "pycharm": {
     "name": "#%%\n"
    }
   }
  },
  {
   "cell_type": "code",
   "execution_count": 207,
   "outputs": [
    {
     "name": "stdout",
     "output_type": "stream",
     "text": [
      "              precision    recall  f1-score   support\n",
      "\n",
      "           0       0.81      0.88      0.85        50\n",
      "           1       0.82      0.74      0.78        38\n",
      "\n",
      "    accuracy                           0.82        88\n",
      "   macro avg       0.82      0.81      0.81        88\n",
      "weighted avg       0.82      0.82      0.82        88\n",
      "\n"
     ]
    }
   ],
   "source": [
    "print(classification_report(y_test, y_pred))"
   ],
   "metadata": {
    "collapsed": false,
    "pycharm": {
     "name": "#%%\n"
    }
   }
  },
  {
   "cell_type": "markdown",
   "source": [
    "# Part D"
   ],
   "metadata": {
    "collapsed": false,
    "pycharm": {
     "name": "#%% md\n"
    }
   }
  },
  {
   "cell_type": "markdown",
   "source": [],
   "metadata": {
    "collapsed": false,
    "pycharm": {
     "name": "#%% md\n"
    }
   }
  },
  {
   "cell_type": "code",
   "execution_count": 208,
   "outputs": [],
   "source": [
    "param_grid = {\n",
    "    \"n_estimators\": [25, 50, 100],\n",
    "    \"max_depth\": [5, 10],\n",
    "    \"min_samples_split\": [5, 10],\n",
    "    \"min_samples_leaf\": [2, 4],\n",
    "}"
   ],
   "metadata": {
    "collapsed": false,
    "pycharm": {
     "name": "#%%\n"
    }
   }
  },
  {
   "cell_type": "code",
   "execution_count": 242,
   "outputs": [
    {
     "name": "stdout",
     "output_type": "stream",
     "text": [
      "Time training => 5.262007474899292 seconds\n"
     ]
    }
   ],
   "source": [
    "start_time = time.time()\n",
    "\n",
    "clf = GridSearchCV(RandomForestClassifier(), param_grid, cv=5, scoring='accuracy')\n",
    "clf.fit(X_train, y_train)\n",
    "\n",
    "y_pred = clf.predict(X_test)\n",
    "\n",
    "print(f'Time training => {time.time() - start_time} seconds')"
   ],
   "metadata": {
    "collapsed": false,
    "pycharm": {
     "name": "#%%\n"
    }
   }
  },
  {
   "cell_type": "code",
   "execution_count": 210,
   "outputs": [
    {
     "name": "stdout",
     "output_type": "stream",
     "text": [
      "Time for prediction one data point => 0.0029954910278320312 seconds\n"
     ]
    }
   ],
   "source": [
    "start_time = time.time()\n",
    "clf.predict(X_train.iloc[[0]])\n",
    "print(f'Time for prediction one data point => {time.time() - start_time} seconds')"
   ],
   "metadata": {
    "collapsed": false,
    "pycharm": {
     "name": "#%%\n"
    }
   }
  },
  {
   "cell_type": "code",
   "execution_count": 211,
   "outputs": [
    {
     "name": "stdout",
     "output_type": "stream",
     "text": [
      "Confusion matrix:\n"
     ]
    },
    {
     "data": {
      "text/plain": "<Figure size 640x480 with 2 Axes>",
      "image/png": "[encoded data removed]"
     },
     "metadata": {},
     "output_type": "display_data"
    }
   ],
   "source": [
    "cm = confusion_matrix(y_test, y_pred)\n",
    "print(\"Confusion matrix:\")\n",
    "cm_display = ConfusionMatrixDisplay(confusion_matrix=cm, display_labels=[0, 1])\n",
    "cm_display.plot()\n",
    "plt.show()"
   ],
   "metadata": {
    "collapsed": false,
    "pycharm": {
     "name": "#%%\n"
    }
   }
  },
  {
   "cell_type": "code",
   "execution_count": 212,
   "outputs": [
    {
     "name": "stdout",
     "output_type": "stream",
     "text": [
      "              precision    recall  f1-score   support\n",
      "\n",
      "           0       0.96      0.88      0.92        50\n",
      "           1       0.86      0.95      0.90        38\n",
      "\n",
      "    accuracy                           0.91        88\n",
      "   macro avg       0.91      0.91      0.91        88\n",
      "weighted avg       0.91      0.91      0.91        88\n",
      "\n"
     ]
    }
   ],
   "source": [
    "print(classification_report(y_test, y_pred))"
   ],
   "metadata": {
    "collapsed": false,
    "pycharm": {
     "name": "#%%\n"
    }
   }
  },
  {
   "cell_type": "markdown",
   "source": [
    "# Part E"
   ],
   "metadata": {
    "collapsed": false,
    "pycharm": {
     "name": "#%% md\n"
    }
   }
  },
  {
   "cell_type": "code",
   "execution_count": 243,
   "outputs": [
    {
     "name": "stdout",
     "output_type": "stream",
     "text": [
      "Time training => 0.004000186920166016 seconds\n"
     ]
    }
   ],
   "source": [
    "start_time = time.time()\n",
    "clf = GaussianNB()\n",
    "clf.fit(X_train, y_train)\n",
    "\n",
    "y_pred = clf.predict(X_test)\n",
    "print(f'Time training => {time.time() - start_time} seconds')"
   ],
   "metadata": {
    "collapsed": false,
    "pycharm": {
     "name": "#%%\n"
    }
   }
  },
  {
   "cell_type": "code",
   "execution_count": 214,
   "outputs": [
    {
     "name": "stdout",
     "output_type": "stream",
     "text": [
      "Time for prediction one data point => 0.0019910335540771484 seconds\n"
     ]
    }
   ],
   "source": [
    "start_time = time.time()\n",
    "clf.predict(X_train.iloc[[0]])\n",
    "print(f'Time for prediction one data point => {time.time() - start_time} seconds')"
   ],
   "metadata": {
    "collapsed": false,
    "pycharm": {
     "name": "#%%\n"
    }
   }
  },
  {
   "cell_type": "code",
   "execution_count": 215,
   "outputs": [
    {
     "name": "stdout",
     "output_type": "stream",
     "text": [
      "Confusion matrix:\n"
     ]
    },
    {
     "data": {
      "text/plain": "<Figure size 640x480 with 2 Axes>",
      "image/png": "[encoded data removed]"
     },
     "metadata": {},
     "output_type": "display_data"
    }
   ],
   "source": [
    "cm = confusion_matrix(y_test, y_pred)\n",
    "print(\"Confusion matrix:\")\n",
    "cm_display = ConfusionMatrixDisplay(confusion_matrix=cm, display_labels=[0, 1])\n",
    "cm_display.plot()\n",
    "plt.show()"
   ],
   "metadata": {
    "collapsed": false,
    "pycharm": {
     "name": "#%%\n"
    }
   }
  },
  {
   "cell_type": "code",
   "execution_count": 216,
   "outputs": [
    {
     "name": "stdout",
     "output_type": "stream",
     "text": [
      "              precision    recall  f1-score   support\n",
      "\n",
      "           0       0.82      0.90      0.86        50\n",
      "           1       0.85      0.74      0.79        38\n",
      "\n",
      "    accuracy                           0.83        88\n",
      "   macro avg       0.83      0.82      0.82        88\n",
      "weighted avg       0.83      0.83      0.83        88\n",
      "\n"
     ]
    }
   ],
   "source": [
    "print(classification_report(y_test, y_pred))"
   ],
   "metadata": {
    "collapsed": false,
    "pycharm": {
     "name": "#%%\n"
    }
   }
  },
  {
   "cell_type": "markdown",
   "source": [
    "# Part F"
   ],
   "metadata": {
    "collapsed": false,
    "pycharm": {
     "name": "#%% md\n"
    }
   }
  },
  {
   "cell_type": "code",
   "execution_count": 244,
   "outputs": [
    {
     "name": "stdout",
     "output_type": "stream",
     "text": [
      "Time training => 0.0059947967529296875 seconds\n"
     ]
    }
   ],
   "source": [
    "start_time = time.time()\n",
    "\n",
    "clf = LogisticRegression(random_state=0)\n",
    "clf.fit(X_train, y_train)\n",
    "\n",
    "y_pred = clf.predict(X_test)\n",
    "\n",
    "print(f'Time training => {time.time() - start_time} seconds')"
   ],
   "metadata": {
    "collapsed": false,
    "pycharm": {
     "name": "#%%\n"
    }
   }
  },
  {
   "cell_type": "code",
   "execution_count": 218,
   "outputs": [
    {
     "name": "stdout",
     "output_type": "stream",
     "text": [
      "Time for prediction one data point => 0.0019943714141845703 seconds\n"
     ]
    }
   ],
   "source": [
    "start_time = time.time()\n",
    "clf.predict(X_train.iloc[[0]])\n",
    "print(f'Time for prediction one data point => {time.time() - start_time} seconds')"
   ],
   "metadata": {
    "collapsed": false,
    "pycharm": {
     "name": "#%%\n"
    }
   }
  },
  {
   "cell_type": "code",
   "execution_count": 219,
   "outputs": [
    {
     "name": "stdout",
     "output_type": "stream",
     "text": [
      "Confusion matrix:\n"
     ]
    },
    {
     "data": {
      "text/plain": "<Figure size 640x480 with 2 Axes>",
      "image/png": "[encoded data removed]"
     },
     "metadata": {},
     "output_type": "display_data"
    }
   ],
   "source": [
    "cm = confusion_matrix(y_test, y_pred)\n",
    "print(\"Confusion matrix:\")\n",
    "cm_display = ConfusionMatrixDisplay(confusion_matrix=cm, display_labels=[0, 1])\n",
    "cm_display.plot()\n",
    "plt.show()"
   ],
   "metadata": {
    "collapsed": false,
    "pycharm": {
     "name": "#%%\n"
    }
   }
  },
  {
   "cell_type": "code",
   "execution_count": 220,
   "outputs": [
    {
     "name": "stdout",
     "output_type": "stream",
     "text": [
      "              precision    recall  f1-score   support\n",
      "\n",
      "           0       0.92      0.88      0.90        50\n",
      "           1       0.85      0.89      0.87        38\n",
      "\n",
      "    accuracy                           0.89        88\n",
      "   macro avg       0.88      0.89      0.88        88\n",
      "weighted avg       0.89      0.89      0.89        88\n",
      "\n"
     ]
    }
   ],
   "source": [
    "print(classification_report(y_test, y_pred))"
   ],
   "metadata": {
    "collapsed": false,
    "pycharm": {
     "name": "#%%\n"
    }
   }
  },
  {
   "cell_type": "markdown",
   "source": [
    "# Part G"
   ],
   "metadata": {
    "collapsed": false,
    "pycharm": {
     "name": "#%% md\n"
    }
   }
  },
  {
   "cell_type": "code",
   "execution_count": 245,
   "outputs": [
    {
     "name": "stdout",
     "output_type": "stream",
     "text": [
      "Time training => 0.00699925422668457 seconds\n"
     ]
    }
   ],
   "source": [
    "start_time = time.time()\n",
    "clf = SVC(kernel='poly', C=0.8, random_state=0)\n",
    "clf.fit(X_train, y_train)\n",
    "\n",
    "y_pred = clf.predict(X_test)\n",
    "print(f'Time training => {time.time() - start_time} seconds')"
   ],
   "metadata": {
    "collapsed": false,
    "pycharm": {
     "name": "#%%\n"
    }
   }
  },
  {
   "cell_type": "code",
   "execution_count": 222,
   "outputs": [
    {
     "name": "stdout",
     "output_type": "stream",
     "text": [
      "Time for prediction one data point => 0.0010018348693847656 seconds\n"
     ]
    }
   ],
   "source": [
    "start_time = time.time()\n",
    "clf.predict(X_train.iloc[[0]])\n",
    "print(f'Time for prediction one data point => {time.time() - start_time} seconds')"
   ],
   "metadata": {
    "collapsed": false,
    "pycharm": {
     "name": "#%%\n"
    }
   }
  },
  {
   "cell_type": "code",
   "execution_count": 223,
   "outputs": [
    {
     "name": "stdout",
     "output_type": "stream",
     "text": [
      "Confusion matrix:\n"
     ]
    },
    {
     "data": {
      "text/plain": "<Figure size 640x480 with 2 Axes>",
      "image/png": "[encoded data removed]"
     },
     "metadata": {},
     "output_type": "display_data"
    }
   ],
   "source": [
    "cm = confusion_matrix(y_test, y_pred)\n",
    "print(\"Confusion matrix:\")\n",
    "cm_display = ConfusionMatrixDisplay(confusion_matrix=cm, display_labels=[0, 1])\n",
    "cm_display.plot()\n",
    "plt.show()"
   ],
   "metadata": {
    "collapsed": false,
    "pycharm": {
     "name": "#%%\n"
    }
   }
  },
  {
   "cell_type": "code",
   "execution_count": 224,
   "outputs": [
    {
     "name": "stdout",
     "output_type": "stream",
     "text": [
      "              precision    recall  f1-score   support\n",
      "\n",
      "           0       0.90      0.88      0.89        50\n",
      "           1       0.85      0.87      0.86        38\n",
      "\n",
      "    accuracy                           0.88        88\n",
      "   macro avg       0.87      0.87      0.87        88\n",
      "weighted avg       0.88      0.88      0.88        88\n",
      "\n"
     ]
    }
   ],
   "source": [
    "print(classification_report(y_test, y_pred))"
   ],
   "metadata": {
    "collapsed": false,
    "pycharm": {
     "name": "#%%\n"
    }
   }
  },
  {
   "cell_type": "markdown",
   "source": [
    "# Part H"
   ],
   "metadata": {
    "collapsed": false,
    "pycharm": {
     "name": "#%% md\n"
    }
   }
  },
  {
   "cell_type": "code",
   "execution_count": 246,
   "outputs": [
    {
     "name": "stdout",
     "output_type": "stream",
     "text": [
      "Time training => 0.09200692176818848 seconds\n"
     ]
    }
   ],
   "source": [
    "start_time = time.time()\n",
    "clf = AdaBoostClassifier(n_estimators=100, random_state=0)\n",
    "clf.fit(X_train, y_train)\n",
    "\n",
    "y_pred = clf.predict(X_test)\n",
    "print(f'Time training => {time.time() - start_time} seconds')"
   ],
   "metadata": {
    "collapsed": false,
    "pycharm": {
     "name": "#%%\n"
    }
   }
  },
  {
   "cell_type": "code",
   "execution_count": 226,
   "outputs": [
    {
     "name": "stdout",
     "output_type": "stream",
     "text": [
      "Time for prediction one data point => 0.007009029388427734 seconds\n"
     ]
    }
   ],
   "source": [
    "start_time = time.time()\n",
    "clf.predict(X_train.iloc[[0]])\n",
    "print(f'Time for prediction one data point => {time.time() - start_time} seconds')"
   ],
   "metadata": {
    "collapsed": false,
    "pycharm": {
     "name": "#%%\n"
    }
   }
  },
  {
   "cell_type": "code",
   "execution_count": 227,
   "outputs": [
    {
     "name": "stdout",
     "output_type": "stream",
     "text": [
      "Confusion matrix:\n"
     ]
    },
    {
     "data": {
      "text/plain": "<Figure size 640x480 with 2 Axes>",
      "image/png": "[encoded data removed]"
     },
     "metadata": {},
     "output_type": "display_data"
    }
   ],
   "source": [
    "cm = confusion_matrix(y_test, y_pred)\n",
    "print(\"Confusion matrix:\")\n",
    "cm_display = ConfusionMatrixDisplay(confusion_matrix=cm, display_labels=[0, 1])\n",
    "cm_display.plot()\n",
    "plt.show()"
   ],
   "metadata": {
    "collapsed": false,
    "pycharm": {
     "name": "#%%\n"
    }
   }
  },
  {
   "cell_type": "code",
   "execution_count": 228,
   "outputs": [
    {
     "name": "stdout",
     "output_type": "stream",
     "text": [
      "              precision    recall  f1-score   support\n",
      "\n",
      "           0       0.91      0.86      0.89        50\n",
      "           1       0.83      0.89      0.86        38\n",
      "\n",
      "    accuracy                           0.88        88\n",
      "   macro avg       0.87      0.88      0.87        88\n",
      "weighted avg       0.88      0.88      0.88        88\n",
      "\n"
     ]
    }
   ],
   "source": [
    "print(classification_report(y_test, y_pred))"
   ],
   "metadata": {
    "collapsed": false,
    "pycharm": {
     "name": "#%%\n"
    }
   }
  },
  {
   "cell_type": "markdown",
   "source": [
    "# Part i"
   ],
   "metadata": {
    "collapsed": false,
    "pycharm": {
     "name": "#%% md\n"
    }
   }
  },
  {
   "cell_type": "code",
   "execution_count": 284,
   "outputs": [
    {
     "name": "stdout",
     "output_type": "stream",
     "text": [
      "Time training => 0.024992942810058594 seconds\n"
     ]
    }
   ],
   "source": [
    "start_time = time.time()\n",
    "X, labels = data[columns_data[:-1]], data[columns_data[-1]]\n",
    "labels = labels.to_numpy()\n",
    "kmeans = KMeans(n_clusters=2, random_state=0)\n",
    "train_preds = kmeans.fit_predict(X_train)\n",
    "print(f'Time training => {time.time() - start_time} seconds')"
   ],
   "metadata": {
    "collapsed": false,
    "pycharm": {
     "name": "#%%\n"
    }
   }
  },
  {
   "cell_type": "code",
   "execution_count": 285,
   "outputs": [
    {
     "name": "stdout",
     "output_type": "stream",
     "text": [
      "Time for prediction one data point => 0.005000114440917969 seconds\n"
     ]
    }
   ],
   "source": [
    "start_time = time.time()\n",
    "kmeans.predict(X_test.iloc[[0]])\n",
    "print(f'Time for prediction one data point => {time.time() - start_time} seconds')"
   ],
   "metadata": {
    "collapsed": false,
    "pycharm": {
     "name": "#%%\n"
    }
   }
  },
  {
   "cell_type": "code",
   "execution_count": 279,
   "outputs": [],
   "source": [
    "pred_labels = kmeans.predict(X_test)"
   ],
   "metadata": {
    "collapsed": false,
    "pycharm": {
     "name": "#%%\n"
    }
   }
  },
  {
   "cell_type": "markdown",
   "source": [
    "voting"
   ],
   "metadata": {
    "collapsed": false,
    "pycharm": {
     "name": "#%% md\n"
    }
   }
  },
  {
   "cell_type": "code",
   "execution_count": 280,
   "outputs": [],
   "source": [
    "true_predict = 0\n",
    "false_predict = 0\n",
    "\n",
    "y_labels = y_train.to_numpy()\n",
    "for i in range(pred_labels.shape[0]):\n",
    "    if train_preds[i] == y_labels[i]:\n",
    "        true_predict += 1\n",
    "    else:\n",
    "        false_predict += 1\n",
    "\n",
    "if false_predict > true_predict:\n",
    "    #swap labels\n",
    "    pred_labels[pred_labels == 0] = -1\n",
    "    pred_labels[pred_labels == 1] = 0\n",
    "    pred_labels[pred_labels == -1] = 1"
   ],
   "metadata": {
    "collapsed": false,
    "pycharm": {
     "name": "#%%\n"
    }
   }
  },
  {
   "cell_type": "code",
   "execution_count": 282,
   "outputs": [
    {
     "name": "stdout",
     "output_type": "stream",
     "text": [
      "              precision    recall  f1-score   support\n",
      "\n",
      "           0       0.98      0.86      0.91        50\n",
      "           1       0.84      0.97      0.90        38\n",
      "\n",
      "    accuracy                           0.91        88\n",
      "   macro avg       0.91      0.92      0.91        88\n",
      "weighted avg       0.92      0.91      0.91        88\n",
      "\n"
     ]
    }
   ],
   "source": [
    "print(classification_report(y_test, pred_labels))"
   ],
   "metadata": {
    "collapsed": false,
    "pycharm": {
     "name": "#%%\n"
    }
   }
  },
  {
   "cell_type": "code",
   "execution_count": 283,
   "outputs": [
    {
     "name": "stdout",
     "output_type": "stream",
     "text": [
      "Confusion matrix:\n"
     ]
    },
    {
     "data": {
      "text/plain": "<Figure size 640x480 with 2 Axes>",
      "image/png": "[encoded data removed]"
     },
     "metadata": {},
     "output_type": "display_data"
    }
   ],
   "source": [
    "cm = confusion_matrix(y_test, pred_labels)\n",
    "print(\"Confusion matrix:\")\n",
    "cm_display = ConfusionMatrixDisplay(confusion_matrix=cm, display_labels=[0, 1])\n",
    "cm_display.plot()\n",
    "plt.show()"
   ],
   "metadata": {
    "collapsed": false,
    "pycharm": {
     "name": "#%%\n"
    }
   }
  },
  {
   "cell_type": "markdown",
   "source": [
    "# Part K"
   ],
   "metadata": {
    "collapsed": false,
    "pycharm": {
     "name": "#%% md\n"
    }
   }
  },
  {
   "cell_type": "code",
   "execution_count": 334,
   "outputs": [
    {
     "name": "stdout",
     "output_type": "stream",
     "text": [
      "Time training => 0.02799224853515625 seconds\n"
     ]
    }
   ],
   "source": [
    "start_time = time.time()\n",
    "kmeans = KMeans(n_clusters=3, random_state=0)\n",
    "train_preds = kmeans.fit_predict(X_train)\n",
    "print(f'Time training => {time.time() - start_time} seconds')"
   ],
   "metadata": {
    "collapsed": false,
    "pycharm": {
     "name": "#%%\n"
    }
   }
  },
  {
   "cell_type": "code",
   "execution_count": 335,
   "outputs": [
    {
     "data": {
      "text/plain": "array([[7.63005780e-01, 2.37024498e-01, 1.27199628e-01, 1.61849711e-01,\n        1.61849711e-01, 3.85060027e-01, 9.24855491e-02, 3.40036507e-02,\n        1.00000000e+00, 1.00000000e+00, 6.93889390e-17, 6.12716763e-01,\n        7.80346821e-02, 9.35693642e-02, 2.14647399e-03],\n       [7.20238095e-01, 3.04110922e-01, 1.76091624e-01, 9.52380952e-02,\n        9.52380952e-02, 4.34981685e-01, 8.63095238e-02, 1.15148287e-01,\n        1.25000000e-01, 3.39285714e-01, 5.68585643e-02, 8.88178420e-16,\n        1.78571429e-02, 1.01389881e-01, 7.78482143e-03],\n       [6.56050955e-01, 3.01043373e-01, 2.11479754e-01, 5.09554140e-02,\n        5.09554140e-02, 4.63498285e-01, 1.01910828e-01, 9.18918315e-02,\n        8.91719745e-02, 2.86624204e-01, 6.22682765e-02, 1.00000000e+00,\n        4.45859873e-02, 7.44235669e-02, 1.74276433e-02]])"
     },
     "execution_count": 335,
     "metadata": {},
     "output_type": "execute_result"
    }
   ],
   "source": [
    "kmeans.cluster_centers_"
   ],
   "metadata": {
    "collapsed": false,
    "pycharm": {
     "name": "#%%\n"
    }
   }
  },
  {
   "cell_type": "code",
   "execution_count": 336,
   "outputs": [],
   "source": [
    "clusters_label = KNN_model.predict(kmeans.cluster_centers_)"
   ],
   "metadata": {
    "collapsed": false,
    "pycharm": {
     "name": "#%%\n"
    }
   }
  },
  {
   "cell_type": "code",
   "execution_count": 337,
   "outputs": [],
   "source": [
    "import math\n",
    "def find_nearest_centroid_id(v: np.ndarray, list_of_vectors: np.ndarray):\n",
    "    m, _ = list_of_vectors.shape\n",
    "\n",
    "    min_index = 0\n",
    "    min_value = math.inf\n",
    "\n",
    "    # for each centroid\n",
    "    for i in range(m):\n",
    "        dist = np.linalg.norm(v - list_of_vectors[i, :])\n",
    "        if dist < min_value:\n",
    "            min_value = dist\n",
    "            min_index = i\n",
    "\n",
    "    return min_index"
   ],
   "metadata": {
    "collapsed": false,
    "pycharm": {
     "name": "#%%\n"
    }
   }
  },
  {
   "cell_type": "code",
   "execution_count": 338,
   "outputs": [],
   "source": [
    "def predict_by_Kmeans_multi_centroids(input: np.ndarray, centroid_labels, centroids: np.ndarray):\n",
    "    m, n = input.shape\n",
    "    labels = []\n",
    "\n",
    "    # for each data\n",
    "    for i in range(m):\n",
    "        centroid_index = find_nearest_centroid_id(input[i, :], centroids)\n",
    "        labels.append(centroid_labels[centroid_index])\n",
    "\n",
    "    labels = np.array(labels)\n",
    "    return labels"
   ],
   "metadata": {
    "collapsed": false,
    "pycharm": {
     "name": "#%%\n"
    }
   }
  },
  {
   "cell_type": "code",
   "execution_count": 341,
   "outputs": [
    {
     "name": "stdout",
     "output_type": "stream",
     "text": [
      "Time for prediction one data point => 0.0009996891021728516 seconds\n"
     ]
    }
   ],
   "source": [
    "start_time = time.time()\n",
    "y_pred = predict_by_Kmeans_multi_centroids(X_test.to_numpy(),clusters_label, kmeans.cluster_centers_)\n",
    "print(f'Time for prediction one data point => {time.time() - start_time} seconds')"
   ],
   "metadata": {
    "collapsed": false,
    "pycharm": {
     "name": "#%%\n"
    }
   }
  },
  {
   "cell_type": "code",
   "execution_count": 340,
   "outputs": [
    {
     "name": "stdout",
     "output_type": "stream",
     "text": [
      "              precision    recall  f1-score   support\n",
      "\n",
      "           0       0.98      0.86      0.91        50\n",
      "           1       0.84      0.97      0.90        38\n",
      "\n",
      "    accuracy                           0.91        88\n",
      "   macro avg       0.91      0.92      0.91        88\n",
      "weighted avg       0.92      0.91      0.91        88\n",
      "\n"
     ]
    }
   ],
   "source": [
    "print(classification_report(y_test, pred_labels))"
   ],
   "metadata": {
    "collapsed": false,
    "pycharm": {
     "name": "#%%\n"
    }
   }
  },
  {
   "cell_type": "code",
   "execution_count": 333,
   "outputs": [
    {
     "name": "stdout",
     "output_type": "stream",
     "text": [
      "Confusion matrix:\n"
     ]
    },
    {
     "data": {
      "text/plain": "<Figure size 640x480 with 2 Axes>",
      "image/png": "[encoded data removed]"
     },
     "metadata": {},
     "output_type": "display_data"
    }
   ],
   "source": [
    "cm = confusion_matrix(y_test, pred_labels)\n",
    "print(\"Confusion matrix:\")\n",
    "cm_display = ConfusionMatrixDisplay(confusion_matrix=cm, display_labels=[0, 1])\n",
    "cm_display.plot()\n",
    "plt.show()"
   ],
   "metadata": {
    "collapsed": false,
    "pycharm": {
     "name": "#%%\n"
    }
   }
  },
  {
   "cell_type": "code",
   "execution_count": null,
   "outputs": [],
   "source": [],
   "metadata": {
    "collapsed": false,
    "pycharm": {
     "name": "#%%\n"
    }
   }
  }
 ],
 "metadata": {
  "kernelspec": {
   "display_name": "Python 3",
   "language": "python",
   "name": "python3"
  },
  "language_info": {
   "codemirror_mode": {
    "name": "ipython",
    "version": 2
   },
   "file_extension": ".py",
   "mimetype": "text/x-python",
   "name": "python",
   "nbconvert_exporter": "python",
   "pygments_lexer": "ipython2",
   "version": "2.7.6"
  }
 },
 "nbformat": 4,
 "nbformat_minor": 0
}